{
 "cells": [
  {
   "cell_type": "code",
   "execution_count": 1,
   "id": "a1bd957b-bded-496f-80cd-ba7dac61e770",
   "metadata": {},
   "outputs": [],
   "source": [
    "import networkx as nx\n",
    "import numpy as np\n",
    "from rdflib import Graph, URIRef\n",
    "from rdflib.extras.external_graph_libs import rdflib_to_networkx_multidigraph\n",
    "from rdflib.namespace import RDF, RDFS, SOSA\n",
    "\n",
    "from viscars.data import DataLoader\n",
    "from viscars.namespace import DASHB\n",
    "from viscars.recommenders import Recommender\n",
    "from viscars.utils import visualize_graph"
   ]
  },
  {
   "cell_type": "code",
   "execution_count": 2,
   "id": "d4c534be-42f0-41de-a8bd-c0dfc6ac60e7",
   "metadata": {},
   "outputs": [],
   "source": [
    "class PPR(Recommender):\n",
    "\n",
    "    def __init__(self, graph: Graph, verbose=False, alpha=0.8, tol=10e-6):\n",
    "        super().__init__(graph, verbose)\n",
    "\n",
    "        self.alpha = alpha\n",
    "        self.tolerance = tol\n",
    "        self.personalization = None\n",
    "\n",
    "    def _build_model(self):\n",
    "        graph_ = Graph()\n",
    "        graph_ += self.graph.triples((None, None, None))\n",
    "\n",
    "        self.items = list(graph_.subjects(RDF.type, SOSA.ObservableProperty))\n",
    "        self.model = rdflib_to_networkx_multidigraph(graph_).to_undirected()\n",
    "\n",
    "    def set_personalization(self, weight_uid=0, weight_cid=0):\n",
    "        weight_others = 1 - weight_uid - weight_cid\n",
    "\n",
    "        if weight_uid == 0:\n",
    "            weight_uid = weight_others\n",
    "        if weight_cid == 0:\n",
    "            weight_cid = weight_others\n",
    "\n",
    "        self.personalization = (weight_uid, weight_cid, weight_others)\n",
    "\n",
    "    def _personalization(self, uid, cid):\n",
    "        personalization = {}\n",
    "\n",
    "        for node in self.model.nodes:\n",
    "            uri = str(node)\n",
    "            if uri in uid:\n",
    "                personalization[node] = self.personalization[0]\n",
    "            elif uri in cid:\n",
    "                personalization[node] = self.personalization[1]\n",
    "            else:\n",
    "                personalization[node] = self.personalization[2]\n",
    "\n",
    "        return personalization\n",
    "\n",
    "    def run(self, uid: [] = None, cid: [] = None):\n",
    "        if uid is not None and cid is not None:  # TODO: Check if UID and CID exist in graph -> ZeroDivisionError\n",
    "            weights = self._personalization(uid, cid)\n",
    "            return nx.pagerank(self.model, alpha=self.alpha, personalization=weights,\n",
    "                               tol=self.tolerance)\n",
    "\n",
    "        return nx.pagerank(self.model, alpha=self.alpha, tol=self.tolerance)\n",
    "\n",
    "    def predict(self, uid: [] = None, cid: [] = None, **kwargs):\n",
    "        pr = self.run(uid, cid)\n",
    "\n",
    "        recommendations = \\\n",
    "            [{'contextId': cid, 'itemId': item, 'score': p} for item, p in pr.items()\n",
    "             if item in self.items]\n",
    "        return sorted(recommendations, key=lambda n: n['score'], reverse=True)\n",
    "\n",
    "    def top_n(self, uid: [], cid: [], n: int, **kwargs):\n",
    "        pass\n"
   ]
  },
  {
   "cell_type": "code",
   "execution_count": 3,
   "id": "267e9263-fe7b-4fb8-a87e-734d6590947e",
   "metadata": {},
   "outputs": [],
   "source": [
    "graph = Graph()\n",
    "graph.parse(f'./data/protego/protego_zplus.ttl', format='n3')\n",
    "d_loader = DataLoader(graph)"
   ]
  },
  {
   "cell_type": "code",
   "execution_count": 4,
   "id": "3ed22eff-bedc-49c1-b307-470200b8ce41",
   "metadata": {},
   "outputs": [],
   "source": [
    "recommender = PPR(graph)"
   ]
  },
  {
   "cell_type": "code",
   "execution_count": 5,
   "id": "6f47d889-c2bb-4fbb-8164-0169597d1497",
   "metadata": {},
   "outputs": [],
   "source": [
    "patient = 'http://example.com/tx/patients/zplus_6'\n",
    "properties = []\n",
    "\n",
    "qry = f'''\n",
    "    PREFIX dashb: <https://docs.dynamicdashboard.ilabt.imec.be/ontologies/dashboard#>\n",
    "    PREFIX homelab: <https://dahcc.idlab.ugent.be/Homelab/SensorsAndWearables/>\n",
    "    PREFIX saref4ehaw: <https://saref.etsi.org/saref4ehaw/>\n",
    "    PREFIX sosa: <http://www.w3.org/ns/sosa/>\n",
    "    PREFIX ssn: <http://www.w3.org/ns/ssn/>\n",
    "    PREFIX ssn-ext: <http://localhost:8000/ontologies/ssn-extension/>\n",
    "    \n",
    "    SELECT ?property WHERE {{\n",
    "       <{patient}> a saref4ehaw:HealthActor .\n",
    "       \n",
    "        ?sensor ssn-ext:subSystemOf <{patient}> ;\n",
    "            sosa:observes ?property .\n",
    "    }}\n",
    "'''\n",
    "\n",
    "result = graph.query(qry)\n",
    "for row in result:\n",
    "    properties.append(row.property)"
   ]
  },
  {
   "cell_type": "code",
   "execution_count": 6,
   "id": "6c2d7350-fe3d-4a36-90b3-7adc7306aebc",
   "metadata": {},
   "outputs": [
    {
     "name": "stdout",
     "output_type": "stream",
     "text": [
      "[0.00012387912260783523] https://webthing.protego.dynamicdashboard.ilabt.imec.be/things/zplus_6.00%253A1C%253A05%253AFE%253A44%253A6B%252Fservice0029/properties/org.dyamand.types.health.SpO2\n",
      "[0.00012387912260783523] https://webthing.protego.dynamicdashboard.ilabt.imec.be/things/zplus_6.00%253A1C%253A05%253AFF%253AA9%253A4E%252Fservice0029/properties/org.dyamand.types.health.SpO2\n",
      "[0.0001238705253518723] https://webthing.protego.dynamicdashboard.ilabt.imec.be/things/zplus_6.60%253A77%253A71%253A7D%253A93%253AD7%252Fservice0009/properties/org.dyamand.types.health.GlucoseLevel\n",
      "[0.0001238705253518723] https://webthing.protego.dynamicdashboard.ilabt.imec.be/things/zplus_6.B0%253A91%253A22%253AFB%253AD0%253A78%252Fservice0009/properties/org.dyamand.types.health.GlucoseLevel\n",
      "[0.00012375897423791958] https://webthing.protego.dynamicdashboard.ilabt.imec.be/things/zplus_6.F8%253A33%253A31%253A46%253A6E%253A0B%252Fservice0010/properties/org.dyamand.types.health.BodyTemperature\n",
      "[0.00012375897423791958] https://webthing.protego.dynamicdashboard.ilabt.imec.be/things/zplus_6.F8%253A33%253A31%253A46%253A7F.D0%252Fservice0010/properties/org.dyamand.types.health.BodyTemperature\n",
      "[0.00012055832302042624] https://webthing.protego.dynamicdashboard.ilabt.imec.be/things/zplus_6.00%253A9D%253A6B%253A89%253A43%253ACD%252Fservice0025/properties/org.dyamand.types.health.SystolicBloodPressure\n",
      "[0.00012055832302042624] https://webthing.protego.dynamicdashboard.ilabt.imec.be/things/zplus_6.00%253A9D%253A6B%253A89%253A43%253ACD%252Fservice0025/properties/org.dyamand.types.health.DiastolicBloodPressure\n",
      "[0.0001204562801342622] https://webthing.protego.dynamicdashboard.ilabt.imec.be/things/zplus_6.00%253A9D%253A6B%253A89%253A43%253ACD%252Fservice0025/properties/org.dyamand.types.health.HeartRate\n"
     ]
    }
   ],
   "source": [
    "recommendations = recommender.predict(uid=[URIRef(patient)])\n",
    "\n",
    "filtered = []\n",
    "for r in recommendations:\n",
    "    if r['itemId'] in properties:\n",
    "        filtered.append(r)\n",
    "\n",
    "for r in filtered:\n",
    "    item = str(r['itemId'])\n",
    "    score = r['score']\n",
    "    print(f'[{score}] {item}')"
   ]
  },
  {
   "cell_type": "code",
   "execution_count": 7,
   "id": "9e84d979-4ba9-4949-be8f-92e3d1535ae8",
   "metadata": {},
   "outputs": [
    {
     "name": "stdout",
     "output_type": "stream",
     "text": [
      "[rdflib.term.URIRef('http://example.com/tx/diseases/Diabetes'), rdflib.term.URIRef('http://example.com/tx/diseases/Hypoglycemia')]\n"
     ]
    }
   ],
   "source": [
    "diseases = []\n",
    "\n",
    "qry = f'''\n",
    "    PREFIX dashb: <https://docs.dynamicdashboard.ilabt.imec.be/ontologies/dashboard#>\n",
    "    PREFIX homelab: <https://dahcc.idlab.ugent.be/Homelab/SensorsAndWearables/>\n",
    "    PREFIX saref4ehaw: <https://saref.etsi.org/saref4ehaw/>\n",
    "    PREFIX sosa: <http://www.w3.org/ns/sosa/>\n",
    "    PREFIX ssn: <http://www.w3.org/ns/ssn/>\n",
    "    PREFIX ssn-ext: <http://localhost:8000/ontologies/ssn-extension/>\n",
    "    \n",
    "    SELECT ?disease WHERE {{\n",
    "       <{patient}> a saref4ehaw:HealthActor ;\n",
    "           saref4ehaw:hasChronicDisease ?disease .\n",
    "    }}\n",
    "'''\n",
    "\n",
    "result = graph.query(qry)\n",
    "\n",
    "for row in result:\n",
    "    diseases.append(row[0])\n",
    "    \n",
    "print(diseases)"
   ]
  },
  {
   "cell_type": "markdown",
   "id": "b01a7464-756c-4de5-bbd0-9196e86913b8",
   "metadata": {},
   "source": [
    "## Using PropertyClasses"
   ]
  },
  {
   "cell_type": "code",
   "execution_count": 8,
   "id": "c8ce46f8-9c68-49aa-9e40-5ad7f3a08d35",
   "metadata": {},
   "outputs": [
    {
     "name": "stdout",
     "output_type": "stream",
     "text": [
      "[rdflib.term.URIRef('https://dahcc.idlab.ugent.be/Homelab/SensorsAndWearables/org.dyamand.types.health.SpO2'), rdflib.term.URIRef('https://dahcc.idlab.ugent.be/Homelab/SensorsAndWearables/org.dyamand.types.health.SpO2'), rdflib.term.URIRef('https://dahcc.idlab.ugent.be/Homelab/SensorsAndWearables/org.dyamand.types.health.HeartRate'), rdflib.term.URIRef('https://dahcc.idlab.ugent.be/Homelab/SensorsAndWearables/org.dyamand.types.health.SystolicBloodPressure'), rdflib.term.URIRef('https://dahcc.idlab.ugent.be/Homelab/SensorsAndWearables/org.dyamand.types.health.GlucoseLevel'), rdflib.term.URIRef('https://dahcc.idlab.ugent.be/Homelab/SensorsAndWearables/org.dyamand.types.health.GlucoseLevel'), rdflib.term.URIRef('https://dahcc.idlab.ugent.be/Homelab/SensorsAndWearables/org.dyamand.types.health.DiastolicBloodPressure'), rdflib.term.URIRef('https://dahcc.idlab.ugent.be/Homelab/SensorsAndWearables/org.dyamand.types.health.BodyTemperature'), rdflib.term.URIRef('https://dahcc.idlab.ugent.be/Homelab/SensorsAndWearables/org.dyamand.types.health.BodyTemperature')]\n"
     ]
    }
   ],
   "source": [
    "patient = 'http://example.com/tx/patients/zplus_6'\n",
    "properties_classes = []\n",
    "\n",
    "qry = f'''\n",
    "    PREFIX dashb: <https://docs.dynamicdashboard.ilabt.imec.be/ontologies/dashboard#>\n",
    "    PREFIX homelab: <https://dahcc.idlab.ugent.be/Homelab/SensorsAndWearables/>\n",
    "    PREFIX saref4ehaw: <https://saref.etsi.org/saref4ehaw/>\n",
    "    PREFIX sosa: <http://www.w3.org/ns/sosa/>\n",
    "    PREFIX ssn: <http://www.w3.org/ns/ssn/>\n",
    "    PREFIX ssn-ext: <http://localhost:8000/ontologies/ssn-extension/>\n",
    "    \n",
    "    SELECT ?propertyClass WHERE {{\n",
    "       <{patient}> a saref4ehaw:HealthActor .\n",
    "       \n",
    "        ?sensor ssn-ext:subSystemOf <{patient}> ;\n",
    "            sosa:observes ?property .\n",
    "        \n",
    "        ?property a ?propertyClass .\n",
    "        ?propertyClass a sosa:ObservableProperty .\n",
    "    }}\n",
    "'''\n",
    "\n",
    "result = graph.query(qry)\n",
    "for row in result:\n",
    "    properties_classes.append(row.propertyClass)\n",
    "    \n",
    "print(properties_classes)"
   ]
  },
  {
   "cell_type": "code",
   "execution_count": 9,
   "id": "39eb799e-b36c-4412-a734-36bfebccfd30",
   "metadata": {},
   "outputs": [
    {
     "name": "stdout",
     "output_type": "stream",
     "text": [
      "[0.006879678394632745] https://dahcc.idlab.ugent.be/Homelab/SensorsAndWearables/org.dyamand.types.health.SpO2\n",
      "[0.006876259676209813] https://dahcc.idlab.ugent.be/Homelab/SensorsAndWearables/org.dyamand.types.health.GlucoseLevel\n",
      "[0.006804291825378031] https://dahcc.idlab.ugent.be/Homelab/SensorsAndWearables/org.dyamand.types.health.BodyTemperature\n",
      "[0.003280178973683055] https://dahcc.idlab.ugent.be/Homelab/SensorsAndWearables/org.dyamand.types.health.DiastolicBloodPressure\n",
      "[0.0032801789736830542] https://dahcc.idlab.ugent.be/Homelab/SensorsAndWearables/org.dyamand.types.health.SystolicBloodPressure\n",
      "[0.0032213942973431204] https://dahcc.idlab.ugent.be/Homelab/SensorsAndWearables/org.dyamand.types.health.HeartRate\n"
     ]
    }
   ],
   "source": [
    "recommendations = recommender.predict(uid=[URIRef(patient)])\n",
    "\n",
    "filtered = []\n",
    "for r in recommendations:\n",
    "    if r['itemId'] in properties_classes:\n",
    "        filtered.append(r)\n",
    "\n",
    "for r in filtered:\n",
    "    item = str(r['itemId'])\n",
    "    score = r['score']\n",
    "    print(f'[{score}] {item}')"
   ]
  },
  {
   "cell_type": "markdown",
   "id": "0bfaa93e-dd0a-45de-9c68-33408d8d86df",
   "metadata": {},
   "source": [
    "## Removing Sensor Metadata"
   ]
  },
  {
   "cell_type": "code",
   "execution_count": null,
   "id": "8d093dfd-cc5f-4966-b9b3-af57e3fb125c",
   "metadata": {},
   "outputs": [],
   "source": []
  }
 ],
 "metadata": {
  "kernelspec": {
   "display_name": "Python 3 (ipykernel)",
   "language": "python",
   "name": "python3"
  },
  "language_info": {
   "codemirror_mode": {
    "name": "ipython",
    "version": 3
   },
   "file_extension": ".py",
   "mimetype": "text/x-python",
   "name": "python",
   "nbconvert_exporter": "python",
   "pygments_lexer": "ipython3",
   "version": "3.9.12"
  }
 },
 "nbformat": 4,
 "nbformat_minor": 5
}
