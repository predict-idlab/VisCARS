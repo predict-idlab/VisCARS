{
 "cells": [
  {
   "cell_type": "code",
   "execution_count": 1,
   "id": "c7cff6a0",
   "metadata": {},
   "outputs": [],
   "source": [
    "import networkx as nx\n",
    "import numpy as np\n",
    "import pandas as pd\n",
    "from rdflib import Graph, URIRef\n",
    "from rdflib.extras.external_graph_libs import rdflib_to_networkx_multidigraph\n",
    "from rdflib.namespace import RDF, RDFS, SOSA\n",
    "from sklearn.model_selection import KFold\n",
    "from tqdm import tqdm\n",
    "\n",
    "from viscars.data import DataLoader\n",
    "from viscars.evaluation.evaluators import Evaluator\n",
    "from viscars.evaluation.metrics import MetricType\n",
    "from viscars.evaluation.metrics.factory import MetricFactory\n",
    "from viscars.namespace import DASHB\n",
    "from viscars.recommenders import Recommender\n",
    "from viscars.utils import visualize_graph"
   ]
  },
  {
   "cell_type": "code",
   "execution_count": 2,
   "id": "391da38a",
   "metadata": {},
   "outputs": [],
   "source": [
    "class PPR(Recommender):\n",
    "\n",
    "    def __init__(self, graph: Graph, verbose=False, alpha=0.8, tol=10e-6):\n",
    "        super().__init__(graph, verbose)\n",
    "\n",
    "        self.alpha = alpha\n",
    "        self.tolerance = tol\n",
    "        self.personalization = None\n",
    "\n",
    "    def _build_model(self):\n",
    "        graph_ = Graph()\n",
    "        graph_ += self.graph.triples((None, None, None))\n",
    "\n",
    "        self.items = list(graph_.subjects(RDF.type, SOSA.ObservableProperty))\n",
    "        self.model = rdflib_to_networkx_multidigraph(graph_).to_undirected()\n",
    "\n",
    "    def set_personalization(self, weight_uid=0, weight_cid=0):\n",
    "        weight_others = 1 - weight_uid - weight_cid\n",
    "\n",
    "        if weight_uid == 0:\n",
    "            weight_uid = weight_others\n",
    "        if weight_cid == 0:\n",
    "            weight_cid = weight_others\n",
    "\n",
    "        self.personalization = (weight_uid, weight_cid, weight_others)\n",
    "\n",
    "    def _personalization(self, uid, cid):\n",
    "        personalization = {}\n",
    "\n",
    "        for node in self.model.nodes:\n",
    "            uri = str(node)\n",
    "            if uri in uid:\n",
    "                personalization[node] = self.personalization[0]\n",
    "            elif uri in cid:\n",
    "                personalization[node] = self.personalization[1]\n",
    "            else:\n",
    "                personalization[node] = self.personalization[2]\n",
    "\n",
    "        return personalization\n",
    "\n",
    "    def run(self, uid: [] = None, cid: [] = None):\n",
    "        if uid is not None and cid is not None:  # TODO: Check if UID and CID exist in graph -> ZeroDivisionError\n",
    "            weights = self._personalization(uid, cid)\n",
    "            return nx.pagerank(self.model, alpha=self.alpha, personalization=weights,\n",
    "                               tol=self.tolerance)\n",
    "\n",
    "        return nx.pagerank(self.model, alpha=self.alpha, tol=self.tolerance)\n",
    "\n",
    "    def predict(self, uid: [] = None, cid: [] = None, **kwargs):\n",
    "        pr = self.run(uid, cid)\n",
    "        \n",
    "        items_ = []\n",
    "        qry = f'''\n",
    "            PREFIX dashb: <http://dynamicdashboard.ilabt.imec.be/broker/ontologies/dashboard#>\n",
    "            PREFIX sosa: <http://www.w3.org/ns/sosa/>\n",
    "            PREFIX ssn-ext: <http://dynamicdashboard.ilabt.imec.be/broker/ontologies/ssn-extension/>\n",
    "\n",
    "            SELECT ?property WHERE {{      \n",
    "                ?sensor ssn-ext:subSystemOf <{patient}> ;\n",
    "                    sosa:observes ?property .\n",
    "            }}\n",
    "        '''\n",
    "        items_ = [property_[0] for property_ in self.graph.query(qry)]\n",
    "\n",
    "        recommendations = \\\n",
    "            [{'contextId': str(cid), 'itemId': str(item), 'score': p} for item, p in pr.items()\n",
    "             if item in items_]\n",
    "        return sorted(recommendations, key=lambda n: n['score'], reverse=True)\n",
    "\n",
    "    def top_n(self, uid: [], cid: [], n: int, **kwargs):\n",
    "        pass\n"
   ]
  },
  {
   "cell_type": "code",
   "execution_count": 3,
   "id": "831c9189",
   "metadata": {},
   "outputs": [],
   "source": [
    "graph = Graph()\n",
    "graph.parse(f'./data/protego/graph.ttl', format='n3')\n",
    "graph.parse(f'./data/protego/protego_zplus.ttl', format='n3')\n",
    "d_loader = DataLoader(graph)"
   ]
  },
  {
   "cell_type": "code",
   "execution_count": 4,
   "id": "f0f09951",
   "metadata": {},
   "outputs": [],
   "source": [
    "recommender = PPR(graph)\n",
    "recommender.set_personalization(0.7, 0.3)"
   ]
  },
  {
   "cell_type": "code",
   "execution_count": 5,
   "id": "950d29d8",
   "metadata": {},
   "outputs": [],
   "source": [
    "patient = 'http://example.com/tx/patients/zplus_6'\n",
    "properties = []\n",
    "\n",
    "qry = f'''\n",
    "    PREFIX dashb: <http://dynamicdashboard.ilabt.imec.be/broker/ontologies/dashboard#>\n",
    "    PREFIX sosa: <http://www.w3.org/ns/sosa/>\n",
    "    PREFIX ssn-ext: <http://dynamicdashboard.ilabt.imec.be/broker/ontologies/ssn-extension/>\n",
    "    \n",
    "    SELECT ?property WHERE {{      \n",
    "        ?sensor ssn-ext:subSystemOf <{patient}> ;\n",
    "            sosa:observes ?property .\n",
    "    }}\n",
    "'''\n",
    "\n",
    "result = graph.query(qry)\n",
    "for row in result:\n",
    "    properties.append(row.property)"
   ]
  },
  {
   "cell_type": "code",
   "execution_count": 6,
   "id": "cbf58bc5",
   "metadata": {},
   "outputs": [
    {
     "name": "stdout",
     "output_type": "stream",
     "text": [
      "[0.001148031328737956] https://webthing.protego.dynamicdashboard.ilabt.imec.be/things/zplus_6.lifestyle/properties/enriched-call\n",
      "[0.0010976117838766152] https://webthing.protego.dynamicdashboard.ilabt.imec.be/things/zplus_6.60%253A77%253A71%253A7D%253A93%253AD7%252Fservice0009/properties/org.dyamand.types.health.GlucoseLevel\n",
      "[0.0008632407731234491] https://webthing.protego.dynamicdashboard.ilabt.imec.be/things/zplus_6.B0%253A91%253A22%253AFB%253AD0%253A78%252Fservice0009/properties/org.dyamand.types.health.GlucoseLevel\n",
      "[0.0008614956191866942] https://webthing.protego.dynamicdashboard.ilabt.imec.be/things/zplus_6.00%253A1C%253A05%253AFE%253A44%253A6B%252Fservice0029/properties/org.dyamand.types.health.SpO2\n",
      "[0.0008614619872436425] https://webthing.protego.dynamicdashboard.ilabt.imec.be/things/zplus_6.00%253A1C%253A05%253AFF%253AA9%253A4E%252Fservice0029/properties/org.dyamand.types.health.SpO2\n",
      "[0.0008602570567442537] https://webthing.protego.dynamicdashboard.ilabt.imec.be/things/zplus_6.F8%253A33%253A31%253A46%253A6E%253A0B%252Fservice0010/properties/org.dyamand.types.health.BodyTemperature\n",
      "[0.0008602568030618883] https://webthing.protego.dynamicdashboard.ilabt.imec.be/things/zplus_6.F8%253A33%253A31%253A46%253A7F.D0%252Fservice0010/properties/org.dyamand.types.health.BodyTemperature\n",
      "[0.0005824294029206971] https://webthing.protego.dynamicdashboard.ilabt.imec.be/things/zplus_6.00%253A9D%253A6B%253A89%253A43%253ACD%252Fservice0025/properties/org.dyamand.types.health.DiastolicBloodPressure\n",
      "[0.0005824294029206971] https://webthing.protego.dynamicdashboard.ilabt.imec.be/things/zplus_6.00%253A9D%253A6B%253A89%253A43%253ACD%252Fservice0025/properties/org.dyamand.types.health.SystolicBloodPressure\n",
      "[0.0005802690728236411] https://webthing.protego.dynamicdashboard.ilabt.imec.be/things/zplus_6.00%253A9D%253A6B%253A89%253A43%253ACD%252Fservice0025/properties/org.dyamand.types.health.HeartRate\n"
     ]
    }
   ],
   "source": [
    "recommendations = recommender.predict(['https://dynamicdashboard.ilabt.imec.be/users/10'], ['http://example.com/tx/patients/zplus_6'])\n",
    "\n",
    "for r in recommendations:\n",
    "    item = str(r['itemId'])\n",
    "    score = r['score']\n",
    "    print(f'[{score}] {item}')"
   ]
  },
  {
   "cell_type": "code",
   "execution_count": 7,
   "id": "1702d0f9",
   "metadata": {},
   "outputs": [
    {
     "name": "stdout",
     "output_type": "stream",
     "text": [
      "[rdflib.term.URIRef('http://example.com/tx/diseases/Diabetes'), rdflib.term.URIRef('http://example.com/tx/diseases/Hypoglycemia')]\n"
     ]
    }
   ],
   "source": [
    "diseases = []\n",
    "\n",
    "qry = f'''\n",
    "    PREFIX dashb:<http://dynamicdashboard.ilabt.imec.be/broker/ontologies/dashboard#>\n",
    "    PREFIX saref4ehaw: <https://saref.etsi.org/saref4ehaw/>\n",
    "    \n",
    "    SELECT ?disease WHERE {{\n",
    "       <{patient}> a saref4ehaw:HealthActor ;\n",
    "           saref4ehaw:hasChronicDisease ?disease .\n",
    "    }}\n",
    "'''\n",
    "\n",
    "result = graph.query(qry)\n",
    "\n",
    "for row in result:\n",
    "    diseases.append(row[0])\n",
    "    \n",
    "print(diseases)"
   ]
  },
  {
   "cell_type": "markdown",
   "id": "82a3575a",
   "metadata": {},
   "source": [
    "## Using PropertyClasses"
   ]
  },
  {
   "cell_type": "code",
   "execution_count": 8,
   "id": "c567e18c",
   "metadata": {},
   "outputs": [
    {
     "name": "stdout",
     "output_type": "stream",
     "text": [
      "[rdflib.term.URIRef('https://dahcc.idlab.ugent.be/Homelab/SensorsAndWearables/org.dyamand.types.health.BodyTemperature'), rdflib.term.URIRef('https://dahcc.idlab.ugent.be/Homelab/SensorsAndWearables/org.dyamand.types.health.BodyTemperature'), rdflib.term.URIRef('https://dahcc.idlab.ugent.be/Homelab/SensorsAndWearables/org.dyamand.types.health.SpO2'), rdflib.term.URIRef('https://dahcc.idlab.ugent.be/Homelab/SensorsAndWearables/org.dyamand.types.health.SpO2'), rdflib.term.URIRef('https://dahcc.idlab.ugent.be/Homelab/SensorsAndWearables/org.dyamand.types.health.DiastolicBloodPressure'), rdflib.term.URIRef('https://dahcc.idlab.ugent.be/Homelab/SensorsAndWearables/org.dyamand.types.health.GlucoseLevel'), rdflib.term.URIRef('https://dahcc.idlab.ugent.be/Homelab/SensorsAndWearables/org.dyamand.types.health.GlucoseLevel'), rdflib.term.URIRef('https://dahcc.idlab.ugent.be/Homelab/SensorsAndWearables/org.dyamand.types.health.SystolicBloodPressure'), rdflib.term.URIRef('https://dahcc.idlab.ugent.be/Homelab/SensorsAndWearables/org.dyamand.types.health.HeartRate')]\n"
     ]
    }
   ],
   "source": [
    "patient = 'http://example.com/tx/patients/zplus_6'\n",
    "properties_classes = []\n",
    "\n",
    "qry = f'''\n",
    "    PREFIX dashb: <http://dynamicdashboard.ilabt.imec.be/broker/ontologies/dashboard#>\n",
    "    PREFIX sosa: <http://www.w3.org/ns/sosa/>\n",
    "    PREFIX ssn-ext: <http://dynamicdashboard.ilabt.imec.be/broker/ontologies/ssn-extension/>\n",
    "    \n",
    "    SELECT ?propertyClass WHERE {{      \n",
    "        ?sensor ssn-ext:subSystemOf <{patient}> ;\n",
    "            sosa:observes ?property .\n",
    "        \n",
    "        ?property a ?propertyClass .\n",
    "        ?propertyClass a sosa:ObservableProperty .\n",
    "    }}\n",
    "'''\n",
    "\n",
    "result = graph.query(qry)\n",
    "for row in result:\n",
    "    properties_classes.append(row.propertyClass)\n",
    "    \n",
    "print(properties_classes)"
   ]
  },
  {
   "cell_type": "code",
   "execution_count": 9,
   "id": "d585ad65",
   "metadata": {},
   "outputs": [
    {
     "name": "stdout",
     "output_type": "stream",
     "text": [
      "[0.001148031328737956] https://webthing.protego.dynamicdashboard.ilabt.imec.be/things/zplus_6.lifestyle/properties/enriched-call\n",
      "[0.0010976117838766152] https://webthing.protego.dynamicdashboard.ilabt.imec.be/things/zplus_6.60%253A77%253A71%253A7D%253A93%253AD7%252Fservice0009/properties/org.dyamand.types.health.GlucoseLevel\n",
      "[0.0008632407731234491] https://webthing.protego.dynamicdashboard.ilabt.imec.be/things/zplus_6.B0%253A91%253A22%253AFB%253AD0%253A78%252Fservice0009/properties/org.dyamand.types.health.GlucoseLevel\n",
      "[0.0008614956191866942] https://webthing.protego.dynamicdashboard.ilabt.imec.be/things/zplus_6.00%253A1C%253A05%253AFE%253A44%253A6B%252Fservice0029/properties/org.dyamand.types.health.SpO2\n",
      "[0.0008614619872436425] https://webthing.protego.dynamicdashboard.ilabt.imec.be/things/zplus_6.00%253A1C%253A05%253AFF%253AA9%253A4E%252Fservice0029/properties/org.dyamand.types.health.SpO2\n",
      "[0.0008602570567442537] https://webthing.protego.dynamicdashboard.ilabt.imec.be/things/zplus_6.F8%253A33%253A31%253A46%253A6E%253A0B%252Fservice0010/properties/org.dyamand.types.health.BodyTemperature\n",
      "[0.0008602568030618883] https://webthing.protego.dynamicdashboard.ilabt.imec.be/things/zplus_6.F8%253A33%253A31%253A46%253A7F.D0%252Fservice0010/properties/org.dyamand.types.health.BodyTemperature\n",
      "[0.0005824294029206971] https://webthing.protego.dynamicdashboard.ilabt.imec.be/things/zplus_6.00%253A9D%253A6B%253A89%253A43%253ACD%252Fservice0025/properties/org.dyamand.types.health.DiastolicBloodPressure\n",
      "[0.0005824294029206971] https://webthing.protego.dynamicdashboard.ilabt.imec.be/things/zplus_6.00%253A9D%253A6B%253A89%253A43%253ACD%252Fservice0025/properties/org.dyamand.types.health.SystolicBloodPressure\n",
      "[0.0005802690728236411] https://webthing.protego.dynamicdashboard.ilabt.imec.be/things/zplus_6.00%253A9D%253A6B%253A89%253A43%253ACD%252Fservice0025/properties/org.dyamand.types.health.HeartRate\n"
     ]
    }
   ],
   "source": [
    "recommendations = recommender.predict(['https://dynamicdashboard.ilabt.imec.be/users/10'], ['http://example.com/tx/patients/zplus_6'])\n",
    "\n",
    "for r in recommendations:\n",
    "    item = str(r['itemId'])\n",
    "    score = r['score']\n",
    "    print(f'[{score}] {item}')"
   ]
  },
  {
   "cell_type": "markdown",
   "id": "9740df15",
   "metadata": {},
   "source": [
    "# Evaluation"
   ]
  },
  {
   "cell_type": "code",
   "execution_count": 10,
   "id": "817b41ea",
   "metadata": {},
   "outputs": [],
   "source": [
    "qry = '''\n",
    "    PREFIX dashb: <http://dynamicdashboard.ilabt.imec.be/broker/ontologies/dashboard#>\n",
    "    PREFIX sosa: <http://www.w3.org/ns/sosa/>\n",
    "    PREFIX ssn-ext: <http://dynamicdashboard.ilabt.imec.be/broker/ontologies/ssn-extension/>\n",
    "\n",
    "    SELECT ?user ?context ?property WHERE {\n",
    "        ?sensor ssn-ext:subSystemOf ?context ;\n",
    "            sosa:observes ?property .\n",
    "            \n",
    "        ?widget dashb:hasProperty ?property ;\n",
    "                dashb:createdBy ?user .                \n",
    "    }\n",
    "'''\n",
    "\n",
    "ratings = {'user': [], 'item': [], 'rating': [], 'context': []}\n",
    "for row in graph.query(qry):\n",
    "    user_ = row[0]\n",
    "    context_ = row[1]\n",
    "    item_ = row[2]\n",
    "    \n",
    "    ratings.get('user').append(user_)\n",
    "    ratings.get('item').append(item_)\n",
    "    ratings.get('rating').append(5.0)\n",
    "    ratings.get('context').append(context_)\n",
    "ratings_df = pd.DataFrame.from_dict(ratings)"
   ]
  },
  {
   "cell_type": "code",
   "execution_count": 11,
   "id": "f7eefa3a",
   "metadata": {},
   "outputs": [],
   "source": [
    "# Context metadata\n",
    "qry = '''\n",
    "    PREFIX dashb: <http://dynamicdashboard.ilabt.imec.be/broker/ontologies/dashboard#>\n",
    "    PREFIX sosa: <http://www.w3.org/ns/sosa/>\n",
    "    PREFIX ssn-ext: <http://dynamicdashboard.ilabt.imec.be/broker/ontologies/ssn-extension/>\n",
    "\n",
    "    SELECT ?context WHERE {\n",
    "        ?sensor ssn-ext:subSystemOf ?context ;\n",
    "            sosa:observes ?property .\n",
    "    }\n",
    "'''\n",
    "context_metadata = {'id': []}\n",
    "\n",
    "result = graph.query(qry)\n",
    "for row in result:\n",
    "    context_metadata.get('id').append(row[0])\n",
    "context_metadata_df = pd.DataFrame.from_dict(context_metadata)\n",
    "\n",
    "# User metadata\n",
    "qry = '''\n",
    "    PREFIX dashb: <http://dynamicdashboard.ilabt.imec.be/broker/ontologies/dashboard#>\n",
    "\n",
    "    SELECT ?user ?username ?role WHERE {\n",
    "        ?user dashb:memberOf ?role .\n",
    "    }\n",
    "'''\n",
    "user_metadata = {'id': [], 'type': []}\n",
    "\n",
    "result = graph.query(qry)\n",
    "for row in result:\n",
    "    user_metadata.get('id').append(row[0])\n",
    "    user_metadata.get('type').append(row[1])\n",
    "user_metadata_df = pd.DataFrame.from_dict(user_metadata)\n",
    "\n",
    "# Item metadata\n",
    "qry = '''\n",
    "    PREFIX dashb: <http://dynamicdashboard.ilabt.imec.be/broker/ontologies/dashboard#>\n",
    "    PREFIX sosa: <http://www.w3.org/ns/sosa/>\n",
    "\n",
    "    SELECT ?property WHERE {\n",
    "        ?property a sosa:ObservableProperty .\n",
    "    }\n",
    "'''\n",
    "item_metadata = {'id': []}\n",
    "\n",
    "result = graph.query(qry)\n",
    "for row in result:\n",
    "    item_metadata.get('id').append(row[0])\n",
    "item_metadata_df = pd.DataFrame.from_dict(item_metadata)\n",
    "\n",
    "\n",
    "def build_subgraph_from_ratings(ratings: pd.DataFrame) -> Graph:\n",
    "    sub_graph = Graph()\n",
    "\n",
    "    for idx, row in context_metadata_df.iterrows():\n",
    "        cid = row['id']\n",
    "        sub_graph += graph.triples((cid, None, None))\n",
    "        sub_graph += graph.triples((None, None, cid))\n",
    "\n",
    "    for idx, row in user_metadata_df.iterrows():\n",
    "        uid = row['id']\n",
    "        sub_graph += graph.triples((uid, DASHB.memberOf, None))\n",
    "\n",
    "    for idx, row in item_metadata_df.iterrows():\n",
    "        iid = row['id']\n",
    "        sub_graph += graph.triples((iid, None, None))\n",
    "        sub_graph += graph.triples((None, None, iid))\n",
    "\n",
    "    for idx, row in ratings.iterrows():\n",
    "        uid = row['user']\n",
    "        iid = row['item']\n",
    "        cid = row['context']\n",
    "\n",
    "        sub_graph += graph.triples((uid, None, None))\n",
    "        sub_graph += graph.triples((None, None, uid))\n",
    "        sub_graph += graph.triples((iid, None, None))\n",
    "        sub_graph += graph.triples((None, None, iid))\n",
    "\n",
    "        sub_graph += graph.triples((cid, None, None))\n",
    "        sub_graph += graph.triples((None, None, cid))\n",
    "\n",
    "    return sub_graph"
   ]
  },
  {
   "cell_type": "code",
   "execution_count": 12,
   "id": "bc3ce9ab",
   "metadata": {},
   "outputs": [],
   "source": [
    "class KFoldCrossValidation():\n",
    "\n",
    "    def __init__(self, recommender: Recommender, metrics: [], k=5):\n",
    "        \"\"\"\n",
    "        :param project_id: ID of the project (to load the correct data).\n",
    "        :param recommender: Recommender\n",
    "        :param metrics: List of Metrics\n",
    "        :param k: Number of folds\n",
    "        \"\"\"\n",
    "        self.recommender = recommender\n",
    "        self.metrics = metrics\n",
    "        self.k = k\n",
    "\n",
    "    def evaluate(self, ratings, **kwargs):\n",
    "        kf = KFold(n_splits=self.k, shuffle=True)\n",
    "\n",
    "        n_fold = 0\n",
    "\n",
    "        result = {'folds': [], 'result': {}}\n",
    "        for train_idx, test_idx in kf.split(ratings):\n",
    "            train = ratings.iloc[train_idx]\n",
    "            test = ratings.iloc[test_idx]\n",
    "\n",
    "            graph = build_subgraph_from_ratings(train)\n",
    "            self.recommender.set_graph(graph)\n",
    "\n",
    "            fold_scores = {}\n",
    "\n",
    "            for uid in tqdm(test['user'].unique()):\n",
    "                df_user = test.loc[test['user'] == uid]\n",
    "\n",
    "                for cid in df_user['context']:\n",
    "                    print(uid, cid)\n",
    "                    predictions = self.recommender.predict([uid], [cid], **kwargs)\n",
    "                    recommendations = [r['itemId'] for r in predictions]\n",
    "\n",
    "                    truth = []\n",
    "                    t_user = test.loc[test['user'] == uid]\n",
    "                    for idx, row in t_user.iterrows():\n",
    "                        if row['context'] == cid:\n",
    "                            truth.append(str(row['item']))\n",
    "                    # truth = list(test.loc[test['user'] == uid].loc[test['context'] == cid]['item'])\n",
    "                    print(recommendations, truth)\n",
    "\n",
    "                    for metric in self.metrics:\n",
    "                        if str(metric) not in fold_scores.keys():\n",
    "                            fold_scores[str(metric)] = []\n",
    "                        score = metric.calculate(recommendations, truth)\n",
    "                        fold_scores[str(metric)].append(score)\n",
    "\n",
    "            result_for_fold = {}\n",
    "            for metric, scores in fold_scores.items():\n",
    "                avg = sum(scores) / len(scores)\n",
    "                result_for_fold[metric] = avg\n",
    "\n",
    "                if metric not in result['result'].keys():\n",
    "                    result['result'][metric] = []\n",
    "                result['result'][metric].append(avg)\n",
    "            result['folds'].append(result_for_fold)\n",
    "\n",
    "            n_fold += 1\n",
    "\n",
    "        final_results = {}\n",
    "        for metric_type, score in result['result'].items():\n",
    "            final_results[metric_type] = sum(score) / len(score)\n",
    "\n",
    "        result['result'] = final_results\n",
    "        return result"
   ]
  },
  {
   "cell_type": "code",
   "execution_count": 13,
   "id": "ce8010af",
   "metadata": {},
   "outputs": [],
   "source": [
    "metric_factory = MetricFactory()\n",
    "\n",
    "metrics = ['f1@1', 'ndcg@1', 'ndcg@3']\n",
    "parsed_metrics = []\n",
    "for metric in metrics:\n",
    "    m_split = metric.split('@')\n",
    "    m_type = m_split[0]\n",
    "    n = int(m_split[1]) if len(m_split) >= 2 else None\n",
    "\n",
    "    metric_ = metric_factory.get(MetricType.reverse_lookup(m_type), n)\n",
    "    parsed_metrics.append(metric_)"
   ]
  },
  {
   "cell_type": "code",
   "execution_count": 14,
   "id": "559c536f",
   "metadata": {},
   "outputs": [
    {
     "name": "stderr",
     "output_type": "stream",
     "text": [
      "  0%|                                                                                            | 0/4 [00:00<?, ?it/s]"
     ]
    },
    {
     "name": "stdout",
     "output_type": "stream",
     "text": [
      "https://dynamicdashboard.ilabt.imec.be/users/7 http://example.com/tx/patients/zplus_2\n",
      "['https://webthing.protego.dynamicdashboard.ilabt.imec.be/things/zplus_6.60%253A77%253A71%253A7D%253A93%253AD7%252Fservice0009/properties/org.dyamand.types.health.GlucoseLevel', 'https://webthing.protego.dynamicdashboard.ilabt.imec.be/things/zplus_6.lifestyle/properties/enriched-call', 'https://webthing.protego.dynamicdashboard.ilabt.imec.be/things/zplus_6.B0%253A91%253A22%253AFB%253AD0%253A78%252Fservice0009/properties/org.dyamand.types.health.GlucoseLevel', 'https://webthing.protego.dynamicdashboard.ilabt.imec.be/things/zplus_6.00%253A1C%253A05%253AFE%253A44%253A6B%252Fservice0029/properties/org.dyamand.types.health.SpO2', 'https://webthing.protego.dynamicdashboard.ilabt.imec.be/things/zplus_6.00%253A1C%253A05%253AFF%253AA9%253A4E%252Fservice0029/properties/org.dyamand.types.health.SpO2', 'https://webthing.protego.dynamicdashboard.ilabt.imec.be/things/zplus_6.F8%253A33%253A31%253A46%253A7F.D0%252Fservice0010/properties/org.dyamand.types.health.BodyTemperature', 'https://webthing.protego.dynamicdashboard.ilabt.imec.be/things/zplus_6.F8%253A33%253A31%253A46%253A6E%253A0B%252Fservice0010/properties/org.dyamand.types.health.BodyTemperature', 'https://webthing.protego.dynamicdashboard.ilabt.imec.be/things/zplus_6.00%253A9D%253A6B%253A89%253A43%253ACD%252Fservice0025/properties/org.dyamand.types.health.SystolicBloodPressure', 'https://webthing.protego.dynamicdashboard.ilabt.imec.be/things/zplus_6.00%253A9D%253A6B%253A89%253A43%253ACD%252Fservice0025/properties/org.dyamand.types.health.DiastolicBloodPressure', 'https://webthing.protego.dynamicdashboard.ilabt.imec.be/things/zplus_6.00%253A9D%253A6B%253A89%253A43%253ACD%252Fservice0025/properties/org.dyamand.types.health.HeartRate'] ['https://webthing.protego.dynamicdashboard.ilabt.imec.be/things/zplus_2.lifestyle/properties/enriched-call']\n",
      "https://dynamicdashboard.ilabt.imec.be/users/7 http://example.com/tx/patients/zplus_6\n",
      "['https://webthing.protego.dynamicdashboard.ilabt.imec.be/things/zplus_6.60%253A77%253A71%253A7D%253A93%253AD7%252Fservice0009/properties/org.dyamand.types.health.GlucoseLevel', 'https://webthing.protego.dynamicdashboard.ilabt.imec.be/things/zplus_6.lifestyle/properties/enriched-call', 'https://webthing.protego.dynamicdashboard.ilabt.imec.be/things/zplus_6.B0%253A91%253A22%253AFB%253AD0%253A78%252Fservice0009/properties/org.dyamand.types.health.GlucoseLevel', 'https://webthing.protego.dynamicdashboard.ilabt.imec.be/things/zplus_6.00%253A1C%253A05%253AFE%253A44%253A6B%252Fservice0029/properties/org.dyamand.types.health.SpO2', 'https://webthing.protego.dynamicdashboard.ilabt.imec.be/things/zplus_6.00%253A1C%253A05%253AFF%253AA9%253A4E%252Fservice0029/properties/org.dyamand.types.health.SpO2', 'https://webthing.protego.dynamicdashboard.ilabt.imec.be/things/zplus_6.F8%253A33%253A31%253A46%253A7F.D0%252Fservice0010/properties/org.dyamand.types.health.BodyTemperature', 'https://webthing.protego.dynamicdashboard.ilabt.imec.be/things/zplus_6.F8%253A33%253A31%253A46%253A6E%253A0B%252Fservice0010/properties/org.dyamand.types.health.BodyTemperature', 'https://webthing.protego.dynamicdashboard.ilabt.imec.be/things/zplus_6.00%253A9D%253A6B%253A89%253A43%253ACD%252Fservice0025/properties/org.dyamand.types.health.SystolicBloodPressure', 'https://webthing.protego.dynamicdashboard.ilabt.imec.be/things/zplus_6.00%253A9D%253A6B%253A89%253A43%253ACD%252Fservice0025/properties/org.dyamand.types.health.DiastolicBloodPressure', 'https://webthing.protego.dynamicdashboard.ilabt.imec.be/things/zplus_6.00%253A9D%253A6B%253A89%253A43%253ACD%252Fservice0025/properties/org.dyamand.types.health.HeartRate'] ['https://webthing.protego.dynamicdashboard.ilabt.imec.be/things/zplus_6.lifestyle/properties/enriched-call']\n",
      "https://dynamicdashboard.ilabt.imec.be/users/7 http://example.com/tx/patients/zplus_9\n",
      "['https://webthing.protego.dynamicdashboard.ilabt.imec.be/things/zplus_6.60%253A77%253A71%253A7D%253A93%253AD7%252Fservice0009/properties/org.dyamand.types.health.GlucoseLevel', 'https://webthing.protego.dynamicdashboard.ilabt.imec.be/things/zplus_6.lifestyle/properties/enriched-call', 'https://webthing.protego.dynamicdashboard.ilabt.imec.be/things/zplus_6.B0%253A91%253A22%253AFB%253AD0%253A78%252Fservice0009/properties/org.dyamand.types.health.GlucoseLevel', 'https://webthing.protego.dynamicdashboard.ilabt.imec.be/things/zplus_6.00%253A1C%253A05%253AFE%253A44%253A6B%252Fservice0029/properties/org.dyamand.types.health.SpO2', 'https://webthing.protego.dynamicdashboard.ilabt.imec.be/things/zplus_6.00%253A1C%253A05%253AFF%253AA9%253A4E%252Fservice0029/properties/org.dyamand.types.health.SpO2', 'https://webthing.protego.dynamicdashboard.ilabt.imec.be/things/zplus_6.F8%253A33%253A31%253A46%253A7F.D0%252Fservice0010/properties/org.dyamand.types.health.BodyTemperature', 'https://webthing.protego.dynamicdashboard.ilabt.imec.be/things/zplus_6.F8%253A33%253A31%253A46%253A6E%253A0B%252Fservice0010/properties/org.dyamand.types.health.BodyTemperature', 'https://webthing.protego.dynamicdashboard.ilabt.imec.be/things/zplus_6.00%253A9D%253A6B%253A89%253A43%253ACD%252Fservice0025/properties/org.dyamand.types.health.SystolicBloodPressure', 'https://webthing.protego.dynamicdashboard.ilabt.imec.be/things/zplus_6.00%253A9D%253A6B%253A89%253A43%253ACD%252Fservice0025/properties/org.dyamand.types.health.DiastolicBloodPressure', 'https://webthing.protego.dynamicdashboard.ilabt.imec.be/things/zplus_6.00%253A9D%253A6B%253A89%253A43%253ACD%252Fservice0025/properties/org.dyamand.types.health.HeartRate'] ['https://webthing.protego.dynamicdashboard.ilabt.imec.be/things/zplus_9.lifestyle/properties/enriched-call', 'https://webthing.protego.dynamicdashboard.ilabt.imec.be/things/zplus_9.00%253A9D%253A6B%253A89%253A43%253ACD%252Fservice0025/properties/org.dyamand.types.health.DiastolicBloodPressure']\n",
      "https://dynamicdashboard.ilabt.imec.be/users/7 http://example.com/tx/patients/zplus_9\n",
      "['https://webthing.protego.dynamicdashboard.ilabt.imec.be/things/zplus_6.60%253A77%253A71%253A7D%253A93%253AD7%252Fservice0009/properties/org.dyamand.types.health.GlucoseLevel', 'https://webthing.protego.dynamicdashboard.ilabt.imec.be/things/zplus_6.lifestyle/properties/enriched-call', 'https://webthing.protego.dynamicdashboard.ilabt.imec.be/things/zplus_6.B0%253A91%253A22%253AFB%253AD0%253A78%252Fservice0009/properties/org.dyamand.types.health.GlucoseLevel', 'https://webthing.protego.dynamicdashboard.ilabt.imec.be/things/zplus_6.00%253A1C%253A05%253AFE%253A44%253A6B%252Fservice0029/properties/org.dyamand.types.health.SpO2', 'https://webthing.protego.dynamicdashboard.ilabt.imec.be/things/zplus_6.00%253A1C%253A05%253AFF%253AA9%253A4E%252Fservice0029/properties/org.dyamand.types.health.SpO2', 'https://webthing.protego.dynamicdashboard.ilabt.imec.be/things/zplus_6.F8%253A33%253A31%253A46%253A7F.D0%252Fservice0010/properties/org.dyamand.types.health.BodyTemperature', 'https://webthing.protego.dynamicdashboard.ilabt.imec.be/things/zplus_6.F8%253A33%253A31%253A46%253A6E%253A0B%252Fservice0010/properties/org.dyamand.types.health.BodyTemperature', 'https://webthing.protego.dynamicdashboard.ilabt.imec.be/things/zplus_6.00%253A9D%253A6B%253A89%253A43%253ACD%252Fservice0025/properties/org.dyamand.types.health.SystolicBloodPressure', 'https://webthing.protego.dynamicdashboard.ilabt.imec.be/things/zplus_6.00%253A9D%253A6B%253A89%253A43%253ACD%252Fservice0025/properties/org.dyamand.types.health.DiastolicBloodPressure', 'https://webthing.protego.dynamicdashboard.ilabt.imec.be/things/zplus_6.00%253A9D%253A6B%253A89%253A43%253ACD%252Fservice0025/properties/org.dyamand.types.health.HeartRate'] ['https://webthing.protego.dynamicdashboard.ilabt.imec.be/things/zplus_9.lifestyle/properties/enriched-call', 'https://webthing.protego.dynamicdashboard.ilabt.imec.be/things/zplus_9.00%253A9D%253A6B%253A89%253A43%253ACD%252Fservice0025/properties/org.dyamand.types.health.DiastolicBloodPressure']\n",
      "https://dynamicdashboard.ilabt.imec.be/users/7 http://example.com/tx/patients/zplus_75\n"
     ]
    },
    {
     "name": "stderr",
     "output_type": "stream",
     "text": [
      " 25%|█████████████████████                                                               | 1/4 [00:00<00:02,  1.42it/s]"
     ]
    },
    {
     "name": "stdout",
     "output_type": "stream",
     "text": [
      "['https://webthing.protego.dynamicdashboard.ilabt.imec.be/things/zplus_6.60%253A77%253A71%253A7D%253A93%253AD7%252Fservice0009/properties/org.dyamand.types.health.GlucoseLevel', 'https://webthing.protego.dynamicdashboard.ilabt.imec.be/things/zplus_6.lifestyle/properties/enriched-call', 'https://webthing.protego.dynamicdashboard.ilabt.imec.be/things/zplus_6.B0%253A91%253A22%253AFB%253AD0%253A78%252Fservice0009/properties/org.dyamand.types.health.GlucoseLevel', 'https://webthing.protego.dynamicdashboard.ilabt.imec.be/things/zplus_6.00%253A1C%253A05%253AFE%253A44%253A6B%252Fservice0029/properties/org.dyamand.types.health.SpO2', 'https://webthing.protego.dynamicdashboard.ilabt.imec.be/things/zplus_6.00%253A1C%253A05%253AFF%253AA9%253A4E%252Fservice0029/properties/org.dyamand.types.health.SpO2', 'https://webthing.protego.dynamicdashboard.ilabt.imec.be/things/zplus_6.F8%253A33%253A31%253A46%253A7F.D0%252Fservice0010/properties/org.dyamand.types.health.BodyTemperature', 'https://webthing.protego.dynamicdashboard.ilabt.imec.be/things/zplus_6.F8%253A33%253A31%253A46%253A6E%253A0B%252Fservice0010/properties/org.dyamand.types.health.BodyTemperature', 'https://webthing.protego.dynamicdashboard.ilabt.imec.be/things/zplus_6.00%253A9D%253A6B%253A89%253A43%253ACD%252Fservice0025/properties/org.dyamand.types.health.SystolicBloodPressure', 'https://webthing.protego.dynamicdashboard.ilabt.imec.be/things/zplus_6.00%253A9D%253A6B%253A89%253A43%253ACD%252Fservice0025/properties/org.dyamand.types.health.DiastolicBloodPressure', 'https://webthing.protego.dynamicdashboard.ilabt.imec.be/things/zplus_6.00%253A9D%253A6B%253A89%253A43%253ACD%252Fservice0025/properties/org.dyamand.types.health.HeartRate'] ['https://webthing.protego.dynamicdashboard.ilabt.imec.be/things/zplus_75.00%253A1C%253A05%253AFE%253A44%253A6B%252Fservice0029/properties/org.dyamand.types.health.SpO2']\n",
      "https://dynamicdashboard.ilabt.imec.be/users/7 http://example.com/tx/patients/zplus_146\n",
      "['https://webthing.protego.dynamicdashboard.ilabt.imec.be/things/zplus_6.60%253A77%253A71%253A7D%253A93%253AD7%252Fservice0009/properties/org.dyamand.types.health.GlucoseLevel', 'https://webthing.protego.dynamicdashboard.ilabt.imec.be/things/zplus_6.lifestyle/properties/enriched-call', 'https://webthing.protego.dynamicdashboard.ilabt.imec.be/things/zplus_6.B0%253A91%253A22%253AFB%253AD0%253A78%252Fservice0009/properties/org.dyamand.types.health.GlucoseLevel', 'https://webthing.protego.dynamicdashboard.ilabt.imec.be/things/zplus_6.00%253A1C%253A05%253AFE%253A44%253A6B%252Fservice0029/properties/org.dyamand.types.health.SpO2', 'https://webthing.protego.dynamicdashboard.ilabt.imec.be/things/zplus_6.00%253A1C%253A05%253AFF%253AA9%253A4E%252Fservice0029/properties/org.dyamand.types.health.SpO2', 'https://webthing.protego.dynamicdashboard.ilabt.imec.be/things/zplus_6.F8%253A33%253A31%253A46%253A7F.D0%252Fservice0010/properties/org.dyamand.types.health.BodyTemperature', 'https://webthing.protego.dynamicdashboard.ilabt.imec.be/things/zplus_6.F8%253A33%253A31%253A46%253A6E%253A0B%252Fservice0010/properties/org.dyamand.types.health.BodyTemperature', 'https://webthing.protego.dynamicdashboard.ilabt.imec.be/things/zplus_6.00%253A9D%253A6B%253A89%253A43%253ACD%252Fservice0025/properties/org.dyamand.types.health.SystolicBloodPressure', 'https://webthing.protego.dynamicdashboard.ilabt.imec.be/things/zplus_6.00%253A9D%253A6B%253A89%253A43%253ACD%252Fservice0025/properties/org.dyamand.types.health.DiastolicBloodPressure', 'https://webthing.protego.dynamicdashboard.ilabt.imec.be/things/zplus_6.00%253A9D%253A6B%253A89%253A43%253ACD%252Fservice0025/properties/org.dyamand.types.health.HeartRate'] ['https://webthing.protego.dynamicdashboard.ilabt.imec.be/things/zplus_146.00%253A1C%253A05%253AFE%253A44%253A6B%252Fservice0029/properties/org.dyamand.types.health.SpO2']\n",
      "https://dynamicdashboard.ilabt.imec.be/users/10 http://example.com/tx/patients/zplus_262\n",
      "['https://webthing.protego.dynamicdashboard.ilabt.imec.be/things/zplus_6.60%253A77%253A71%253A7D%253A93%253AD7%252Fservice0009/properties/org.dyamand.types.health.GlucoseLevel', 'https://webthing.protego.dynamicdashboard.ilabt.imec.be/things/zplus_6.lifestyle/properties/enriched-call', 'https://webthing.protego.dynamicdashboard.ilabt.imec.be/things/zplus_6.B0%253A91%253A22%253AFB%253AD0%253A78%252Fservice0009/properties/org.dyamand.types.health.GlucoseLevel', 'https://webthing.protego.dynamicdashboard.ilabt.imec.be/things/zplus_6.00%253A1C%253A05%253AFE%253A44%253A6B%252Fservice0029/properties/org.dyamand.types.health.SpO2', 'https://webthing.protego.dynamicdashboard.ilabt.imec.be/things/zplus_6.00%253A1C%253A05%253AFF%253AA9%253A4E%252Fservice0029/properties/org.dyamand.types.health.SpO2', 'https://webthing.protego.dynamicdashboard.ilabt.imec.be/things/zplus_6.F8%253A33%253A31%253A46%253A7F.D0%252Fservice0010/properties/org.dyamand.types.health.BodyTemperature', 'https://webthing.protego.dynamicdashboard.ilabt.imec.be/things/zplus_6.F8%253A33%253A31%253A46%253A6E%253A0B%252Fservice0010/properties/org.dyamand.types.health.BodyTemperature', 'https://webthing.protego.dynamicdashboard.ilabt.imec.be/things/zplus_6.00%253A9D%253A6B%253A89%253A43%253ACD%252Fservice0025/properties/org.dyamand.types.health.SystolicBloodPressure', 'https://webthing.protego.dynamicdashboard.ilabt.imec.be/things/zplus_6.00%253A9D%253A6B%253A89%253A43%253ACD%252Fservice0025/properties/org.dyamand.types.health.DiastolicBloodPressure', 'https://webthing.protego.dynamicdashboard.ilabt.imec.be/things/zplus_6.00%253A9D%253A6B%253A89%253A43%253ACD%252Fservice0025/properties/org.dyamand.types.health.HeartRate'] ['https://webthing.protego.dynamicdashboard.ilabt.imec.be/things/zplus_262.lifestyle/properties/enriched-call']\n",
      "https://dynamicdashboard.ilabt.imec.be/users/9 http://example.com/tx/patients/zplus_103\n"
     ]
    },
    {
     "name": "stderr",
     "output_type": "stream",
     "text": [
      " 75%|███████████████████████████████████████████████████████████████                     | 3/4 [00:00<00:00,  3.92it/s]"
     ]
    },
    {
     "name": "stdout",
     "output_type": "stream",
     "text": [
      "['https://webthing.protego.dynamicdashboard.ilabt.imec.be/things/zplus_6.60%253A77%253A71%253A7D%253A93%253AD7%252Fservice0009/properties/org.dyamand.types.health.GlucoseLevel', 'https://webthing.protego.dynamicdashboard.ilabt.imec.be/things/zplus_6.lifestyle/properties/enriched-call', 'https://webthing.protego.dynamicdashboard.ilabt.imec.be/things/zplus_6.B0%253A91%253A22%253AFB%253AD0%253A78%252Fservice0009/properties/org.dyamand.types.health.GlucoseLevel', 'https://webthing.protego.dynamicdashboard.ilabt.imec.be/things/zplus_6.00%253A1C%253A05%253AFE%253A44%253A6B%252Fservice0029/properties/org.dyamand.types.health.SpO2', 'https://webthing.protego.dynamicdashboard.ilabt.imec.be/things/zplus_6.00%253A1C%253A05%253AFF%253AA9%253A4E%252Fservice0029/properties/org.dyamand.types.health.SpO2', 'https://webthing.protego.dynamicdashboard.ilabt.imec.be/things/zplus_6.F8%253A33%253A31%253A46%253A7F.D0%252Fservice0010/properties/org.dyamand.types.health.BodyTemperature', 'https://webthing.protego.dynamicdashboard.ilabt.imec.be/things/zplus_6.F8%253A33%253A31%253A46%253A6E%253A0B%252Fservice0010/properties/org.dyamand.types.health.BodyTemperature', 'https://webthing.protego.dynamicdashboard.ilabt.imec.be/things/zplus_6.00%253A9D%253A6B%253A89%253A43%253ACD%252Fservice0025/properties/org.dyamand.types.health.SystolicBloodPressure', 'https://webthing.protego.dynamicdashboard.ilabt.imec.be/things/zplus_6.00%253A9D%253A6B%253A89%253A43%253ACD%252Fservice0025/properties/org.dyamand.types.health.DiastolicBloodPressure', 'https://webthing.protego.dynamicdashboard.ilabt.imec.be/things/zplus_6.00%253A9D%253A6B%253A89%253A43%253ACD%252Fservice0025/properties/org.dyamand.types.health.HeartRate'] ['https://webthing.protego.dynamicdashboard.ilabt.imec.be/things/zplus_103.00%253A9D%253A6B%253A89%253A43%253ACD%252Fservice0025/properties/org.dyamand.types.health.DiastolicBloodPressure']\n",
      "https://dynamicdashboard.ilabt.imec.be/users/8 http://example.com/tx/patients/zplus_35\n",
      "['https://webthing.protego.dynamicdashboard.ilabt.imec.be/things/zplus_6.60%253A77%253A71%253A7D%253A93%253AD7%252Fservice0009/properties/org.dyamand.types.health.GlucoseLevel', 'https://webthing.protego.dynamicdashboard.ilabt.imec.be/things/zplus_6.lifestyle/properties/enriched-call', 'https://webthing.protego.dynamicdashboard.ilabt.imec.be/things/zplus_6.B0%253A91%253A22%253AFB%253AD0%253A78%252Fservice0009/properties/org.dyamand.types.health.GlucoseLevel', 'https://webthing.protego.dynamicdashboard.ilabt.imec.be/things/zplus_6.00%253A1C%253A05%253AFE%253A44%253A6B%252Fservice0029/properties/org.dyamand.types.health.SpO2', 'https://webthing.protego.dynamicdashboard.ilabt.imec.be/things/zplus_6.00%253A1C%253A05%253AFF%253AA9%253A4E%252Fservice0029/properties/org.dyamand.types.health.SpO2', 'https://webthing.protego.dynamicdashboard.ilabt.imec.be/things/zplus_6.F8%253A33%253A31%253A46%253A7F.D0%252Fservice0010/properties/org.dyamand.types.health.BodyTemperature', 'https://webthing.protego.dynamicdashboard.ilabt.imec.be/things/zplus_6.F8%253A33%253A31%253A46%253A6E%253A0B%252Fservice0010/properties/org.dyamand.types.health.BodyTemperature', 'https://webthing.protego.dynamicdashboard.ilabt.imec.be/things/zplus_6.00%253A9D%253A6B%253A89%253A43%253ACD%252Fservice0025/properties/org.dyamand.types.health.SystolicBloodPressure', 'https://webthing.protego.dynamicdashboard.ilabt.imec.be/things/zplus_6.00%253A9D%253A6B%253A89%253A43%253ACD%252Fservice0025/properties/org.dyamand.types.health.DiastolicBloodPressure', 'https://webthing.protego.dynamicdashboard.ilabt.imec.be/things/zplus_6.00%253A9D%253A6B%253A89%253A43%253ACD%252Fservice0025/properties/org.dyamand.types.health.HeartRate'] ['https://webthing.protego.dynamicdashboard.ilabt.imec.be/things/zplus_35.00%253A9D%253A6B%253A89%253A43%253ACD%252Fservice0025/properties/org.dyamand.types.health.HeartRate']\n",
      "https://dynamicdashboard.ilabt.imec.be/users/8 http://example.com/tx/patients/zplus_36\n"
     ]
    },
    {
     "name": "stderr",
     "output_type": "stream",
     "text": [
      "100%|████████████████████████████████████████████████████████████████████████████████████| 4/4 [00:01<00:00,  3.30it/s]"
     ]
    },
    {
     "name": "stdout",
     "output_type": "stream",
     "text": [
      "['https://webthing.protego.dynamicdashboard.ilabt.imec.be/things/zplus_6.60%253A77%253A71%253A7D%253A93%253AD7%252Fservice0009/properties/org.dyamand.types.health.GlucoseLevel', 'https://webthing.protego.dynamicdashboard.ilabt.imec.be/things/zplus_6.lifestyle/properties/enriched-call', 'https://webthing.protego.dynamicdashboard.ilabt.imec.be/things/zplus_6.B0%253A91%253A22%253AFB%253AD0%253A78%252Fservice0009/properties/org.dyamand.types.health.GlucoseLevel', 'https://webthing.protego.dynamicdashboard.ilabt.imec.be/things/zplus_6.00%253A1C%253A05%253AFE%253A44%253A6B%252Fservice0029/properties/org.dyamand.types.health.SpO2', 'https://webthing.protego.dynamicdashboard.ilabt.imec.be/things/zplus_6.00%253A1C%253A05%253AFF%253AA9%253A4E%252Fservice0029/properties/org.dyamand.types.health.SpO2', 'https://webthing.protego.dynamicdashboard.ilabt.imec.be/things/zplus_6.F8%253A33%253A31%253A46%253A7F.D0%252Fservice0010/properties/org.dyamand.types.health.BodyTemperature', 'https://webthing.protego.dynamicdashboard.ilabt.imec.be/things/zplus_6.F8%253A33%253A31%253A46%253A6E%253A0B%252Fservice0010/properties/org.dyamand.types.health.BodyTemperature', 'https://webthing.protego.dynamicdashboard.ilabt.imec.be/things/zplus_6.00%253A9D%253A6B%253A89%253A43%253ACD%252Fservice0025/properties/org.dyamand.types.health.SystolicBloodPressure', 'https://webthing.protego.dynamicdashboard.ilabt.imec.be/things/zplus_6.00%253A9D%253A6B%253A89%253A43%253ACD%252Fservice0025/properties/org.dyamand.types.health.DiastolicBloodPressure', 'https://webthing.protego.dynamicdashboard.ilabt.imec.be/things/zplus_6.00%253A9D%253A6B%253A89%253A43%253ACD%252Fservice0025/properties/org.dyamand.types.health.HeartRate'] ['https://webthing.protego.dynamicdashboard.ilabt.imec.be/things/zplus_36.00%253A9D%253A6B%253A89%253A43%253ACD%252Fservice0025/properties/org.dyamand.types.health.HeartRate']\n"
     ]
    },
    {
     "name": "stderr",
     "output_type": "stream",
     "text": [
      "\n",
      "  0%|                                                                                            | 0/4 [00:00<?, ?it/s]"
     ]
    },
    {
     "name": "stdout",
     "output_type": "stream",
     "text": [
      "https://dynamicdashboard.ilabt.imec.be/users/9 http://example.com/tx/patients/zplus_109\n",
      "['https://webthing.protego.dynamicdashboard.ilabt.imec.be/things/zplus_6.60%253A77%253A71%253A7D%253A93%253AD7%252Fservice0009/properties/org.dyamand.types.health.GlucoseLevel', 'https://webthing.protego.dynamicdashboard.ilabt.imec.be/things/zplus_6.lifestyle/properties/enriched-call', 'https://webthing.protego.dynamicdashboard.ilabt.imec.be/things/zplus_6.B0%253A91%253A22%253AFB%253AD0%253A78%252Fservice0009/properties/org.dyamand.types.health.GlucoseLevel', 'https://webthing.protego.dynamicdashboard.ilabt.imec.be/things/zplus_6.00%253A1C%253A05%253AFE%253A44%253A6B%252Fservice0029/properties/org.dyamand.types.health.SpO2', 'https://webthing.protego.dynamicdashboard.ilabt.imec.be/things/zplus_6.00%253A1C%253A05%253AFF%253AA9%253A4E%252Fservice0029/properties/org.dyamand.types.health.SpO2', 'https://webthing.protego.dynamicdashboard.ilabt.imec.be/things/zplus_6.F8%253A33%253A31%253A46%253A7F.D0%252Fservice0010/properties/org.dyamand.types.health.BodyTemperature', 'https://webthing.protego.dynamicdashboard.ilabt.imec.be/things/zplus_6.F8%253A33%253A31%253A46%253A6E%253A0B%252Fservice0010/properties/org.dyamand.types.health.BodyTemperature', 'https://webthing.protego.dynamicdashboard.ilabt.imec.be/things/zplus_6.00%253A9D%253A6B%253A89%253A43%253ACD%252Fservice0025/properties/org.dyamand.types.health.SystolicBloodPressure', 'https://webthing.protego.dynamicdashboard.ilabt.imec.be/things/zplus_6.00%253A9D%253A6B%253A89%253A43%253ACD%252Fservice0025/properties/org.dyamand.types.health.DiastolicBloodPressure', 'https://webthing.protego.dynamicdashboard.ilabt.imec.be/things/zplus_6.00%253A9D%253A6B%253A89%253A43%253ACD%252Fservice0025/properties/org.dyamand.types.health.HeartRate'] ['https://webthing.protego.dynamicdashboard.ilabt.imec.be/things/zplus_109.lifestyle/properties/enriched-call']\n",
      "https://dynamicdashboard.ilabt.imec.be/users/9 http://example.com/tx/patients/zplus_114\n",
      "['https://webthing.protego.dynamicdashboard.ilabt.imec.be/things/zplus_6.60%253A77%253A71%253A7D%253A93%253AD7%252Fservice0009/properties/org.dyamand.types.health.GlucoseLevel', 'https://webthing.protego.dynamicdashboard.ilabt.imec.be/things/zplus_6.lifestyle/properties/enriched-call', 'https://webthing.protego.dynamicdashboard.ilabt.imec.be/things/zplus_6.B0%253A91%253A22%253AFB%253AD0%253A78%252Fservice0009/properties/org.dyamand.types.health.GlucoseLevel', 'https://webthing.protego.dynamicdashboard.ilabt.imec.be/things/zplus_6.00%253A1C%253A05%253AFE%253A44%253A6B%252Fservice0029/properties/org.dyamand.types.health.SpO2', 'https://webthing.protego.dynamicdashboard.ilabt.imec.be/things/zplus_6.00%253A1C%253A05%253AFF%253AA9%253A4E%252Fservice0029/properties/org.dyamand.types.health.SpO2', 'https://webthing.protego.dynamicdashboard.ilabt.imec.be/things/zplus_6.F8%253A33%253A31%253A46%253A7F.D0%252Fservice0010/properties/org.dyamand.types.health.BodyTemperature', 'https://webthing.protego.dynamicdashboard.ilabt.imec.be/things/zplus_6.F8%253A33%253A31%253A46%253A6E%253A0B%252Fservice0010/properties/org.dyamand.types.health.BodyTemperature', 'https://webthing.protego.dynamicdashboard.ilabt.imec.be/things/zplus_6.00%253A9D%253A6B%253A89%253A43%253ACD%252Fservice0025/properties/org.dyamand.types.health.SystolicBloodPressure', 'https://webthing.protego.dynamicdashboard.ilabt.imec.be/things/zplus_6.00%253A9D%253A6B%253A89%253A43%253ACD%252Fservice0025/properties/org.dyamand.types.health.DiastolicBloodPressure', 'https://webthing.protego.dynamicdashboard.ilabt.imec.be/things/zplus_6.00%253A9D%253A6B%253A89%253A43%253ACD%252Fservice0025/properties/org.dyamand.types.health.HeartRate'] ['https://webthing.protego.dynamicdashboard.ilabt.imec.be/things/zplus_114.60%253A77%253A71%253A7D%253A93%253AD7%252Fservice0009/properties/org.dyamand.types.health.GlucoseLevel', 'https://webthing.protego.dynamicdashboard.ilabt.imec.be/things/zplus_114.00%253A9D%253A6B%253A89%253A43%253ACD%252Fservice0025/properties/org.dyamand.types.health.DiastolicBloodPressure', 'https://webthing.protego.dynamicdashboard.ilabt.imec.be/things/zplus_114.00%253A9D%253A6B%253A89%253A43%253ACD%252Fservice0025/properties/org.dyamand.types.health.SystolicBloodPressure']\n",
      "https://dynamicdashboard.ilabt.imec.be/users/9 http://example.com/tx/patients/zplus_114\n"
     ]
    },
    {
     "name": "stderr",
     "output_type": "stream",
     "text": [
      " 25%|█████████████████████                                                               | 1/4 [00:00<00:01,  1.73it/s]"
     ]
    },
    {
     "name": "stdout",
     "output_type": "stream",
     "text": [
      "['https://webthing.protego.dynamicdashboard.ilabt.imec.be/things/zplus_6.60%253A77%253A71%253A7D%253A93%253AD7%252Fservice0009/properties/org.dyamand.types.health.GlucoseLevel', 'https://webthing.protego.dynamicdashboard.ilabt.imec.be/things/zplus_6.lifestyle/properties/enriched-call', 'https://webthing.protego.dynamicdashboard.ilabt.imec.be/things/zplus_6.B0%253A91%253A22%253AFB%253AD0%253A78%252Fservice0009/properties/org.dyamand.types.health.GlucoseLevel', 'https://webthing.protego.dynamicdashboard.ilabt.imec.be/things/zplus_6.00%253A1C%253A05%253AFE%253A44%253A6B%252Fservice0029/properties/org.dyamand.types.health.SpO2', 'https://webthing.protego.dynamicdashboard.ilabt.imec.be/things/zplus_6.00%253A1C%253A05%253AFF%253AA9%253A4E%252Fservice0029/properties/org.dyamand.types.health.SpO2', 'https://webthing.protego.dynamicdashboard.ilabt.imec.be/things/zplus_6.F8%253A33%253A31%253A46%253A7F.D0%252Fservice0010/properties/org.dyamand.types.health.BodyTemperature', 'https://webthing.protego.dynamicdashboard.ilabt.imec.be/things/zplus_6.F8%253A33%253A31%253A46%253A6E%253A0B%252Fservice0010/properties/org.dyamand.types.health.BodyTemperature', 'https://webthing.protego.dynamicdashboard.ilabt.imec.be/things/zplus_6.00%253A9D%253A6B%253A89%253A43%253ACD%252Fservice0025/properties/org.dyamand.types.health.SystolicBloodPressure', 'https://webthing.protego.dynamicdashboard.ilabt.imec.be/things/zplus_6.00%253A9D%253A6B%253A89%253A43%253ACD%252Fservice0025/properties/org.dyamand.types.health.DiastolicBloodPressure', 'https://webthing.protego.dynamicdashboard.ilabt.imec.be/things/zplus_6.00%253A9D%253A6B%253A89%253A43%253ACD%252Fservice0025/properties/org.dyamand.types.health.HeartRate'] ['https://webthing.protego.dynamicdashboard.ilabt.imec.be/things/zplus_114.60%253A77%253A71%253A7D%253A93%253AD7%252Fservice0009/properties/org.dyamand.types.health.GlucoseLevel', 'https://webthing.protego.dynamicdashboard.ilabt.imec.be/things/zplus_114.00%253A9D%253A6B%253A89%253A43%253ACD%252Fservice0025/properties/org.dyamand.types.health.DiastolicBloodPressure', 'https://webthing.protego.dynamicdashboard.ilabt.imec.be/things/zplus_114.00%253A9D%253A6B%253A89%253A43%253ACD%252Fservice0025/properties/org.dyamand.types.health.SystolicBloodPressure']\n",
      "https://dynamicdashboard.ilabt.imec.be/users/9 http://example.com/tx/patients/zplus_114\n",
      "['https://webthing.protego.dynamicdashboard.ilabt.imec.be/things/zplus_6.60%253A77%253A71%253A7D%253A93%253AD7%252Fservice0009/properties/org.dyamand.types.health.GlucoseLevel', 'https://webthing.protego.dynamicdashboard.ilabt.imec.be/things/zplus_6.lifestyle/properties/enriched-call', 'https://webthing.protego.dynamicdashboard.ilabt.imec.be/things/zplus_6.B0%253A91%253A22%253AFB%253AD0%253A78%252Fservice0009/properties/org.dyamand.types.health.GlucoseLevel', 'https://webthing.protego.dynamicdashboard.ilabt.imec.be/things/zplus_6.00%253A1C%253A05%253AFE%253A44%253A6B%252Fservice0029/properties/org.dyamand.types.health.SpO2', 'https://webthing.protego.dynamicdashboard.ilabt.imec.be/things/zplus_6.00%253A1C%253A05%253AFF%253AA9%253A4E%252Fservice0029/properties/org.dyamand.types.health.SpO2', 'https://webthing.protego.dynamicdashboard.ilabt.imec.be/things/zplus_6.F8%253A33%253A31%253A46%253A7F.D0%252Fservice0010/properties/org.dyamand.types.health.BodyTemperature', 'https://webthing.protego.dynamicdashboard.ilabt.imec.be/things/zplus_6.F8%253A33%253A31%253A46%253A6E%253A0B%252Fservice0010/properties/org.dyamand.types.health.BodyTemperature', 'https://webthing.protego.dynamicdashboard.ilabt.imec.be/things/zplus_6.00%253A9D%253A6B%253A89%253A43%253ACD%252Fservice0025/properties/org.dyamand.types.health.SystolicBloodPressure', 'https://webthing.protego.dynamicdashboard.ilabt.imec.be/things/zplus_6.00%253A9D%253A6B%253A89%253A43%253ACD%252Fservice0025/properties/org.dyamand.types.health.DiastolicBloodPressure', 'https://webthing.protego.dynamicdashboard.ilabt.imec.be/things/zplus_6.00%253A9D%253A6B%253A89%253A43%253ACD%252Fservice0025/properties/org.dyamand.types.health.HeartRate'] ['https://webthing.protego.dynamicdashboard.ilabt.imec.be/things/zplus_114.60%253A77%253A71%253A7D%253A93%253AD7%252Fservice0009/properties/org.dyamand.types.health.GlucoseLevel', 'https://webthing.protego.dynamicdashboard.ilabt.imec.be/things/zplus_114.00%253A9D%253A6B%253A89%253A43%253ACD%252Fservice0025/properties/org.dyamand.types.health.DiastolicBloodPressure', 'https://webthing.protego.dynamicdashboard.ilabt.imec.be/things/zplus_114.00%253A9D%253A6B%253A89%253A43%253ACD%252Fservice0025/properties/org.dyamand.types.health.SystolicBloodPressure']\n",
      "https://dynamicdashboard.ilabt.imec.be/users/10 http://example.com/tx/patients/zplus_127\n",
      "['https://webthing.protego.dynamicdashboard.ilabt.imec.be/things/zplus_6.60%253A77%253A71%253A7D%253A93%253AD7%252Fservice0009/properties/org.dyamand.types.health.GlucoseLevel', 'https://webthing.protego.dynamicdashboard.ilabt.imec.be/things/zplus_6.lifestyle/properties/enriched-call', 'https://webthing.protego.dynamicdashboard.ilabt.imec.be/things/zplus_6.B0%253A91%253A22%253AFB%253AD0%253A78%252Fservice0009/properties/org.dyamand.types.health.GlucoseLevel', 'https://webthing.protego.dynamicdashboard.ilabt.imec.be/things/zplus_6.00%253A1C%253A05%253AFE%253A44%253A6B%252Fservice0029/properties/org.dyamand.types.health.SpO2', 'https://webthing.protego.dynamicdashboard.ilabt.imec.be/things/zplus_6.00%253A1C%253A05%253AFF%253AA9%253A4E%252Fservice0029/properties/org.dyamand.types.health.SpO2', 'https://webthing.protego.dynamicdashboard.ilabt.imec.be/things/zplus_6.F8%253A33%253A31%253A46%253A7F.D0%252Fservice0010/properties/org.dyamand.types.health.BodyTemperature', 'https://webthing.protego.dynamicdashboard.ilabt.imec.be/things/zplus_6.F8%253A33%253A31%253A46%253A6E%253A0B%252Fservice0010/properties/org.dyamand.types.health.BodyTemperature', 'https://webthing.protego.dynamicdashboard.ilabt.imec.be/things/zplus_6.00%253A9D%253A6B%253A89%253A43%253ACD%252Fservice0025/properties/org.dyamand.types.health.SystolicBloodPressure', 'https://webthing.protego.dynamicdashboard.ilabt.imec.be/things/zplus_6.00%253A9D%253A6B%253A89%253A43%253ACD%252Fservice0025/properties/org.dyamand.types.health.DiastolicBloodPressure', 'https://webthing.protego.dynamicdashboard.ilabt.imec.be/things/zplus_6.00%253A9D%253A6B%253A89%253A43%253ACD%252Fservice0025/properties/org.dyamand.types.health.HeartRate'] ['https://webthing.protego.dynamicdashboard.ilabt.imec.be/things/zplus_127.lifestyle/properties/enriched-call']\n",
      "https://dynamicdashboard.ilabt.imec.be/users/10 http://example.com/tx/patients/zplus_62\n"
     ]
    },
    {
     "name": "stderr",
     "output_type": "stream",
     "text": [
      " 50%|██████████████████████████████████████████                                          | 2/4 [00:00<00:00,  2.85it/s]"
     ]
    },
    {
     "name": "stdout",
     "output_type": "stream",
     "text": [
      "['https://webthing.protego.dynamicdashboard.ilabt.imec.be/things/zplus_6.60%253A77%253A71%253A7D%253A93%253AD7%252Fservice0009/properties/org.dyamand.types.health.GlucoseLevel', 'https://webthing.protego.dynamicdashboard.ilabt.imec.be/things/zplus_6.lifestyle/properties/enriched-call', 'https://webthing.protego.dynamicdashboard.ilabt.imec.be/things/zplus_6.B0%253A91%253A22%253AFB%253AD0%253A78%252Fservice0009/properties/org.dyamand.types.health.GlucoseLevel', 'https://webthing.protego.dynamicdashboard.ilabt.imec.be/things/zplus_6.00%253A1C%253A05%253AFE%253A44%253A6B%252Fservice0029/properties/org.dyamand.types.health.SpO2', 'https://webthing.protego.dynamicdashboard.ilabt.imec.be/things/zplus_6.00%253A1C%253A05%253AFF%253AA9%253A4E%252Fservice0029/properties/org.dyamand.types.health.SpO2', 'https://webthing.protego.dynamicdashboard.ilabt.imec.be/things/zplus_6.F8%253A33%253A31%253A46%253A7F.D0%252Fservice0010/properties/org.dyamand.types.health.BodyTemperature', 'https://webthing.protego.dynamicdashboard.ilabt.imec.be/things/zplus_6.F8%253A33%253A31%253A46%253A6E%253A0B%252Fservice0010/properties/org.dyamand.types.health.BodyTemperature', 'https://webthing.protego.dynamicdashboard.ilabt.imec.be/things/zplus_6.00%253A9D%253A6B%253A89%253A43%253ACD%252Fservice0025/properties/org.dyamand.types.health.SystolicBloodPressure', 'https://webthing.protego.dynamicdashboard.ilabt.imec.be/things/zplus_6.00%253A9D%253A6B%253A89%253A43%253ACD%252Fservice0025/properties/org.dyamand.types.health.DiastolicBloodPressure', 'https://webthing.protego.dynamicdashboard.ilabt.imec.be/things/zplus_6.00%253A9D%253A6B%253A89%253A43%253ACD%252Fservice0025/properties/org.dyamand.types.health.HeartRate'] ['https://webthing.protego.dynamicdashboard.ilabt.imec.be/things/zplus_62.00%253A9D%253A6B%253A89%253A43%253ACD%252Fservice0025/properties/org.dyamand.types.health.DiastolicBloodPressure']\n",
      "https://dynamicdashboard.ilabt.imec.be/users/7 http://example.com/tx/patients/zplus_6\n",
      "['https://webthing.protego.dynamicdashboard.ilabt.imec.be/things/zplus_6.60%253A77%253A71%253A7D%253A93%253AD7%252Fservice0009/properties/org.dyamand.types.health.GlucoseLevel', 'https://webthing.protego.dynamicdashboard.ilabt.imec.be/things/zplus_6.lifestyle/properties/enriched-call', 'https://webthing.protego.dynamicdashboard.ilabt.imec.be/things/zplus_6.B0%253A91%253A22%253AFB%253AD0%253A78%252Fservice0009/properties/org.dyamand.types.health.GlucoseLevel', 'https://webthing.protego.dynamicdashboard.ilabt.imec.be/things/zplus_6.00%253A1C%253A05%253AFE%253A44%253A6B%252Fservice0029/properties/org.dyamand.types.health.SpO2', 'https://webthing.protego.dynamicdashboard.ilabt.imec.be/things/zplus_6.00%253A1C%253A05%253AFF%253AA9%253A4E%252Fservice0029/properties/org.dyamand.types.health.SpO2', 'https://webthing.protego.dynamicdashboard.ilabt.imec.be/things/zplus_6.F8%253A33%253A31%253A46%253A7F.D0%252Fservice0010/properties/org.dyamand.types.health.BodyTemperature', 'https://webthing.protego.dynamicdashboard.ilabt.imec.be/things/zplus_6.F8%253A33%253A31%253A46%253A6E%253A0B%252Fservice0010/properties/org.dyamand.types.health.BodyTemperature', 'https://webthing.protego.dynamicdashboard.ilabt.imec.be/things/zplus_6.00%253A9D%253A6B%253A89%253A43%253ACD%252Fservice0025/properties/org.dyamand.types.health.SystolicBloodPressure', 'https://webthing.protego.dynamicdashboard.ilabt.imec.be/things/zplus_6.00%253A9D%253A6B%253A89%253A43%253ACD%252Fservice0025/properties/org.dyamand.types.health.DiastolicBloodPressure', 'https://webthing.protego.dynamicdashboard.ilabt.imec.be/things/zplus_6.00%253A9D%253A6B%253A89%253A43%253ACD%252Fservice0025/properties/org.dyamand.types.health.HeartRate'] ['https://webthing.protego.dynamicdashboard.ilabt.imec.be/things/zplus_6.60%253A77%253A71%253A7D%253A93%253AD7%252Fservice0009/properties/org.dyamand.types.health.GlucoseLevel']\n",
      "https://dynamicdashboard.ilabt.imec.be/users/7 http://example.com/tx/patients/zplus_9\n",
      "['https://webthing.protego.dynamicdashboard.ilabt.imec.be/things/zplus_6.60%253A77%253A71%253A7D%253A93%253AD7%252Fservice0009/properties/org.dyamand.types.health.GlucoseLevel', 'https://webthing.protego.dynamicdashboard.ilabt.imec.be/things/zplus_6.lifestyle/properties/enriched-call', 'https://webthing.protego.dynamicdashboard.ilabt.imec.be/things/zplus_6.B0%253A91%253A22%253AFB%253AD0%253A78%252Fservice0009/properties/org.dyamand.types.health.GlucoseLevel', 'https://webthing.protego.dynamicdashboard.ilabt.imec.be/things/zplus_6.00%253A1C%253A05%253AFE%253A44%253A6B%252Fservice0029/properties/org.dyamand.types.health.SpO2', 'https://webthing.protego.dynamicdashboard.ilabt.imec.be/things/zplus_6.00%253A1C%253A05%253AFF%253AA9%253A4E%252Fservice0029/properties/org.dyamand.types.health.SpO2', 'https://webthing.protego.dynamicdashboard.ilabt.imec.be/things/zplus_6.F8%253A33%253A31%253A46%253A7F.D0%252Fservice0010/properties/org.dyamand.types.health.BodyTemperature', 'https://webthing.protego.dynamicdashboard.ilabt.imec.be/things/zplus_6.F8%253A33%253A31%253A46%253A6E%253A0B%252Fservice0010/properties/org.dyamand.types.health.BodyTemperature', 'https://webthing.protego.dynamicdashboard.ilabt.imec.be/things/zplus_6.00%253A9D%253A6B%253A89%253A43%253ACD%252Fservice0025/properties/org.dyamand.types.health.SystolicBloodPressure', 'https://webthing.protego.dynamicdashboard.ilabt.imec.be/things/zplus_6.00%253A9D%253A6B%253A89%253A43%253ACD%252Fservice0025/properties/org.dyamand.types.health.DiastolicBloodPressure', 'https://webthing.protego.dynamicdashboard.ilabt.imec.be/things/zplus_6.00%253A9D%253A6B%253A89%253A43%253ACD%252Fservice0025/properties/org.dyamand.types.health.HeartRate'] ['https://webthing.protego.dynamicdashboard.ilabt.imec.be/things/zplus_9.60%253A77%253A71%253A7D%253A93%253AD7%252Fservice0009/properties/org.dyamand.types.health.GlucoseLevel']\n",
      "https://dynamicdashboard.ilabt.imec.be/users/7 http://example.com/tx/patients/zplus_144\n"
     ]
    },
    {
     "name": "stderr",
     "output_type": "stream",
     "text": [
      "100%|████████████████████████████████████████████████████████████████████████████████████| 4/4 [00:01<00:00,  3.14it/s]"
     ]
    },
    {
     "name": "stdout",
     "output_type": "stream",
     "text": [
      "['https://webthing.protego.dynamicdashboard.ilabt.imec.be/things/zplus_6.60%253A77%253A71%253A7D%253A93%253AD7%252Fservice0009/properties/org.dyamand.types.health.GlucoseLevel', 'https://webthing.protego.dynamicdashboard.ilabt.imec.be/things/zplus_6.lifestyle/properties/enriched-call', 'https://webthing.protego.dynamicdashboard.ilabt.imec.be/things/zplus_6.B0%253A91%253A22%253AFB%253AD0%253A78%252Fservice0009/properties/org.dyamand.types.health.GlucoseLevel', 'https://webthing.protego.dynamicdashboard.ilabt.imec.be/things/zplus_6.00%253A1C%253A05%253AFE%253A44%253A6B%252Fservice0029/properties/org.dyamand.types.health.SpO2', 'https://webthing.protego.dynamicdashboard.ilabt.imec.be/things/zplus_6.00%253A1C%253A05%253AFF%253AA9%253A4E%252Fservice0029/properties/org.dyamand.types.health.SpO2', 'https://webthing.protego.dynamicdashboard.ilabt.imec.be/things/zplus_6.F8%253A33%253A31%253A46%253A7F.D0%252Fservice0010/properties/org.dyamand.types.health.BodyTemperature', 'https://webthing.protego.dynamicdashboard.ilabt.imec.be/things/zplus_6.F8%253A33%253A31%253A46%253A6E%253A0B%252Fservice0010/properties/org.dyamand.types.health.BodyTemperature', 'https://webthing.protego.dynamicdashboard.ilabt.imec.be/things/zplus_6.00%253A9D%253A6B%253A89%253A43%253ACD%252Fservice0025/properties/org.dyamand.types.health.SystolicBloodPressure', 'https://webthing.protego.dynamicdashboard.ilabt.imec.be/things/zplus_6.00%253A9D%253A6B%253A89%253A43%253ACD%252Fservice0025/properties/org.dyamand.types.health.DiastolicBloodPressure', 'https://webthing.protego.dynamicdashboard.ilabt.imec.be/things/zplus_6.00%253A9D%253A6B%253A89%253A43%253ACD%252Fservice0025/properties/org.dyamand.types.health.HeartRate'] ['https://webthing.protego.dynamicdashboard.ilabt.imec.be/things/zplus_144.F8%253A33%253A31%253A46%253A6E%253A0B%252Fservice0010/properties/org.dyamand.types.health.BodyTemperature']\n",
      "https://dynamicdashboard.ilabt.imec.be/users/8 http://example.com/tx/patients/zplus_86\n",
      "['https://webthing.protego.dynamicdashboard.ilabt.imec.be/things/zplus_6.60%253A77%253A71%253A7D%253A93%253AD7%252Fservice0009/properties/org.dyamand.types.health.GlucoseLevel', 'https://webthing.protego.dynamicdashboard.ilabt.imec.be/things/zplus_6.lifestyle/properties/enriched-call', 'https://webthing.protego.dynamicdashboard.ilabt.imec.be/things/zplus_6.B0%253A91%253A22%253AFB%253AD0%253A78%252Fservice0009/properties/org.dyamand.types.health.GlucoseLevel', 'https://webthing.protego.dynamicdashboard.ilabt.imec.be/things/zplus_6.00%253A1C%253A05%253AFE%253A44%253A6B%252Fservice0029/properties/org.dyamand.types.health.SpO2', 'https://webthing.protego.dynamicdashboard.ilabt.imec.be/things/zplus_6.00%253A1C%253A05%253AFF%253AA9%253A4E%252Fservice0029/properties/org.dyamand.types.health.SpO2', 'https://webthing.protego.dynamicdashboard.ilabt.imec.be/things/zplus_6.F8%253A33%253A31%253A46%253A7F.D0%252Fservice0010/properties/org.dyamand.types.health.BodyTemperature', 'https://webthing.protego.dynamicdashboard.ilabt.imec.be/things/zplus_6.F8%253A33%253A31%253A46%253A6E%253A0B%252Fservice0010/properties/org.dyamand.types.health.BodyTemperature', 'https://webthing.protego.dynamicdashboard.ilabt.imec.be/things/zplus_6.00%253A9D%253A6B%253A89%253A43%253ACD%252Fservice0025/properties/org.dyamand.types.health.SystolicBloodPressure', 'https://webthing.protego.dynamicdashboard.ilabt.imec.be/things/zplus_6.00%253A9D%253A6B%253A89%253A43%253ACD%252Fservice0025/properties/org.dyamand.types.health.DiastolicBloodPressure', 'https://webthing.protego.dynamicdashboard.ilabt.imec.be/things/zplus_6.00%253A9D%253A6B%253A89%253A43%253ACD%252Fservice0025/properties/org.dyamand.types.health.HeartRate'] ['https://webthing.protego.dynamicdashboard.ilabt.imec.be/things/zplus_86.00%253A9D%253A6B%253A89%253A43%253ACD%252Fservice0025/properties/org.dyamand.types.health.DiastolicBloodPressure']\n"
     ]
    },
    {
     "name": "stderr",
     "output_type": "stream",
     "text": [
      "\n",
      "  0%|                                                                                            | 0/4 [00:00<?, ?it/s]"
     ]
    },
    {
     "name": "stdout",
     "output_type": "stream",
     "text": [
      "https://dynamicdashboard.ilabt.imec.be/users/8 http://example.com/tx/patients/zplus_27\n",
      "['https://webthing.protego.dynamicdashboard.ilabt.imec.be/things/zplus_6.60%253A77%253A71%253A7D%253A93%253AD7%252Fservice0009/properties/org.dyamand.types.health.GlucoseLevel', 'https://webthing.protego.dynamicdashboard.ilabt.imec.be/things/zplus_6.lifestyle/properties/enriched-call', 'https://webthing.protego.dynamicdashboard.ilabt.imec.be/things/zplus_6.B0%253A91%253A22%253AFB%253AD0%253A78%252Fservice0009/properties/org.dyamand.types.health.GlucoseLevel', 'https://webthing.protego.dynamicdashboard.ilabt.imec.be/things/zplus_6.00%253A1C%253A05%253AFE%253A44%253A6B%252Fservice0029/properties/org.dyamand.types.health.SpO2', 'https://webthing.protego.dynamicdashboard.ilabt.imec.be/things/zplus_6.00%253A1C%253A05%253AFF%253AA9%253A4E%252Fservice0029/properties/org.dyamand.types.health.SpO2', 'https://webthing.protego.dynamicdashboard.ilabt.imec.be/things/zplus_6.F8%253A33%253A31%253A46%253A7F.D0%252Fservice0010/properties/org.dyamand.types.health.BodyTemperature', 'https://webthing.protego.dynamicdashboard.ilabt.imec.be/things/zplus_6.F8%253A33%253A31%253A46%253A6E%253A0B%252Fservice0010/properties/org.dyamand.types.health.BodyTemperature', 'https://webthing.protego.dynamicdashboard.ilabt.imec.be/things/zplus_6.00%253A9D%253A6B%253A89%253A43%253ACD%252Fservice0025/properties/org.dyamand.types.health.SystolicBloodPressure', 'https://webthing.protego.dynamicdashboard.ilabt.imec.be/things/zplus_6.00%253A9D%253A6B%253A89%253A43%253ACD%252Fservice0025/properties/org.dyamand.types.health.DiastolicBloodPressure', 'https://webthing.protego.dynamicdashboard.ilabt.imec.be/things/zplus_6.00%253A9D%253A6B%253A89%253A43%253ACD%252Fservice0025/properties/org.dyamand.types.health.HeartRate'] ['https://webthing.protego.dynamicdashboard.ilabt.imec.be/things/zplus_27.lifestyle/properties/enriched-call']\n",
      "https://dynamicdashboard.ilabt.imec.be/users/8 http://example.com/tx/patients/zplus_36\n"
     ]
    },
    {
     "name": "stderr",
     "output_type": "stream",
     "text": [
      " 25%|█████████████████████                                                               | 1/4 [00:00<00:01,  2.63it/s]"
     ]
    },
    {
     "name": "stdout",
     "output_type": "stream",
     "text": [
      "['https://webthing.protego.dynamicdashboard.ilabt.imec.be/things/zplus_6.60%253A77%253A71%253A7D%253A93%253AD7%252Fservice0009/properties/org.dyamand.types.health.GlucoseLevel', 'https://webthing.protego.dynamicdashboard.ilabt.imec.be/things/zplus_6.lifestyle/properties/enriched-call', 'https://webthing.protego.dynamicdashboard.ilabt.imec.be/things/zplus_6.B0%253A91%253A22%253AFB%253AD0%253A78%252Fservice0009/properties/org.dyamand.types.health.GlucoseLevel', 'https://webthing.protego.dynamicdashboard.ilabt.imec.be/things/zplus_6.00%253A1C%253A05%253AFE%253A44%253A6B%252Fservice0029/properties/org.dyamand.types.health.SpO2', 'https://webthing.protego.dynamicdashboard.ilabt.imec.be/things/zplus_6.00%253A1C%253A05%253AFF%253AA9%253A4E%252Fservice0029/properties/org.dyamand.types.health.SpO2', 'https://webthing.protego.dynamicdashboard.ilabt.imec.be/things/zplus_6.F8%253A33%253A31%253A46%253A7F.D0%252Fservice0010/properties/org.dyamand.types.health.BodyTemperature', 'https://webthing.protego.dynamicdashboard.ilabt.imec.be/things/zplus_6.F8%253A33%253A31%253A46%253A6E%253A0B%252Fservice0010/properties/org.dyamand.types.health.BodyTemperature', 'https://webthing.protego.dynamicdashboard.ilabt.imec.be/things/zplus_6.00%253A9D%253A6B%253A89%253A43%253ACD%252Fservice0025/properties/org.dyamand.types.health.SystolicBloodPressure', 'https://webthing.protego.dynamicdashboard.ilabt.imec.be/things/zplus_6.00%253A9D%253A6B%253A89%253A43%253ACD%252Fservice0025/properties/org.dyamand.types.health.DiastolicBloodPressure', 'https://webthing.protego.dynamicdashboard.ilabt.imec.be/things/zplus_6.00%253A9D%253A6B%253A89%253A43%253ACD%252Fservice0025/properties/org.dyamand.types.health.HeartRate'] ['https://webthing.protego.dynamicdashboard.ilabt.imec.be/things/zplus_36.60%253A77%253A71%253A7D%253A93%253AD7%252Fservice0009/properties/org.dyamand.types.health.GlucoseLevel']\n",
      "https://dynamicdashboard.ilabt.imec.be/users/10 http://example.com/tx/patients/zplus_62\n",
      "['https://webthing.protego.dynamicdashboard.ilabt.imec.be/things/zplus_6.60%253A77%253A71%253A7D%253A93%253AD7%252Fservice0009/properties/org.dyamand.types.health.GlucoseLevel', 'https://webthing.protego.dynamicdashboard.ilabt.imec.be/things/zplus_6.lifestyle/properties/enriched-call', 'https://webthing.protego.dynamicdashboard.ilabt.imec.be/things/zplus_6.B0%253A91%253A22%253AFB%253AD0%253A78%252Fservice0009/properties/org.dyamand.types.health.GlucoseLevel', 'https://webthing.protego.dynamicdashboard.ilabt.imec.be/things/zplus_6.00%253A1C%253A05%253AFE%253A44%253A6B%252Fservice0029/properties/org.dyamand.types.health.SpO2', 'https://webthing.protego.dynamicdashboard.ilabt.imec.be/things/zplus_6.00%253A1C%253A05%253AFF%253AA9%253A4E%252Fservice0029/properties/org.dyamand.types.health.SpO2', 'https://webthing.protego.dynamicdashboard.ilabt.imec.be/things/zplus_6.F8%253A33%253A31%253A46%253A7F.D0%252Fservice0010/properties/org.dyamand.types.health.BodyTemperature', 'https://webthing.protego.dynamicdashboard.ilabt.imec.be/things/zplus_6.F8%253A33%253A31%253A46%253A6E%253A0B%252Fservice0010/properties/org.dyamand.types.health.BodyTemperature', 'https://webthing.protego.dynamicdashboard.ilabt.imec.be/things/zplus_6.00%253A9D%253A6B%253A89%253A43%253ACD%252Fservice0025/properties/org.dyamand.types.health.SystolicBloodPressure', 'https://webthing.protego.dynamicdashboard.ilabt.imec.be/things/zplus_6.00%253A9D%253A6B%253A89%253A43%253ACD%252Fservice0025/properties/org.dyamand.types.health.DiastolicBloodPressure', 'https://webthing.protego.dynamicdashboard.ilabt.imec.be/things/zplus_6.00%253A9D%253A6B%253A89%253A43%253ACD%252Fservice0025/properties/org.dyamand.types.health.HeartRate'] ['https://webthing.protego.dynamicdashboard.ilabt.imec.be/things/zplus_62.lifestyle/properties/enriched-call']\n",
      "https://dynamicdashboard.ilabt.imec.be/users/10 http://example.com/tx/patients/zplus_129\n",
      "['https://webthing.protego.dynamicdashboard.ilabt.imec.be/things/zplus_6.60%253A77%253A71%253A7D%253A93%253AD7%252Fservice0009/properties/org.dyamand.types.health.GlucoseLevel', 'https://webthing.protego.dynamicdashboard.ilabt.imec.be/things/zplus_6.lifestyle/properties/enriched-call', 'https://webthing.protego.dynamicdashboard.ilabt.imec.be/things/zplus_6.B0%253A91%253A22%253AFB%253AD0%253A78%252Fservice0009/properties/org.dyamand.types.health.GlucoseLevel', 'https://webthing.protego.dynamicdashboard.ilabt.imec.be/things/zplus_6.00%253A1C%253A05%253AFE%253A44%253A6B%252Fservice0029/properties/org.dyamand.types.health.SpO2', 'https://webthing.protego.dynamicdashboard.ilabt.imec.be/things/zplus_6.00%253A1C%253A05%253AFF%253AA9%253A4E%252Fservice0029/properties/org.dyamand.types.health.SpO2', 'https://webthing.protego.dynamicdashboard.ilabt.imec.be/things/zplus_6.F8%253A33%253A31%253A46%253A7F.D0%252Fservice0010/properties/org.dyamand.types.health.BodyTemperature', 'https://webthing.protego.dynamicdashboard.ilabt.imec.be/things/zplus_6.F8%253A33%253A31%253A46%253A6E%253A0B%252Fservice0010/properties/org.dyamand.types.health.BodyTemperature', 'https://webthing.protego.dynamicdashboard.ilabt.imec.be/things/zplus_6.00%253A9D%253A6B%253A89%253A43%253ACD%252Fservice0025/properties/org.dyamand.types.health.SystolicBloodPressure', 'https://webthing.protego.dynamicdashboard.ilabt.imec.be/things/zplus_6.00%253A9D%253A6B%253A89%253A43%253ACD%252Fservice0025/properties/org.dyamand.types.health.DiastolicBloodPressure', 'https://webthing.protego.dynamicdashboard.ilabt.imec.be/things/zplus_6.00%253A9D%253A6B%253A89%253A43%253ACD%252Fservice0025/properties/org.dyamand.types.health.HeartRate'] ['https://webthing.protego.dynamicdashboard.ilabt.imec.be/things/zplus_129.lifestyle/properties/enriched-call']\n"
     ]
    },
    {
     "name": "stderr",
     "output_type": "stream",
     "text": [
      " 50%|██████████████████████████████████████████                                          | 2/4 [00:00<00:00,  3.59it/s]"
     ]
    },
    {
     "name": "stdout",
     "output_type": "stream",
     "text": [
      "https://dynamicdashboard.ilabt.imec.be/users/7 http://example.com/tx/patients/zplus_75\n",
      "['https://webthing.protego.dynamicdashboard.ilabt.imec.be/things/zplus_6.60%253A77%253A71%253A7D%253A93%253AD7%252Fservice0009/properties/org.dyamand.types.health.GlucoseLevel', 'https://webthing.protego.dynamicdashboard.ilabt.imec.be/things/zplus_6.lifestyle/properties/enriched-call', 'https://webthing.protego.dynamicdashboard.ilabt.imec.be/things/zplus_6.B0%253A91%253A22%253AFB%253AD0%253A78%252Fservice0009/properties/org.dyamand.types.health.GlucoseLevel', 'https://webthing.protego.dynamicdashboard.ilabt.imec.be/things/zplus_6.00%253A1C%253A05%253AFE%253A44%253A6B%252Fservice0029/properties/org.dyamand.types.health.SpO2', 'https://webthing.protego.dynamicdashboard.ilabt.imec.be/things/zplus_6.00%253A1C%253A05%253AFF%253AA9%253A4E%252Fservice0029/properties/org.dyamand.types.health.SpO2', 'https://webthing.protego.dynamicdashboard.ilabt.imec.be/things/zplus_6.F8%253A33%253A31%253A46%253A7F.D0%252Fservice0010/properties/org.dyamand.types.health.BodyTemperature', 'https://webthing.protego.dynamicdashboard.ilabt.imec.be/things/zplus_6.F8%253A33%253A31%253A46%253A6E%253A0B%252Fservice0010/properties/org.dyamand.types.health.BodyTemperature', 'https://webthing.protego.dynamicdashboard.ilabt.imec.be/things/zplus_6.00%253A9D%253A6B%253A89%253A43%253ACD%252Fservice0025/properties/org.dyamand.types.health.SystolicBloodPressure', 'https://webthing.protego.dynamicdashboard.ilabt.imec.be/things/zplus_6.00%253A9D%253A6B%253A89%253A43%253ACD%252Fservice0025/properties/org.dyamand.types.health.DiastolicBloodPressure', 'https://webthing.protego.dynamicdashboard.ilabt.imec.be/things/zplus_6.00%253A9D%253A6B%253A89%253A43%253ACD%252Fservice0025/properties/org.dyamand.types.health.HeartRate'] ['https://webthing.protego.dynamicdashboard.ilabt.imec.be/things/zplus_75.lifestyle/properties/enriched-call']\n",
      "https://dynamicdashboard.ilabt.imec.be/users/7 http://example.com/tx/patients/zplus_146\n",
      "['https://webthing.protego.dynamicdashboard.ilabt.imec.be/things/zplus_6.60%253A77%253A71%253A7D%253A93%253AD7%252Fservice0009/properties/org.dyamand.types.health.GlucoseLevel', 'https://webthing.protego.dynamicdashboard.ilabt.imec.be/things/zplus_6.lifestyle/properties/enriched-call', 'https://webthing.protego.dynamicdashboard.ilabt.imec.be/things/zplus_6.B0%253A91%253A22%253AFB%253AD0%253A78%252Fservice0009/properties/org.dyamand.types.health.GlucoseLevel', 'https://webthing.protego.dynamicdashboard.ilabt.imec.be/things/zplus_6.00%253A1C%253A05%253AFE%253A44%253A6B%252Fservice0029/properties/org.dyamand.types.health.SpO2', 'https://webthing.protego.dynamicdashboard.ilabt.imec.be/things/zplus_6.00%253A1C%253A05%253AFF%253AA9%253A4E%252Fservice0029/properties/org.dyamand.types.health.SpO2', 'https://webthing.protego.dynamicdashboard.ilabt.imec.be/things/zplus_6.F8%253A33%253A31%253A46%253A7F.D0%252Fservice0010/properties/org.dyamand.types.health.BodyTemperature', 'https://webthing.protego.dynamicdashboard.ilabt.imec.be/things/zplus_6.F8%253A33%253A31%253A46%253A6E%253A0B%252Fservice0010/properties/org.dyamand.types.health.BodyTemperature', 'https://webthing.protego.dynamicdashboard.ilabt.imec.be/things/zplus_6.00%253A9D%253A6B%253A89%253A43%253ACD%252Fservice0025/properties/org.dyamand.types.health.SystolicBloodPressure', 'https://webthing.protego.dynamicdashboard.ilabt.imec.be/things/zplus_6.00%253A9D%253A6B%253A89%253A43%253ACD%252Fservice0025/properties/org.dyamand.types.health.DiastolicBloodPressure', 'https://webthing.protego.dynamicdashboard.ilabt.imec.be/things/zplus_6.00%253A9D%253A6B%253A89%253A43%253ACD%252Fservice0025/properties/org.dyamand.types.health.HeartRate'] ['https://webthing.protego.dynamicdashboard.ilabt.imec.be/things/zplus_146.lifestyle/properties/enriched-call']\n",
      "https://dynamicdashboard.ilabt.imec.be/users/7 http://example.com/tx/patients/zplus_144\n"
     ]
    },
    {
     "name": "stderr",
     "output_type": "stream",
     "text": [
      " 75%|███████████████████████████████████████████████████████████████                     | 3/4 [00:00<00:00,  3.54it/s]"
     ]
    },
    {
     "name": "stdout",
     "output_type": "stream",
     "text": [
      "['https://webthing.protego.dynamicdashboard.ilabt.imec.be/things/zplus_6.60%253A77%253A71%253A7D%253A93%253AD7%252Fservice0009/properties/org.dyamand.types.health.GlucoseLevel', 'https://webthing.protego.dynamicdashboard.ilabt.imec.be/things/zplus_6.lifestyle/properties/enriched-call', 'https://webthing.protego.dynamicdashboard.ilabt.imec.be/things/zplus_6.B0%253A91%253A22%253AFB%253AD0%253A78%252Fservice0009/properties/org.dyamand.types.health.GlucoseLevel', 'https://webthing.protego.dynamicdashboard.ilabt.imec.be/things/zplus_6.00%253A1C%253A05%253AFE%253A44%253A6B%252Fservice0029/properties/org.dyamand.types.health.SpO2', 'https://webthing.protego.dynamicdashboard.ilabt.imec.be/things/zplus_6.00%253A1C%253A05%253AFF%253AA9%253A4E%252Fservice0029/properties/org.dyamand.types.health.SpO2', 'https://webthing.protego.dynamicdashboard.ilabt.imec.be/things/zplus_6.F8%253A33%253A31%253A46%253A7F.D0%252Fservice0010/properties/org.dyamand.types.health.BodyTemperature', 'https://webthing.protego.dynamicdashboard.ilabt.imec.be/things/zplus_6.F8%253A33%253A31%253A46%253A6E%253A0B%252Fservice0010/properties/org.dyamand.types.health.BodyTemperature', 'https://webthing.protego.dynamicdashboard.ilabt.imec.be/things/zplus_6.00%253A9D%253A6B%253A89%253A43%253ACD%252Fservice0025/properties/org.dyamand.types.health.SystolicBloodPressure', 'https://webthing.protego.dynamicdashboard.ilabt.imec.be/things/zplus_6.00%253A9D%253A6B%253A89%253A43%253ACD%252Fservice0025/properties/org.dyamand.types.health.DiastolicBloodPressure', 'https://webthing.protego.dynamicdashboard.ilabt.imec.be/things/zplus_6.00%253A9D%253A6B%253A89%253A43%253ACD%252Fservice0025/properties/org.dyamand.types.health.HeartRate'] ['https://webthing.protego.dynamicdashboard.ilabt.imec.be/things/zplus_144.00%253A9D%253A6B%253A89%253A43%253ACD%252Fservice0025/properties/org.dyamand.types.health.SystolicBloodPressure']\n",
      "https://dynamicdashboard.ilabt.imec.be/users/9 http://example.com/tx/patients/zplus_20\n",
      "['https://webthing.protego.dynamicdashboard.ilabt.imec.be/things/zplus_6.60%253A77%253A71%253A7D%253A93%253AD7%252Fservice0009/properties/org.dyamand.types.health.GlucoseLevel', 'https://webthing.protego.dynamicdashboard.ilabt.imec.be/things/zplus_6.lifestyle/properties/enriched-call', 'https://webthing.protego.dynamicdashboard.ilabt.imec.be/things/zplus_6.B0%253A91%253A22%253AFB%253AD0%253A78%252Fservice0009/properties/org.dyamand.types.health.GlucoseLevel', 'https://webthing.protego.dynamicdashboard.ilabt.imec.be/things/zplus_6.00%253A1C%253A05%253AFE%253A44%253A6B%252Fservice0029/properties/org.dyamand.types.health.SpO2', 'https://webthing.protego.dynamicdashboard.ilabt.imec.be/things/zplus_6.00%253A1C%253A05%253AFF%253AA9%253A4E%252Fservice0029/properties/org.dyamand.types.health.SpO2', 'https://webthing.protego.dynamicdashboard.ilabt.imec.be/things/zplus_6.F8%253A33%253A31%253A46%253A7F.D0%252Fservice0010/properties/org.dyamand.types.health.BodyTemperature', 'https://webthing.protego.dynamicdashboard.ilabt.imec.be/things/zplus_6.F8%253A33%253A31%253A46%253A6E%253A0B%252Fservice0010/properties/org.dyamand.types.health.BodyTemperature', 'https://webthing.protego.dynamicdashboard.ilabt.imec.be/things/zplus_6.00%253A9D%253A6B%253A89%253A43%253ACD%252Fservice0025/properties/org.dyamand.types.health.SystolicBloodPressure', 'https://webthing.protego.dynamicdashboard.ilabt.imec.be/things/zplus_6.00%253A9D%253A6B%253A89%253A43%253ACD%252Fservice0025/properties/org.dyamand.types.health.DiastolicBloodPressure', 'https://webthing.protego.dynamicdashboard.ilabt.imec.be/things/zplus_6.00%253A9D%253A6B%253A89%253A43%253ACD%252Fservice0025/properties/org.dyamand.types.health.HeartRate'] ['https://webthing.protego.dynamicdashboard.ilabt.imec.be/things/zplus_20.60%253A77%253A71%253A7D%253A93%253AD7%252Fservice0009/properties/org.dyamand.types.health.GlucoseLevel']\n",
      "https://dynamicdashboard.ilabt.imec.be/users/9 http://example.com/tx/patients/zplus_6\n"
     ]
    },
    {
     "name": "stderr",
     "output_type": "stream",
     "text": [
      "100%|████████████████████████████████████████████████████████████████████████████████████| 4/4 [00:01<00:00,  3.13it/s]"
     ]
    },
    {
     "name": "stdout",
     "output_type": "stream",
     "text": [
      "['https://webthing.protego.dynamicdashboard.ilabt.imec.be/things/zplus_6.60%253A77%253A71%253A7D%253A93%253AD7%252Fservice0009/properties/org.dyamand.types.health.GlucoseLevel', 'https://webthing.protego.dynamicdashboard.ilabt.imec.be/things/zplus_6.lifestyle/properties/enriched-call', 'https://webthing.protego.dynamicdashboard.ilabt.imec.be/things/zplus_6.B0%253A91%253A22%253AFB%253AD0%253A78%252Fservice0009/properties/org.dyamand.types.health.GlucoseLevel', 'https://webthing.protego.dynamicdashboard.ilabt.imec.be/things/zplus_6.00%253A1C%253A05%253AFE%253A44%253A6B%252Fservice0029/properties/org.dyamand.types.health.SpO2', 'https://webthing.protego.dynamicdashboard.ilabt.imec.be/things/zplus_6.00%253A1C%253A05%253AFF%253AA9%253A4E%252Fservice0029/properties/org.dyamand.types.health.SpO2', 'https://webthing.protego.dynamicdashboard.ilabt.imec.be/things/zplus_6.F8%253A33%253A31%253A46%253A7F.D0%252Fservice0010/properties/org.dyamand.types.health.BodyTemperature', 'https://webthing.protego.dynamicdashboard.ilabt.imec.be/things/zplus_6.F8%253A33%253A31%253A46%253A6E%253A0B%252Fservice0010/properties/org.dyamand.types.health.BodyTemperature', 'https://webthing.protego.dynamicdashboard.ilabt.imec.be/things/zplus_6.00%253A9D%253A6B%253A89%253A43%253ACD%252Fservice0025/properties/org.dyamand.types.health.SystolicBloodPressure', 'https://webthing.protego.dynamicdashboard.ilabt.imec.be/things/zplus_6.00%253A9D%253A6B%253A89%253A43%253ACD%252Fservice0025/properties/org.dyamand.types.health.DiastolicBloodPressure', 'https://webthing.protego.dynamicdashboard.ilabt.imec.be/things/zplus_6.00%253A9D%253A6B%253A89%253A43%253ACD%252Fservice0025/properties/org.dyamand.types.health.HeartRate'] ['https://webthing.protego.dynamicdashboard.ilabt.imec.be/things/zplus_6.60%253A77%253A71%253A7D%253A93%253AD7%252Fservice0009/properties/org.dyamand.types.health.GlucoseLevel']\n",
      "https://dynamicdashboard.ilabt.imec.be/users/9 http://example.com/tx/patients/zplus_103\n",
      "['https://webthing.protego.dynamicdashboard.ilabt.imec.be/things/zplus_6.60%253A77%253A71%253A7D%253A93%253AD7%252Fservice0009/properties/org.dyamand.types.health.GlucoseLevel', 'https://webthing.protego.dynamicdashboard.ilabt.imec.be/things/zplus_6.lifestyle/properties/enriched-call', 'https://webthing.protego.dynamicdashboard.ilabt.imec.be/things/zplus_6.B0%253A91%253A22%253AFB%253AD0%253A78%252Fservice0009/properties/org.dyamand.types.health.GlucoseLevel', 'https://webthing.protego.dynamicdashboard.ilabt.imec.be/things/zplus_6.00%253A1C%253A05%253AFE%253A44%253A6B%252Fservice0029/properties/org.dyamand.types.health.SpO2', 'https://webthing.protego.dynamicdashboard.ilabt.imec.be/things/zplus_6.00%253A1C%253A05%253AFF%253AA9%253A4E%252Fservice0029/properties/org.dyamand.types.health.SpO2', 'https://webthing.protego.dynamicdashboard.ilabt.imec.be/things/zplus_6.F8%253A33%253A31%253A46%253A7F.D0%252Fservice0010/properties/org.dyamand.types.health.BodyTemperature', 'https://webthing.protego.dynamicdashboard.ilabt.imec.be/things/zplus_6.F8%253A33%253A31%253A46%253A6E%253A0B%252Fservice0010/properties/org.dyamand.types.health.BodyTemperature', 'https://webthing.protego.dynamicdashboard.ilabt.imec.be/things/zplus_6.00%253A9D%253A6B%253A89%253A43%253ACD%252Fservice0025/properties/org.dyamand.types.health.SystolicBloodPressure', 'https://webthing.protego.dynamicdashboard.ilabt.imec.be/things/zplus_6.00%253A9D%253A6B%253A89%253A43%253ACD%252Fservice0025/properties/org.dyamand.types.health.DiastolicBloodPressure', 'https://webthing.protego.dynamicdashboard.ilabt.imec.be/things/zplus_6.00%253A9D%253A6B%253A89%253A43%253ACD%252Fservice0025/properties/org.dyamand.types.health.HeartRate'] ['https://webthing.protego.dynamicdashboard.ilabt.imec.be/things/zplus_103.00%253A9D%253A6B%253A89%253A43%253ACD%252Fservice0025/properties/org.dyamand.types.health.SystolicBloodPressure']\n"
     ]
    },
    {
     "name": "stderr",
     "output_type": "stream",
     "text": [
      "\n",
      "  0%|                                                                                            | 0/4 [00:00<?, ?it/s]"
     ]
    },
    {
     "name": "stdout",
     "output_type": "stream",
     "text": [
      "https://dynamicdashboard.ilabt.imec.be/users/9 http://example.com/tx/patients/zplus_6\n",
      "['https://webthing.protego.dynamicdashboard.ilabt.imec.be/things/zplus_6.60%253A77%253A71%253A7D%253A93%253AD7%252Fservice0009/properties/org.dyamand.types.health.GlucoseLevel', 'https://webthing.protego.dynamicdashboard.ilabt.imec.be/things/zplus_6.lifestyle/properties/enriched-call', 'https://webthing.protego.dynamicdashboard.ilabt.imec.be/things/zplus_6.B0%253A91%253A22%253AFB%253AD0%253A78%252Fservice0009/properties/org.dyamand.types.health.GlucoseLevel', 'https://webthing.protego.dynamicdashboard.ilabt.imec.be/things/zplus_6.00%253A1C%253A05%253AFE%253A44%253A6B%252Fservice0029/properties/org.dyamand.types.health.SpO2', 'https://webthing.protego.dynamicdashboard.ilabt.imec.be/things/zplus_6.00%253A1C%253A05%253AFF%253AA9%253A4E%252Fservice0029/properties/org.dyamand.types.health.SpO2', 'https://webthing.protego.dynamicdashboard.ilabt.imec.be/things/zplus_6.F8%253A33%253A31%253A46%253A7F.D0%252Fservice0010/properties/org.dyamand.types.health.BodyTemperature', 'https://webthing.protego.dynamicdashboard.ilabt.imec.be/things/zplus_6.F8%253A33%253A31%253A46%253A6E%253A0B%252Fservice0010/properties/org.dyamand.types.health.BodyTemperature', 'https://webthing.protego.dynamicdashboard.ilabt.imec.be/things/zplus_6.00%253A9D%253A6B%253A89%253A43%253ACD%252Fservice0025/properties/org.dyamand.types.health.SystolicBloodPressure', 'https://webthing.protego.dynamicdashboard.ilabt.imec.be/things/zplus_6.00%253A9D%253A6B%253A89%253A43%253ACD%252Fservice0025/properties/org.dyamand.types.health.DiastolicBloodPressure', 'https://webthing.protego.dynamicdashboard.ilabt.imec.be/things/zplus_6.00%253A9D%253A6B%253A89%253A43%253ACD%252Fservice0025/properties/org.dyamand.types.health.HeartRate'] ['https://webthing.protego.dynamicdashboard.ilabt.imec.be/things/zplus_6.lifestyle/properties/enriched-call']\n",
      "https://dynamicdashboard.ilabt.imec.be/users/9 http://example.com/tx/patients/zplus_20\n",
      "['https://webthing.protego.dynamicdashboard.ilabt.imec.be/things/zplus_6.60%253A77%253A71%253A7D%253A93%253AD7%252Fservice0009/properties/org.dyamand.types.health.GlucoseLevel', 'https://webthing.protego.dynamicdashboard.ilabt.imec.be/things/zplus_6.lifestyle/properties/enriched-call', 'https://webthing.protego.dynamicdashboard.ilabt.imec.be/things/zplus_6.B0%253A91%253A22%253AFB%253AD0%253A78%252Fservice0009/properties/org.dyamand.types.health.GlucoseLevel', 'https://webthing.protego.dynamicdashboard.ilabt.imec.be/things/zplus_6.00%253A1C%253A05%253AFE%253A44%253A6B%252Fservice0029/properties/org.dyamand.types.health.SpO2', 'https://webthing.protego.dynamicdashboard.ilabt.imec.be/things/zplus_6.00%253A1C%253A05%253AFF%253AA9%253A4E%252Fservice0029/properties/org.dyamand.types.health.SpO2', 'https://webthing.protego.dynamicdashboard.ilabt.imec.be/things/zplus_6.F8%253A33%253A31%253A46%253A7F.D0%252Fservice0010/properties/org.dyamand.types.health.BodyTemperature', 'https://webthing.protego.dynamicdashboard.ilabt.imec.be/things/zplus_6.F8%253A33%253A31%253A46%253A6E%253A0B%252Fservice0010/properties/org.dyamand.types.health.BodyTemperature', 'https://webthing.protego.dynamicdashboard.ilabt.imec.be/things/zplus_6.00%253A9D%253A6B%253A89%253A43%253ACD%252Fservice0025/properties/org.dyamand.types.health.SystolicBloodPressure', 'https://webthing.protego.dynamicdashboard.ilabt.imec.be/things/zplus_6.00%253A9D%253A6B%253A89%253A43%253ACD%252Fservice0025/properties/org.dyamand.types.health.DiastolicBloodPressure', 'https://webthing.protego.dynamicdashboard.ilabt.imec.be/things/zplus_6.00%253A9D%253A6B%253A89%253A43%253ACD%252Fservice0025/properties/org.dyamand.types.health.HeartRate'] ['https://webthing.protego.dynamicdashboard.ilabt.imec.be/things/zplus_20.lifestyle/properties/enriched-call']\n",
      "https://dynamicdashboard.ilabt.imec.be/users/9 http://example.com/tx/patients/zplus_103\n"
     ]
    },
    {
     "name": "stderr",
     "output_type": "stream",
     "text": [
      " 25%|█████████████████████                                                               | 1/4 [00:00<00:00,  3.50it/s]"
     ]
    },
    {
     "name": "stdout",
     "output_type": "stream",
     "text": [
      "['https://webthing.protego.dynamicdashboard.ilabt.imec.be/things/zplus_6.60%253A77%253A71%253A7D%253A93%253AD7%252Fservice0009/properties/org.dyamand.types.health.GlucoseLevel', 'https://webthing.protego.dynamicdashboard.ilabt.imec.be/things/zplus_6.lifestyle/properties/enriched-call', 'https://webthing.protego.dynamicdashboard.ilabt.imec.be/things/zplus_6.B0%253A91%253A22%253AFB%253AD0%253A78%252Fservice0009/properties/org.dyamand.types.health.GlucoseLevel', 'https://webthing.protego.dynamicdashboard.ilabt.imec.be/things/zplus_6.00%253A1C%253A05%253AFE%253A44%253A6B%252Fservice0029/properties/org.dyamand.types.health.SpO2', 'https://webthing.protego.dynamicdashboard.ilabt.imec.be/things/zplus_6.00%253A1C%253A05%253AFF%253AA9%253A4E%252Fservice0029/properties/org.dyamand.types.health.SpO2', 'https://webthing.protego.dynamicdashboard.ilabt.imec.be/things/zplus_6.F8%253A33%253A31%253A46%253A7F.D0%252Fservice0010/properties/org.dyamand.types.health.BodyTemperature', 'https://webthing.protego.dynamicdashboard.ilabt.imec.be/things/zplus_6.F8%253A33%253A31%253A46%253A6E%253A0B%252Fservice0010/properties/org.dyamand.types.health.BodyTemperature', 'https://webthing.protego.dynamicdashboard.ilabt.imec.be/things/zplus_6.00%253A9D%253A6B%253A89%253A43%253ACD%252Fservice0025/properties/org.dyamand.types.health.SystolicBloodPressure', 'https://webthing.protego.dynamicdashboard.ilabt.imec.be/things/zplus_6.00%253A9D%253A6B%253A89%253A43%253ACD%252Fservice0025/properties/org.dyamand.types.health.DiastolicBloodPressure', 'https://webthing.protego.dynamicdashboard.ilabt.imec.be/things/zplus_6.00%253A9D%253A6B%253A89%253A43%253ACD%252Fservice0025/properties/org.dyamand.types.health.HeartRate'] ['https://webthing.protego.dynamicdashboard.ilabt.imec.be/things/zplus_103.lifestyle/properties/enriched-call']\n",
      "https://dynamicdashboard.ilabt.imec.be/users/8 http://example.com/tx/patients/zplus_25\n",
      "['https://webthing.protego.dynamicdashboard.ilabt.imec.be/things/zplus_6.60%253A77%253A71%253A7D%253A93%253AD7%252Fservice0009/properties/org.dyamand.types.health.GlucoseLevel', 'https://webthing.protego.dynamicdashboard.ilabt.imec.be/things/zplus_6.lifestyle/properties/enriched-call', 'https://webthing.protego.dynamicdashboard.ilabt.imec.be/things/zplus_6.B0%253A91%253A22%253AFB%253AD0%253A78%252Fservice0009/properties/org.dyamand.types.health.GlucoseLevel', 'https://webthing.protego.dynamicdashboard.ilabt.imec.be/things/zplus_6.00%253A1C%253A05%253AFE%253A44%253A6B%252Fservice0029/properties/org.dyamand.types.health.SpO2', 'https://webthing.protego.dynamicdashboard.ilabt.imec.be/things/zplus_6.00%253A1C%253A05%253AFF%253AA9%253A4E%252Fservice0029/properties/org.dyamand.types.health.SpO2', 'https://webthing.protego.dynamicdashboard.ilabt.imec.be/things/zplus_6.F8%253A33%253A31%253A46%253A7F.D0%252Fservice0010/properties/org.dyamand.types.health.BodyTemperature', 'https://webthing.protego.dynamicdashboard.ilabt.imec.be/things/zplus_6.F8%253A33%253A31%253A46%253A6E%253A0B%252Fservice0010/properties/org.dyamand.types.health.BodyTemperature', 'https://webthing.protego.dynamicdashboard.ilabt.imec.be/things/zplus_6.00%253A9D%253A6B%253A89%253A43%253ACD%252Fservice0025/properties/org.dyamand.types.health.SystolicBloodPressure', 'https://webthing.protego.dynamicdashboard.ilabt.imec.be/things/zplus_6.00%253A9D%253A6B%253A89%253A43%253ACD%252Fservice0025/properties/org.dyamand.types.health.DiastolicBloodPressure', 'https://webthing.protego.dynamicdashboard.ilabt.imec.be/things/zplus_6.00%253A9D%253A6B%253A89%253A43%253ACD%252Fservice0025/properties/org.dyamand.types.health.HeartRate'] ['https://webthing.protego.dynamicdashboard.ilabt.imec.be/things/zplus_25.lifestyle/properties/enriched-call', 'https://webthing.protego.dynamicdashboard.ilabt.imec.be/things/zplus_25.60%253A77%253A71%253A7D%253A93%253AD7%252Fservice0009/properties/org.dyamand.types.health.GlucoseLevel']\n",
      "https://dynamicdashboard.ilabt.imec.be/users/8 http://example.com/tx/patients/zplus_35\n",
      "['https://webthing.protego.dynamicdashboard.ilabt.imec.be/things/zplus_6.60%253A77%253A71%253A7D%253A93%253AD7%252Fservice0009/properties/org.dyamand.types.health.GlucoseLevel', 'https://webthing.protego.dynamicdashboard.ilabt.imec.be/things/zplus_6.lifestyle/properties/enriched-call', 'https://webthing.protego.dynamicdashboard.ilabt.imec.be/things/zplus_6.B0%253A91%253A22%253AFB%253AD0%253A78%252Fservice0009/properties/org.dyamand.types.health.GlucoseLevel', 'https://webthing.protego.dynamicdashboard.ilabt.imec.be/things/zplus_6.00%253A1C%253A05%253AFE%253A44%253A6B%252Fservice0029/properties/org.dyamand.types.health.SpO2', 'https://webthing.protego.dynamicdashboard.ilabt.imec.be/things/zplus_6.00%253A1C%253A05%253AFF%253AA9%253A4E%252Fservice0029/properties/org.dyamand.types.health.SpO2', 'https://webthing.protego.dynamicdashboard.ilabt.imec.be/things/zplus_6.F8%253A33%253A31%253A46%253A7F.D0%252Fservice0010/properties/org.dyamand.types.health.BodyTemperature', 'https://webthing.protego.dynamicdashboard.ilabt.imec.be/things/zplus_6.F8%253A33%253A31%253A46%253A6E%253A0B%252Fservice0010/properties/org.dyamand.types.health.BodyTemperature', 'https://webthing.protego.dynamicdashboard.ilabt.imec.be/things/zplus_6.00%253A9D%253A6B%253A89%253A43%253ACD%252Fservice0025/properties/org.dyamand.types.health.SystolicBloodPressure', 'https://webthing.protego.dynamicdashboard.ilabt.imec.be/things/zplus_6.00%253A9D%253A6B%253A89%253A43%253ACD%252Fservice0025/properties/org.dyamand.types.health.DiastolicBloodPressure', 'https://webthing.protego.dynamicdashboard.ilabt.imec.be/things/zplus_6.00%253A9D%253A6B%253A89%253A43%253ACD%252Fservice0025/properties/org.dyamand.types.health.HeartRate'] ['https://webthing.protego.dynamicdashboard.ilabt.imec.be/things/zplus_35.lifestyle/properties/enriched-call']\n",
      "https://dynamicdashboard.ilabt.imec.be/users/8 http://example.com/tx/patients/zplus_25\n"
     ]
    },
    {
     "name": "stderr",
     "output_type": "stream",
     "text": [
      " 50%|██████████████████████████████████████████                                          | 2/4 [00:00<00:00,  3.47it/s]"
     ]
    },
    {
     "name": "stdout",
     "output_type": "stream",
     "text": [
      "['https://webthing.protego.dynamicdashboard.ilabt.imec.be/things/zplus_6.60%253A77%253A71%253A7D%253A93%253AD7%252Fservice0009/properties/org.dyamand.types.health.GlucoseLevel', 'https://webthing.protego.dynamicdashboard.ilabt.imec.be/things/zplus_6.lifestyle/properties/enriched-call', 'https://webthing.protego.dynamicdashboard.ilabt.imec.be/things/zplus_6.B0%253A91%253A22%253AFB%253AD0%253A78%252Fservice0009/properties/org.dyamand.types.health.GlucoseLevel', 'https://webthing.protego.dynamicdashboard.ilabt.imec.be/things/zplus_6.00%253A1C%253A05%253AFE%253A44%253A6B%252Fservice0029/properties/org.dyamand.types.health.SpO2', 'https://webthing.protego.dynamicdashboard.ilabt.imec.be/things/zplus_6.00%253A1C%253A05%253AFF%253AA9%253A4E%252Fservice0029/properties/org.dyamand.types.health.SpO2', 'https://webthing.protego.dynamicdashboard.ilabt.imec.be/things/zplus_6.F8%253A33%253A31%253A46%253A7F.D0%252Fservice0010/properties/org.dyamand.types.health.BodyTemperature', 'https://webthing.protego.dynamicdashboard.ilabt.imec.be/things/zplus_6.F8%253A33%253A31%253A46%253A6E%253A0B%252Fservice0010/properties/org.dyamand.types.health.BodyTemperature', 'https://webthing.protego.dynamicdashboard.ilabt.imec.be/things/zplus_6.00%253A9D%253A6B%253A89%253A43%253ACD%252Fservice0025/properties/org.dyamand.types.health.SystolicBloodPressure', 'https://webthing.protego.dynamicdashboard.ilabt.imec.be/things/zplus_6.00%253A9D%253A6B%253A89%253A43%253ACD%252Fservice0025/properties/org.dyamand.types.health.DiastolicBloodPressure', 'https://webthing.protego.dynamicdashboard.ilabt.imec.be/things/zplus_6.00%253A9D%253A6B%253A89%253A43%253ACD%252Fservice0025/properties/org.dyamand.types.health.HeartRate'] ['https://webthing.protego.dynamicdashboard.ilabt.imec.be/things/zplus_25.lifestyle/properties/enriched-call', 'https://webthing.protego.dynamicdashboard.ilabt.imec.be/things/zplus_25.60%253A77%253A71%253A7D%253A93%253AD7%252Fservice0009/properties/org.dyamand.types.health.GlucoseLevel']\n",
      "https://dynamicdashboard.ilabt.imec.be/users/10 http://example.com/tx/patients/zplus_127\n",
      "['https://webthing.protego.dynamicdashboard.ilabt.imec.be/things/zplus_6.60%253A77%253A71%253A7D%253A93%253AD7%252Fservice0009/properties/org.dyamand.types.health.GlucoseLevel', 'https://webthing.protego.dynamicdashboard.ilabt.imec.be/things/zplus_6.lifestyle/properties/enriched-call', 'https://webthing.protego.dynamicdashboard.ilabt.imec.be/things/zplus_6.B0%253A91%253A22%253AFB%253AD0%253A78%252Fservice0009/properties/org.dyamand.types.health.GlucoseLevel', 'https://webthing.protego.dynamicdashboard.ilabt.imec.be/things/zplus_6.00%253A1C%253A05%253AFE%253A44%253A6B%252Fservice0029/properties/org.dyamand.types.health.SpO2', 'https://webthing.protego.dynamicdashboard.ilabt.imec.be/things/zplus_6.00%253A1C%253A05%253AFF%253AA9%253A4E%252Fservice0029/properties/org.dyamand.types.health.SpO2', 'https://webthing.protego.dynamicdashboard.ilabt.imec.be/things/zplus_6.F8%253A33%253A31%253A46%253A7F.D0%252Fservice0010/properties/org.dyamand.types.health.BodyTemperature', 'https://webthing.protego.dynamicdashboard.ilabt.imec.be/things/zplus_6.F8%253A33%253A31%253A46%253A6E%253A0B%252Fservice0010/properties/org.dyamand.types.health.BodyTemperature', 'https://webthing.protego.dynamicdashboard.ilabt.imec.be/things/zplus_6.00%253A9D%253A6B%253A89%253A43%253ACD%252Fservice0025/properties/org.dyamand.types.health.SystolicBloodPressure', 'https://webthing.protego.dynamicdashboard.ilabt.imec.be/things/zplus_6.00%253A9D%253A6B%253A89%253A43%253ACD%252Fservice0025/properties/org.dyamand.types.health.DiastolicBloodPressure', 'https://webthing.protego.dynamicdashboard.ilabt.imec.be/things/zplus_6.00%253A9D%253A6B%253A89%253A43%253ACD%252Fservice0025/properties/org.dyamand.types.health.HeartRate'] ['https://webthing.protego.dynamicdashboard.ilabt.imec.be/things/zplus_127.60%253A77%253A71%253A7D%253A93%253AD7%252Fservice0009/properties/org.dyamand.types.health.GlucoseLevel']\n",
      "https://dynamicdashboard.ilabt.imec.be/users/10 http://example.com/tx/patients/zplus_62\n"
     ]
    },
    {
     "name": "stderr",
     "output_type": "stream",
     "text": [
      "100%|████████████████████████████████████████████████████████████████████████████████████| 4/4 [00:01<00:00,  3.57it/s]"
     ]
    },
    {
     "name": "stdout",
     "output_type": "stream",
     "text": [
      "['https://webthing.protego.dynamicdashboard.ilabt.imec.be/things/zplus_6.60%253A77%253A71%253A7D%253A93%253AD7%252Fservice0009/properties/org.dyamand.types.health.GlucoseLevel', 'https://webthing.protego.dynamicdashboard.ilabt.imec.be/things/zplus_6.lifestyle/properties/enriched-call', 'https://webthing.protego.dynamicdashboard.ilabt.imec.be/things/zplus_6.B0%253A91%253A22%253AFB%253AD0%253A78%252Fservice0009/properties/org.dyamand.types.health.GlucoseLevel', 'https://webthing.protego.dynamicdashboard.ilabt.imec.be/things/zplus_6.00%253A1C%253A05%253AFE%253A44%253A6B%252Fservice0029/properties/org.dyamand.types.health.SpO2', 'https://webthing.protego.dynamicdashboard.ilabt.imec.be/things/zplus_6.00%253A1C%253A05%253AFF%253AA9%253A4E%252Fservice0029/properties/org.dyamand.types.health.SpO2', 'https://webthing.protego.dynamicdashboard.ilabt.imec.be/things/zplus_6.F8%253A33%253A31%253A46%253A7F.D0%252Fservice0010/properties/org.dyamand.types.health.BodyTemperature', 'https://webthing.protego.dynamicdashboard.ilabt.imec.be/things/zplus_6.F8%253A33%253A31%253A46%253A6E%253A0B%252Fservice0010/properties/org.dyamand.types.health.BodyTemperature', 'https://webthing.protego.dynamicdashboard.ilabt.imec.be/things/zplus_6.00%253A9D%253A6B%253A89%253A43%253ACD%252Fservice0025/properties/org.dyamand.types.health.SystolicBloodPressure', 'https://webthing.protego.dynamicdashboard.ilabt.imec.be/things/zplus_6.00%253A9D%253A6B%253A89%253A43%253ACD%252Fservice0025/properties/org.dyamand.types.health.DiastolicBloodPressure', 'https://webthing.protego.dynamicdashboard.ilabt.imec.be/things/zplus_6.00%253A9D%253A6B%253A89%253A43%253ACD%252Fservice0025/properties/org.dyamand.types.health.HeartRate'] ['https://webthing.protego.dynamicdashboard.ilabt.imec.be/things/zplus_62.00%253A9D%253A6B%253A89%253A43%253ACD%252Fservice0025/properties/org.dyamand.types.health.SystolicBloodPressure']\n",
      "https://dynamicdashboard.ilabt.imec.be/users/7 http://example.com/tx/patients/zplus_9\n",
      "['https://webthing.protego.dynamicdashboard.ilabt.imec.be/things/zplus_6.60%253A77%253A71%253A7D%253A93%253AD7%252Fservice0009/properties/org.dyamand.types.health.GlucoseLevel', 'https://webthing.protego.dynamicdashboard.ilabt.imec.be/things/zplus_6.lifestyle/properties/enriched-call', 'https://webthing.protego.dynamicdashboard.ilabt.imec.be/things/zplus_6.B0%253A91%253A22%253AFB%253AD0%253A78%252Fservice0009/properties/org.dyamand.types.health.GlucoseLevel', 'https://webthing.protego.dynamicdashboard.ilabt.imec.be/things/zplus_6.00%253A1C%253A05%253AFE%253A44%253A6B%252Fservice0029/properties/org.dyamand.types.health.SpO2', 'https://webthing.protego.dynamicdashboard.ilabt.imec.be/things/zplus_6.00%253A1C%253A05%253AFF%253AA9%253A4E%252Fservice0029/properties/org.dyamand.types.health.SpO2', 'https://webthing.protego.dynamicdashboard.ilabt.imec.be/things/zplus_6.F8%253A33%253A31%253A46%253A7F.D0%252Fservice0010/properties/org.dyamand.types.health.BodyTemperature', 'https://webthing.protego.dynamicdashboard.ilabt.imec.be/things/zplus_6.F8%253A33%253A31%253A46%253A6E%253A0B%252Fservice0010/properties/org.dyamand.types.health.BodyTemperature', 'https://webthing.protego.dynamicdashboard.ilabt.imec.be/things/zplus_6.00%253A9D%253A6B%253A89%253A43%253ACD%252Fservice0025/properties/org.dyamand.types.health.SystolicBloodPressure', 'https://webthing.protego.dynamicdashboard.ilabt.imec.be/things/zplus_6.00%253A9D%253A6B%253A89%253A43%253ACD%252Fservice0025/properties/org.dyamand.types.health.DiastolicBloodPressure', 'https://webthing.protego.dynamicdashboard.ilabt.imec.be/things/zplus_6.00%253A9D%253A6B%253A89%253A43%253ACD%252Fservice0025/properties/org.dyamand.types.health.HeartRate'] ['https://webthing.protego.dynamicdashboard.ilabt.imec.be/things/zplus_9.00%253A9D%253A6B%253A89%253A43%253ACD%252Fservice0025/properties/org.dyamand.types.health.SystolicBloodPressure']\n",
      "https://dynamicdashboard.ilabt.imec.be/users/7 http://example.com/tx/patients/zplus_2\n",
      "['https://webthing.protego.dynamicdashboard.ilabt.imec.be/things/zplus_6.60%253A77%253A71%253A7D%253A93%253AD7%252Fservice0009/properties/org.dyamand.types.health.GlucoseLevel', 'https://webthing.protego.dynamicdashboard.ilabt.imec.be/things/zplus_6.lifestyle/properties/enriched-call', 'https://webthing.protego.dynamicdashboard.ilabt.imec.be/things/zplus_6.B0%253A91%253A22%253AFB%253AD0%253A78%252Fservice0009/properties/org.dyamand.types.health.GlucoseLevel', 'https://webthing.protego.dynamicdashboard.ilabt.imec.be/things/zplus_6.00%253A1C%253A05%253AFE%253A44%253A6B%252Fservice0029/properties/org.dyamand.types.health.SpO2', 'https://webthing.protego.dynamicdashboard.ilabt.imec.be/things/zplus_6.00%253A1C%253A05%253AFF%253AA9%253A4E%252Fservice0029/properties/org.dyamand.types.health.SpO2', 'https://webthing.protego.dynamicdashboard.ilabt.imec.be/things/zplus_6.F8%253A33%253A31%253A46%253A7F.D0%252Fservice0010/properties/org.dyamand.types.health.BodyTemperature', 'https://webthing.protego.dynamicdashboard.ilabt.imec.be/things/zplus_6.F8%253A33%253A31%253A46%253A6E%253A0B%252Fservice0010/properties/org.dyamand.types.health.BodyTemperature', 'https://webthing.protego.dynamicdashboard.ilabt.imec.be/things/zplus_6.00%253A9D%253A6B%253A89%253A43%253ACD%252Fservice0025/properties/org.dyamand.types.health.SystolicBloodPressure', 'https://webthing.protego.dynamicdashboard.ilabt.imec.be/things/zplus_6.00%253A9D%253A6B%253A89%253A43%253ACD%252Fservice0025/properties/org.dyamand.types.health.DiastolicBloodPressure', 'https://webthing.protego.dynamicdashboard.ilabt.imec.be/things/zplus_6.00%253A9D%253A6B%253A89%253A43%253ACD%252Fservice0025/properties/org.dyamand.types.health.HeartRate'] ['https://webthing.protego.dynamicdashboard.ilabt.imec.be/things/zplus_2.00%253A9D%253A6B%253A89%253A43%253ACD%252Fservice0025/properties/org.dyamand.types.health.HeartRate']\n"
     ]
    },
    {
     "name": "stderr",
     "output_type": "stream",
     "text": [
      "100%|████████████████████████████████████████████████████████████████████████████████████| 4/4 [00:01<00:00,  3.44it/s]\n",
      "  0%|                                                                                            | 0/4 [00:00<?, ?it/s]"
     ]
    },
    {
     "name": "stdout",
     "output_type": "stream",
     "text": [
      "https://dynamicdashboard.ilabt.imec.be/users/8 http://example.com/tx/patients/zplus_36\n",
      "['https://webthing.protego.dynamicdashboard.ilabt.imec.be/things/zplus_6.60%253A77%253A71%253A7D%253A93%253AD7%252Fservice0009/properties/org.dyamand.types.health.GlucoseLevel', 'https://webthing.protego.dynamicdashboard.ilabt.imec.be/things/zplus_6.lifestyle/properties/enriched-call', 'https://webthing.protego.dynamicdashboard.ilabt.imec.be/things/zplus_6.B0%253A91%253A22%253AFB%253AD0%253A78%252Fservice0009/properties/org.dyamand.types.health.GlucoseLevel', 'https://webthing.protego.dynamicdashboard.ilabt.imec.be/things/zplus_6.00%253A1C%253A05%253AFE%253A44%253A6B%252Fservice0029/properties/org.dyamand.types.health.SpO2', 'https://webthing.protego.dynamicdashboard.ilabt.imec.be/things/zplus_6.00%253A1C%253A05%253AFF%253AA9%253A4E%252Fservice0029/properties/org.dyamand.types.health.SpO2', 'https://webthing.protego.dynamicdashboard.ilabt.imec.be/things/zplus_6.F8%253A33%253A31%253A46%253A7F.D0%252Fservice0010/properties/org.dyamand.types.health.BodyTemperature', 'https://webthing.protego.dynamicdashboard.ilabt.imec.be/things/zplus_6.F8%253A33%253A31%253A46%253A6E%253A0B%252Fservice0010/properties/org.dyamand.types.health.BodyTemperature', 'https://webthing.protego.dynamicdashboard.ilabt.imec.be/things/zplus_6.00%253A9D%253A6B%253A89%253A43%253ACD%252Fservice0025/properties/org.dyamand.types.health.SystolicBloodPressure', 'https://webthing.protego.dynamicdashboard.ilabt.imec.be/things/zplus_6.00%253A9D%253A6B%253A89%253A43%253ACD%252Fservice0025/properties/org.dyamand.types.health.DiastolicBloodPressure', 'https://webthing.protego.dynamicdashboard.ilabt.imec.be/things/zplus_6.00%253A9D%253A6B%253A89%253A43%253ACD%252Fservice0025/properties/org.dyamand.types.health.HeartRate'] ['https://webthing.protego.dynamicdashboard.ilabt.imec.be/things/zplus_36.lifestyle/properties/enriched-call']\n",
      "https://dynamicdashboard.ilabt.imec.be/users/8 http://example.com/tx/patients/zplus_86\n",
      "['https://webthing.protego.dynamicdashboard.ilabt.imec.be/things/zplus_6.60%253A77%253A71%253A7D%253A93%253AD7%252Fservice0009/properties/org.dyamand.types.health.GlucoseLevel', 'https://webthing.protego.dynamicdashboard.ilabt.imec.be/things/zplus_6.lifestyle/properties/enriched-call', 'https://webthing.protego.dynamicdashboard.ilabt.imec.be/things/zplus_6.B0%253A91%253A22%253AFB%253AD0%253A78%252Fservice0009/properties/org.dyamand.types.health.GlucoseLevel', 'https://webthing.protego.dynamicdashboard.ilabt.imec.be/things/zplus_6.00%253A1C%253A05%253AFE%253A44%253A6B%252Fservice0029/properties/org.dyamand.types.health.SpO2', 'https://webthing.protego.dynamicdashboard.ilabt.imec.be/things/zplus_6.00%253A1C%253A05%253AFF%253AA9%253A4E%252Fservice0029/properties/org.dyamand.types.health.SpO2', 'https://webthing.protego.dynamicdashboard.ilabt.imec.be/things/zplus_6.F8%253A33%253A31%253A46%253A7F.D0%252Fservice0010/properties/org.dyamand.types.health.BodyTemperature', 'https://webthing.protego.dynamicdashboard.ilabt.imec.be/things/zplus_6.F8%253A33%253A31%253A46%253A6E%253A0B%252Fservice0010/properties/org.dyamand.types.health.BodyTemperature', 'https://webthing.protego.dynamicdashboard.ilabt.imec.be/things/zplus_6.00%253A9D%253A6B%253A89%253A43%253ACD%252Fservice0025/properties/org.dyamand.types.health.SystolicBloodPressure', 'https://webthing.protego.dynamicdashboard.ilabt.imec.be/things/zplus_6.00%253A9D%253A6B%253A89%253A43%253ACD%252Fservice0025/properties/org.dyamand.types.health.DiastolicBloodPressure', 'https://webthing.protego.dynamicdashboard.ilabt.imec.be/things/zplus_6.00%253A9D%253A6B%253A89%253A43%253ACD%252Fservice0025/properties/org.dyamand.types.health.HeartRate'] ['https://webthing.protego.dynamicdashboard.ilabt.imec.be/things/zplus_86.lifestyle/properties/enriched-call', 'https://webthing.protego.dynamicdashboard.ilabt.imec.be/things/zplus_86.00%253A9D%253A6B%253A89%253A43%253ACD%252Fservice0025/properties/org.dyamand.types.health.SystolicBloodPressure']\n",
      "https://dynamicdashboard.ilabt.imec.be/users/8 http://example.com/tx/patients/zplus_35\n"
     ]
    },
    {
     "name": "stderr",
     "output_type": "stream",
     "text": [
      " 50%|██████████████████████████████████████████                                          | 2/4 [00:00<00:00,  3.32it/s]"
     ]
    },
    {
     "name": "stdout",
     "output_type": "stream",
     "text": [
      "['https://webthing.protego.dynamicdashboard.ilabt.imec.be/things/zplus_6.60%253A77%253A71%253A7D%253A93%253AD7%252Fservice0009/properties/org.dyamand.types.health.GlucoseLevel', 'https://webthing.protego.dynamicdashboard.ilabt.imec.be/things/zplus_6.lifestyle/properties/enriched-call', 'https://webthing.protego.dynamicdashboard.ilabt.imec.be/things/zplus_6.B0%253A91%253A22%253AFB%253AD0%253A78%252Fservice0009/properties/org.dyamand.types.health.GlucoseLevel', 'https://webthing.protego.dynamicdashboard.ilabt.imec.be/things/zplus_6.00%253A1C%253A05%253AFE%253A44%253A6B%252Fservice0029/properties/org.dyamand.types.health.SpO2', 'https://webthing.protego.dynamicdashboard.ilabt.imec.be/things/zplus_6.00%253A1C%253A05%253AFF%253AA9%253A4E%252Fservice0029/properties/org.dyamand.types.health.SpO2', 'https://webthing.protego.dynamicdashboard.ilabt.imec.be/things/zplus_6.F8%253A33%253A31%253A46%253A7F.D0%252Fservice0010/properties/org.dyamand.types.health.BodyTemperature', 'https://webthing.protego.dynamicdashboard.ilabt.imec.be/things/zplus_6.F8%253A33%253A31%253A46%253A6E%253A0B%252Fservice0010/properties/org.dyamand.types.health.BodyTemperature', 'https://webthing.protego.dynamicdashboard.ilabt.imec.be/things/zplus_6.00%253A9D%253A6B%253A89%253A43%253ACD%252Fservice0025/properties/org.dyamand.types.health.SystolicBloodPressure', 'https://webthing.protego.dynamicdashboard.ilabt.imec.be/things/zplus_6.00%253A9D%253A6B%253A89%253A43%253ACD%252Fservice0025/properties/org.dyamand.types.health.DiastolicBloodPressure', 'https://webthing.protego.dynamicdashboard.ilabt.imec.be/things/zplus_6.00%253A9D%253A6B%253A89%253A43%253ACD%252Fservice0025/properties/org.dyamand.types.health.HeartRate'] ['https://webthing.protego.dynamicdashboard.ilabt.imec.be/things/zplus_35.60%253A77%253A71%253A7D%253A93%253AD7%252Fservice0009/properties/org.dyamand.types.health.GlucoseLevel']\n",
      "https://dynamicdashboard.ilabt.imec.be/users/8 http://example.com/tx/patients/zplus_86\n",
      "['https://webthing.protego.dynamicdashboard.ilabt.imec.be/things/zplus_6.60%253A77%253A71%253A7D%253A93%253AD7%252Fservice0009/properties/org.dyamand.types.health.GlucoseLevel', 'https://webthing.protego.dynamicdashboard.ilabt.imec.be/things/zplus_6.lifestyle/properties/enriched-call', 'https://webthing.protego.dynamicdashboard.ilabt.imec.be/things/zplus_6.B0%253A91%253A22%253AFB%253AD0%253A78%252Fservice0009/properties/org.dyamand.types.health.GlucoseLevel', 'https://webthing.protego.dynamicdashboard.ilabt.imec.be/things/zplus_6.00%253A1C%253A05%253AFE%253A44%253A6B%252Fservice0029/properties/org.dyamand.types.health.SpO2', 'https://webthing.protego.dynamicdashboard.ilabt.imec.be/things/zplus_6.00%253A1C%253A05%253AFF%253AA9%253A4E%252Fservice0029/properties/org.dyamand.types.health.SpO2', 'https://webthing.protego.dynamicdashboard.ilabt.imec.be/things/zplus_6.F8%253A33%253A31%253A46%253A7F.D0%252Fservice0010/properties/org.dyamand.types.health.BodyTemperature', 'https://webthing.protego.dynamicdashboard.ilabt.imec.be/things/zplus_6.F8%253A33%253A31%253A46%253A6E%253A0B%252Fservice0010/properties/org.dyamand.types.health.BodyTemperature', 'https://webthing.protego.dynamicdashboard.ilabt.imec.be/things/zplus_6.00%253A9D%253A6B%253A89%253A43%253ACD%252Fservice0025/properties/org.dyamand.types.health.SystolicBloodPressure', 'https://webthing.protego.dynamicdashboard.ilabt.imec.be/things/zplus_6.00%253A9D%253A6B%253A89%253A43%253ACD%252Fservice0025/properties/org.dyamand.types.health.DiastolicBloodPressure', 'https://webthing.protego.dynamicdashboard.ilabt.imec.be/things/zplus_6.00%253A9D%253A6B%253A89%253A43%253ACD%252Fservice0025/properties/org.dyamand.types.health.HeartRate'] ['https://webthing.protego.dynamicdashboard.ilabt.imec.be/things/zplus_86.lifestyle/properties/enriched-call', 'https://webthing.protego.dynamicdashboard.ilabt.imec.be/things/zplus_86.00%253A9D%253A6B%253A89%253A43%253ACD%252Fservice0025/properties/org.dyamand.types.health.SystolicBloodPressure']\n",
      "https://dynamicdashboard.ilabt.imec.be/users/9 http://example.com/tx/patients/zplus_114\n",
      "['https://webthing.protego.dynamicdashboard.ilabt.imec.be/things/zplus_6.60%253A77%253A71%253A7D%253A93%253AD7%252Fservice0009/properties/org.dyamand.types.health.GlucoseLevel', 'https://webthing.protego.dynamicdashboard.ilabt.imec.be/things/zplus_6.lifestyle/properties/enriched-call', 'https://webthing.protego.dynamicdashboard.ilabt.imec.be/things/zplus_6.B0%253A91%253A22%253AFB%253AD0%253A78%252Fservice0009/properties/org.dyamand.types.health.GlucoseLevel', 'https://webthing.protego.dynamicdashboard.ilabt.imec.be/things/zplus_6.00%253A1C%253A05%253AFE%253A44%253A6B%252Fservice0029/properties/org.dyamand.types.health.SpO2', 'https://webthing.protego.dynamicdashboard.ilabt.imec.be/things/zplus_6.00%253A1C%253A05%253AFF%253AA9%253A4E%252Fservice0029/properties/org.dyamand.types.health.SpO2', 'https://webthing.protego.dynamicdashboard.ilabt.imec.be/things/zplus_6.F8%253A33%253A31%253A46%253A7F.D0%252Fservice0010/properties/org.dyamand.types.health.BodyTemperature', 'https://webthing.protego.dynamicdashboard.ilabt.imec.be/things/zplus_6.F8%253A33%253A31%253A46%253A6E%253A0B%252Fservice0010/properties/org.dyamand.types.health.BodyTemperature', 'https://webthing.protego.dynamicdashboard.ilabt.imec.be/things/zplus_6.00%253A9D%253A6B%253A89%253A43%253ACD%252Fservice0025/properties/org.dyamand.types.health.SystolicBloodPressure', 'https://webthing.protego.dynamicdashboard.ilabt.imec.be/things/zplus_6.00%253A9D%253A6B%253A89%253A43%253ACD%252Fservice0025/properties/org.dyamand.types.health.DiastolicBloodPressure', 'https://webthing.protego.dynamicdashboard.ilabt.imec.be/things/zplus_6.00%253A9D%253A6B%253A89%253A43%253ACD%252Fservice0025/properties/org.dyamand.types.health.HeartRate'] ['https://webthing.protego.dynamicdashboard.ilabt.imec.be/things/zplus_114.lifestyle/properties/enriched-call']\n"
     ]
    },
    {
     "name": "stderr",
     "output_type": "stream",
     "text": [
      " 75%|███████████████████████████████████████████████████████████████                     | 3/4 [00:00<00:00,  3.87it/s]"
     ]
    },
    {
     "name": "stdout",
     "output_type": "stream",
     "text": [
      "https://dynamicdashboard.ilabt.imec.be/users/10 http://example.com/tx/patients/zplus_129\n",
      "['https://webthing.protego.dynamicdashboard.ilabt.imec.be/things/zplus_6.60%253A77%253A71%253A7D%253A93%253AD7%252Fservice0009/properties/org.dyamand.types.health.GlucoseLevel', 'https://webthing.protego.dynamicdashboard.ilabt.imec.be/things/zplus_6.lifestyle/properties/enriched-call', 'https://webthing.protego.dynamicdashboard.ilabt.imec.be/things/zplus_6.B0%253A91%253A22%253AFB%253AD0%253A78%252Fservice0009/properties/org.dyamand.types.health.GlucoseLevel', 'https://webthing.protego.dynamicdashboard.ilabt.imec.be/things/zplus_6.00%253A1C%253A05%253AFE%253A44%253A6B%252Fservice0029/properties/org.dyamand.types.health.SpO2', 'https://webthing.protego.dynamicdashboard.ilabt.imec.be/things/zplus_6.00%253A1C%253A05%253AFF%253AA9%253A4E%252Fservice0029/properties/org.dyamand.types.health.SpO2', 'https://webthing.protego.dynamicdashboard.ilabt.imec.be/things/zplus_6.F8%253A33%253A31%253A46%253A7F.D0%252Fservice0010/properties/org.dyamand.types.health.BodyTemperature', 'https://webthing.protego.dynamicdashboard.ilabt.imec.be/things/zplus_6.F8%253A33%253A31%253A46%253A6E%253A0B%252Fservice0010/properties/org.dyamand.types.health.BodyTemperature', 'https://webthing.protego.dynamicdashboard.ilabt.imec.be/things/zplus_6.00%253A9D%253A6B%253A89%253A43%253ACD%252Fservice0025/properties/org.dyamand.types.health.SystolicBloodPressure', 'https://webthing.protego.dynamicdashboard.ilabt.imec.be/things/zplus_6.00%253A9D%253A6B%253A89%253A43%253ACD%252Fservice0025/properties/org.dyamand.types.health.DiastolicBloodPressure', 'https://webthing.protego.dynamicdashboard.ilabt.imec.be/things/zplus_6.00%253A9D%253A6B%253A89%253A43%253ACD%252Fservice0025/properties/org.dyamand.types.health.HeartRate'] ['https://webthing.protego.dynamicdashboard.ilabt.imec.be/things/zplus_129.60%253A77%253A71%253A7D%253A93%253AD7%252Fservice0009/properties/org.dyamand.types.health.GlucoseLevel', 'https://webthing.protego.dynamicdashboard.ilabt.imec.be/things/zplus_129.00%253A1C%253A05%253AFE%253A44%253A6B%252Fservice0029/properties/org.dyamand.types.health.SpO2']\n",
      "https://dynamicdashboard.ilabt.imec.be/users/10 http://example.com/tx/patients/zplus_129\n",
      "['https://webthing.protego.dynamicdashboard.ilabt.imec.be/things/zplus_6.60%253A77%253A71%253A7D%253A93%253AD7%252Fservice0009/properties/org.dyamand.types.health.GlucoseLevel', 'https://webthing.protego.dynamicdashboard.ilabt.imec.be/things/zplus_6.lifestyle/properties/enriched-call', 'https://webthing.protego.dynamicdashboard.ilabt.imec.be/things/zplus_6.B0%253A91%253A22%253AFB%253AD0%253A78%252Fservice0009/properties/org.dyamand.types.health.GlucoseLevel', 'https://webthing.protego.dynamicdashboard.ilabt.imec.be/things/zplus_6.00%253A1C%253A05%253AFE%253A44%253A6B%252Fservice0029/properties/org.dyamand.types.health.SpO2', 'https://webthing.protego.dynamicdashboard.ilabt.imec.be/things/zplus_6.00%253A1C%253A05%253AFF%253AA9%253A4E%252Fservice0029/properties/org.dyamand.types.health.SpO2', 'https://webthing.protego.dynamicdashboard.ilabt.imec.be/things/zplus_6.F8%253A33%253A31%253A46%253A7F.D0%252Fservice0010/properties/org.dyamand.types.health.BodyTemperature', 'https://webthing.protego.dynamicdashboard.ilabt.imec.be/things/zplus_6.F8%253A33%253A31%253A46%253A6E%253A0B%252Fservice0010/properties/org.dyamand.types.health.BodyTemperature', 'https://webthing.protego.dynamicdashboard.ilabt.imec.be/things/zplus_6.00%253A9D%253A6B%253A89%253A43%253ACD%252Fservice0025/properties/org.dyamand.types.health.SystolicBloodPressure', 'https://webthing.protego.dynamicdashboard.ilabt.imec.be/things/zplus_6.00%253A9D%253A6B%253A89%253A43%253ACD%252Fservice0025/properties/org.dyamand.types.health.DiastolicBloodPressure', 'https://webthing.protego.dynamicdashboard.ilabt.imec.be/things/zplus_6.00%253A9D%253A6B%253A89%253A43%253ACD%252Fservice0025/properties/org.dyamand.types.health.HeartRate'] ['https://webthing.protego.dynamicdashboard.ilabt.imec.be/things/zplus_129.60%253A77%253A71%253A7D%253A93%253AD7%252Fservice0009/properties/org.dyamand.types.health.GlucoseLevel', 'https://webthing.protego.dynamicdashboard.ilabt.imec.be/things/zplus_129.00%253A1C%253A05%253AFE%253A44%253A6B%252Fservice0029/properties/org.dyamand.types.health.SpO2']\n",
      "https://dynamicdashboard.ilabt.imec.be/users/7 http://example.com/tx/patients/zplus_144\n"
     ]
    },
    {
     "name": "stderr",
     "output_type": "stream",
     "text": [
      "100%|████████████████████████████████████████████████████████████████████████████████████| 4/4 [00:01<00:00,  3.15it/s]"
     ]
    },
    {
     "name": "stdout",
     "output_type": "stream",
     "text": [
      "['https://webthing.protego.dynamicdashboard.ilabt.imec.be/things/zplus_6.60%253A77%253A71%253A7D%253A93%253AD7%252Fservice0009/properties/org.dyamand.types.health.GlucoseLevel', 'https://webthing.protego.dynamicdashboard.ilabt.imec.be/things/zplus_6.lifestyle/properties/enriched-call', 'https://webthing.protego.dynamicdashboard.ilabt.imec.be/things/zplus_6.B0%253A91%253A22%253AFB%253AD0%253A78%252Fservice0009/properties/org.dyamand.types.health.GlucoseLevel', 'https://webthing.protego.dynamicdashboard.ilabt.imec.be/things/zplus_6.00%253A1C%253A05%253AFE%253A44%253A6B%252Fservice0029/properties/org.dyamand.types.health.SpO2', 'https://webthing.protego.dynamicdashboard.ilabt.imec.be/things/zplus_6.00%253A1C%253A05%253AFF%253AA9%253A4E%252Fservice0029/properties/org.dyamand.types.health.SpO2', 'https://webthing.protego.dynamicdashboard.ilabt.imec.be/things/zplus_6.F8%253A33%253A31%253A46%253A7F.D0%252Fservice0010/properties/org.dyamand.types.health.BodyTemperature', 'https://webthing.protego.dynamicdashboard.ilabt.imec.be/things/zplus_6.F8%253A33%253A31%253A46%253A6E%253A0B%252Fservice0010/properties/org.dyamand.types.health.BodyTemperature', 'https://webthing.protego.dynamicdashboard.ilabt.imec.be/things/zplus_6.00%253A9D%253A6B%253A89%253A43%253ACD%252Fservice0025/properties/org.dyamand.types.health.SystolicBloodPressure', 'https://webthing.protego.dynamicdashboard.ilabt.imec.be/things/zplus_6.00%253A9D%253A6B%253A89%253A43%253ACD%252Fservice0025/properties/org.dyamand.types.health.DiastolicBloodPressure', 'https://webthing.protego.dynamicdashboard.ilabt.imec.be/things/zplus_6.00%253A9D%253A6B%253A89%253A43%253ACD%252Fservice0025/properties/org.dyamand.types.health.HeartRate'] ['https://webthing.protego.dynamicdashboard.ilabt.imec.be/things/zplus_144.00%253A9D%253A6B%253A89%253A43%253ACD%252Fservice0025/properties/org.dyamand.types.health.HeartRate', 'https://webthing.protego.dynamicdashboard.ilabt.imec.be/things/zplus_144.00%253A9D%253A6B%253A89%253A43%253ACD%252Fservice0025/properties/org.dyamand.types.health.DiastolicBloodPressure']\n",
      "https://dynamicdashboard.ilabt.imec.be/users/7 http://example.com/tx/patients/zplus_144\n",
      "['https://webthing.protego.dynamicdashboard.ilabt.imec.be/things/zplus_6.60%253A77%253A71%253A7D%253A93%253AD7%252Fservice0009/properties/org.dyamand.types.health.GlucoseLevel', 'https://webthing.protego.dynamicdashboard.ilabt.imec.be/things/zplus_6.lifestyle/properties/enriched-call', 'https://webthing.protego.dynamicdashboard.ilabt.imec.be/things/zplus_6.B0%253A91%253A22%253AFB%253AD0%253A78%252Fservice0009/properties/org.dyamand.types.health.GlucoseLevel', 'https://webthing.protego.dynamicdashboard.ilabt.imec.be/things/zplus_6.00%253A1C%253A05%253AFE%253A44%253A6B%252Fservice0029/properties/org.dyamand.types.health.SpO2', 'https://webthing.protego.dynamicdashboard.ilabt.imec.be/things/zplus_6.00%253A1C%253A05%253AFF%253AA9%253A4E%252Fservice0029/properties/org.dyamand.types.health.SpO2', 'https://webthing.protego.dynamicdashboard.ilabt.imec.be/things/zplus_6.F8%253A33%253A31%253A46%253A7F.D0%252Fservice0010/properties/org.dyamand.types.health.BodyTemperature', 'https://webthing.protego.dynamicdashboard.ilabt.imec.be/things/zplus_6.F8%253A33%253A31%253A46%253A6E%253A0B%252Fservice0010/properties/org.dyamand.types.health.BodyTemperature', 'https://webthing.protego.dynamicdashboard.ilabt.imec.be/things/zplus_6.00%253A9D%253A6B%253A89%253A43%253ACD%252Fservice0025/properties/org.dyamand.types.health.SystolicBloodPressure', 'https://webthing.protego.dynamicdashboard.ilabt.imec.be/things/zplus_6.00%253A9D%253A6B%253A89%253A43%253ACD%252Fservice0025/properties/org.dyamand.types.health.DiastolicBloodPressure', 'https://webthing.protego.dynamicdashboard.ilabt.imec.be/things/zplus_6.00%253A9D%253A6B%253A89%253A43%253ACD%252Fservice0025/properties/org.dyamand.types.health.HeartRate'] ['https://webthing.protego.dynamicdashboard.ilabt.imec.be/things/zplus_144.00%253A9D%253A6B%253A89%253A43%253ACD%252Fservice0025/properties/org.dyamand.types.health.HeartRate', 'https://webthing.protego.dynamicdashboard.ilabt.imec.be/things/zplus_144.00%253A9D%253A6B%253A89%253A43%253ACD%252Fservice0025/properties/org.dyamand.types.health.DiastolicBloodPressure']\n",
      "{'f1@1': 0.0, 'ndcg@1': 0.0, 'ndcg@3': 0.06309297535714575}\n",
      "{'f1@1': 0.1, 'ndcg@1': 0.1, 'ndcg@3': 0.1}\n",
      "{'f1@1': 0.1, 'ndcg@1': 0.1, 'ndcg@3': 0.1}\n",
      "{'f1@1': 0.0, 'ndcg@1': 0.0, 'ndcg@3': 0.06309297535714575}\n",
      "{'f1@1': 0.0, 'ndcg@1': 0.0, 'ndcg@3': 0.0}\n",
      "{'f1@1': 0.04, 'ndcg@1': 0.04, 'ndcg@3': 0.06523719014285831}\n"
     ]
    },
    {
     "name": "stderr",
     "output_type": "stream",
     "text": [
      "\n"
     ]
    }
   ],
   "source": [
    "recommender = PPR(graph)\n",
    "recommender.set_personalization(0.7, 0.3)\n",
    "\n",
    "evaluator = KFoldCrossValidation(recommender, metrics=parsed_metrics, k=5)\n",
    "result = evaluator.evaluate(ratings_df)\n",
    "\n",
    "for fold in result['folds']:\n",
    "    print(fold)\n",
    "print(result['result'])"
   ]
  },
  {
   "cell_type": "code",
   "execution_count": null,
   "id": "d472714a",
   "metadata": {},
   "outputs": [],
   "source": []
  }
 ],
 "metadata": {
  "kernelspec": {
   "display_name": "Python 3 (ipykernel)",
   "language": "python",
   "name": "python3"
  },
  "language_info": {
   "codemirror_mode": {
    "name": "ipython",
    "version": 3
   },
   "file_extension": ".py",
   "mimetype": "text/x-python",
   "name": "python",
   "nbconvert_exporter": "python",
   "pygments_lexer": "ipython3",
   "version": "3.9.7"
  }
 },
 "nbformat": 4,
 "nbformat_minor": 5
}
