{
 "cells": [
  {
   "cell_type": "code",
   "execution_count": 1,
   "metadata": {},
   "outputs": [],
   "source": [
    "from matplotlib import pyplot as plt\n",
    "import pandas as pd\n",
    "import random\n",
    "from rdflib import Graph, URIRef\n",
    "from rdflib.namespace import RDF, RDFS, SOSA\n",
    "from standard_api.api_handler import ApiRequester\n",
    "import timeit\n",
    "import uuid\n",
    "\n",
    "from viscars.namespace import DASHB\n",
    "from viscars.recommenders.factory import RecommenderFactory, RecommenderType"
   ]
  },
  {
   "cell_type": "code",
   "execution_count": 2,
   "metadata": {
    "pycharm": {
     "name": "#%%\n"
    }
   },
   "outputs": [],
   "source": [
    "PROJECT = 'proeftuin'\n",
    "REASONER_API_ENDPOINT = 'https://reasoner.dynamicdashboard.ilabt.imec.be/api/v1/reasoner'\n",
    "REASONER_METADATA_DATABASE = 'proeftuin_metadata_prod'\n",
    "\n",
    "TEMPLATES = {\n",
    "    'DASHBOARD': 'https://dynamicdashboard.ilabt.imec.be/dashboards/{uuid}',\n",
    "    'TAB': 'https://dynamicdashboard.ilabt.imec.be/tabs/{uuid}',\n",
    "    'WIDGET': 'https://dynamicdashboard.ilabt.imec.be/widgets/{uuid}',\n",
    "    'USER': 'https://dynamicdashboard.ilabt.imec.be/users/{uuid}'\n",
    "}"
   ]
  },
  {
   "cell_type": "code",
   "execution_count": 3,
   "metadata": {
    "pycharm": {
     "name": "#%%\n"
    }
   },
   "outputs": [],
   "source": [
    "recommenders = [r for r in RecommenderType]\n",
    "recommenders.remove(RecommenderType.RANDOM)\n",
    "recommenders.remove(RecommenderType.PAGERANK)\n"
   ]
  },
  {
   "cell_type": "code",
   "execution_count": 4,
   "metadata": {
    "pycharm": {
     "name": "#%%\n"
    }
   },
   "outputs": [],
   "source": [
    "graph = Graph()\n",
    "graph.parse(f'./data/{PROJECT}/metadata.ttl', format='n3')\n",
    "graph.parse(f'./data/{PROJECT}/metrics.ttl', format='n3')\n",
    "graph.parse(f'./data/{PROJECT}/sensors.ttl', format='n3')\n",
    "graph.parse(f'./data/{PROJECT}/visualizations.ttl', format='n3')\n",
    "\n",
    "metadata_nodes = len(graph.all_nodes())"
   ]
  },
  {
   "cell_type": "code",
   "execution_count": 5,
   "metadata": {
    "pycharm": {
     "name": "#%%\n"
    }
   },
   "outputs": [],
   "source": [
    "# TODO: Figure out why `graph.subjects` doesn't work..\n",
    "properties = [s[0] for s in graph.triples((None, RDF.type, SOSA.ObservableProperty))]"
   ]
  },
  {
   "cell_type": "code",
   "execution_count": 6,
   "metadata": {
    "pycharm": {
     "name": "#%%\n"
    }
   },
   "outputs": [],
   "source": [
    "def get_valid_visualizations(properties_: [], aggregation=None, from_=None, to=None):\n",
    "    metadata = {\n",
    "        'metadataDatabase': f'{REASONER_METADATA_DATABASE}',\n",
    "        'eventsDatabase': 'string'\n",
    "    }\n",
    "    data = {\n",
    "        'propertyIds': properties_,\n",
    "        'aggregationId': aggregation,\n",
    "        'from': from_,\n",
    "        'to': to\n",
    "    }\n",
    "\n",
    "    requester = ApiRequester(REASONER_API_ENDPOINT)\n",
    "    result = requester.call('/property_visualizations', data=data, metadata=metadata)\n",
    "\n",
    "    return [visualization['visualizationId'] for visualization in result]\n",
    "\n",
    "valid_visualizations = {}\n",
    "\n",
    "for property_ in properties:\n",
    "    # Get rid of AAA BIM heatmaps..\n",
    "    valid_visualizations[property_] = [v for v in get_valid_visualizations([str(property_)]) if 'heatmap' not in v]"
   ]
  },
  {
   "cell_type": "code",
   "execution_count": 7,
   "metadata": {
    "pycharm": {
     "name": "#%%\n"
    }
   },
   "outputs": [],
   "source": [
    "user_groups = [s[0] for s in graph.triples((None, RDF.type, DASHB.UserGroup))]\n",
    "users = []\n",
    "\n",
    "def create_dashboards(n=1):\n",
    "    for _ in range(n):\n",
    "        dashboard = URIRef(TEMPLATES['DASHBOARD'].format(uuid=uuid.uuid4()))\n",
    "        tab = URIRef(TEMPLATES['TAB'].format(uuid=uuid.uuid4()))\n",
    "        widget = URIRef(TEMPLATES['WIDGET'].format(uuid=uuid.uuid4()))\n",
    "        user = URIRef(TEMPLATES['USER'].format(uuid=uuid.uuid4()))\n",
    "        users.append(user)\n",
    "\n",
    "        user_group = random.choice(user_groups)\n",
    "        random_property = random.choice(properties)\n",
    "        visualization = URIRef(random.choice(valid_visualizations[random_property]))\n",
    "\n",
    "        graph.add((dashboard, RDF.type, DASHB.Dashboard))\n",
    "\n",
    "        graph.add((tab, RDF.type, DASHB.Tab))\n",
    "        graph.add((dashboard, DASHB.hasTab, tab))\n",
    "\n",
    "        graph.add((widget, RDF.type, DASHB.Widget))\n",
    "        graph.add((tab, DASHB.hasWidget, widget))\n",
    "\n",
    "        graph.add((user, RDF.type, DASHB.User))\n",
    "        graph.add((user, DASHB.memberOf, user_group))\n",
    "        graph.add((widget, DASHB.createdBy, user))\n",
    "\n",
    "        graph.add((widget, DASHB.hasProperty, random_property))\n",
    "        graph.add((widget, DASHB.visualizedBy, visualization))"
   ]
  },
  {
   "cell_type": "code",
   "execution_count": 8,
   "metadata": {
    "pycharm": {
     "name": "#%%\n"
    }
   },
   "outputs": [
    {
     "name": "stdout",
     "output_type": "stream",
     "text": [
      "{'nodes': 4364, 'edges': 10875, 'ppr': 0.05112614000000093, 'fast_ppr': 0.0351900999999998}\n",
      "{'nodes': 8364, 'edges': 20875, 'ppr': 0.09955488000000087, 'fast_ppr': 0.06794797999999957}\n",
      "{'nodes': 12364, 'edges': 30875, 'ppr': 0.1501385799999994, 'fast_ppr': 0.12347635999999937}\n",
      "{'nodes': 16364, 'edges': 40875, 'ppr': 0.20312894000000056, 'fast_ppr': 0.15800796000000047}\n",
      "{'nodes': 20364, 'edges': 50875, 'ppr': 0.25222358000000045, 'fast_ppr': 0.19180109999999928}\n",
      "{'nodes': 24364, 'edges': 60875, 'ppr': 0.3050244599999985, 'fast_ppr': 0.2265163799999982}\n",
      "{'nodes': 28364, 'edges': 70875, 'ppr': 0.35655326000000115, 'fast_ppr': 0.25996948000000086}\n",
      "{'nodes': 32364, 'edges': 80875, 'ppr': 0.40942018000000074, 'fast_ppr': 0.29906578000000084}\n",
      "{'nodes': 36364, 'edges': 90875, 'ppr': 0.47664576000000236, 'fast_ppr': 0.33000590000000046}\n",
      "{'nodes': 40364, 'edges': 100875, 'ppr': 0.5242720999999989, 'fast_ppr': 0.36363489999999954}\n",
      "{'nodes': 44364, 'edges': 110875, 'ppr': 0.5976013199999983, 'fast_ppr': 0.40129938000000037}\n",
      "{'nodes': 48364, 'edges': 120875, 'ppr': 0.6562536399999999, 'fast_ppr': 0.44192793999999935}\n",
      "{'nodes': 52364, 'edges': 130875, 'ppr': 0.6858513999999957, 'fast_ppr': 0.4707852599999967}\n",
      "{'nodes': 56364, 'edges': 140875, 'ppr': 0.7459857599999964, 'fast_ppr': 0.5080459200000007}\n",
      "{'nodes': 60364, 'edges': 150875, 'ppr': 0.7996906800000033, 'fast_ppr': 0.5398708800000008}\n",
      "{'nodes': 64364, 'edges': 160875, 'ppr': 0.8517415400000005, 'fast_ppr': 0.5819741399999998}\n",
      "{'nodes': 68364, 'edges': 170875, 'ppr': 0.9247352999999976, 'fast_ppr': 0.6124935600000014}\n",
      "{'nodes': 72364, 'edges': 180875, 'ppr': 0.979274300000003, 'fast_ppr': 0.6394310600000039}\n",
      "{'nodes': 76364, 'edges': 190875, 'ppr': 1.0123743799999942, 'fast_ppr': 0.7057479200000103}\n",
      "{'nodes': 80364, 'edges': 200875, 'ppr': 1.1054038800000057, 'fast_ppr': 0.7466221200000064}\n",
      "     edges  fast_ppr    nodes       ppr\n",
      "0  10875.0  0.035190   4364.0  0.051126\n",
      "1  20875.0  0.067948   8364.0  0.099555\n",
      "2  30875.0  0.123476  12364.0  0.150139\n",
      "3  40875.0  0.158008  16364.0  0.203129\n",
      "4  50875.0  0.191801  20364.0  0.252224\n"
     ]
    }
   ],
   "source": [
    "result = pd.DataFrame(columns=['nodes', 'edges'].extend([r.value for r in recommenders]))\n",
    "\n",
    "n_runs = 5\n",
    "\n",
    "while len(list(graph.triples((None, None, None)))) < 200000:\n",
    "\n",
    "    create_dashboards(1000)\n",
    "    data = {'nodes': len(graph.all_nodes()), 'edges': len(list(graph.triples((None, None, None))))}\n",
    "    for recommender in recommenders:\n",
    "\n",
    "        r = RecommenderFactory().get(recommender)(graph)\n",
    "        r.set_personalization(0.7, 0.3)\n",
    "\n",
    "        timing = timeit.timeit(lambda: r.predict(random.choice(users), random.choice(properties)), number=n_runs) / n_runs\n",
    "        data[recommender.value] = timing\n",
    "\n",
    "    print(data)\n",
    "    result = result.append(data, ignore_index=True)\n",
    "\n",
    "print(result.head())"
   ]
  },
  {
   "cell_type": "code",
   "execution_count": 26,
   "metadata": {
    "pycharm": {
     "name": "#%%\n"
    }
   },
   "outputs": [
    {
     "data": {
      "text/plain": "<Figure size 720x360 with 1 Axes>",
      "image/png": "[encoded data removed]"
     },
     "metadata": {
      "needs_background": "light"
     },
     "output_type": "display_data"
    }
   ],
   "source": [
    "fig = plt.figure(figsize=(10, 5))\n",
    "\n",
    "for recommender in recommenders:\n",
    "    plt.plot(result['edges'], result[recommender.value], label=recommender.value)\n",
    "\n",
    "plt.xlabel('Number of edges', fontsize=16)\n",
    "plt.ylabel('Time (seconds)', fontsize=16)\n",
    "plt.xticks(fontsize=14)\n",
    "plt.yticks(fontsize=14)\n",
    "\n",
    "plt.legend(fontsize=16)\n",
    "plt.savefig('scalability.png', dpi=600)\n",
    "plt.show()"
   ]
  },
  {
   "cell_type": "code",
   "execution_count": null,
   "metadata": {
    "pycharm": {
     "name": "#%%\n"
    }
   },
   "outputs": [],
   "source": [
    "print(len(list(graph.triples((None, RDF.type, DASHB.User)))))\n",
    "print(len(list(graph.triples((None, RDF.type, DASHB.Dashboard)))))"
   ]
  }
 ],
 "metadata": {
  "kernelspec": {
   "display_name": "Python 3 (ipykernel)",
   "language": "python",
   "name": "python3"
  },
  "language_info": {
   "codemirror_mode": {
    "name": "ipython",
    "version": 3
   },
   "file_extension": ".py",
   "mimetype": "text/x-python",
   "name": "python",
   "nbconvert_exporter": "python",
   "pygments_lexer": "ipython3",
   "version": "3.9.7"
  }
 },
 "nbformat": 4,
 "nbformat_minor": 1
}