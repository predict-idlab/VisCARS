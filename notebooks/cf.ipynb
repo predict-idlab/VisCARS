{
 "cells": [
  {
   "cell_type": "code",
   "execution_count": 1,
   "id": "d37d7121-f818-4fa3-bacf-f1cf83312282",
   "metadata": {},
   "outputs": [],
   "source": [
    "from dash import Dash, dcc, html, Input, Output\n",
    "import grakel\n",
    "from grakel.kernels import WeisfeilerLehman, VertexHistogram, ShortestPath, SubgraphMatching\n",
    "import json\n",
    "import os\n",
    "import plotly.express as px\n",
    "from rdflib import Graph, URIRef\n",
    "from rdflib.namespace import RDF, SOSA\n",
    "from rdflib.extras.external_graph_libs import rdflib_to_networkx_digraph\n",
    "from tqdm import tqdm\n",
    "import time\n",
    "from viscars.namespace import DASHB"
   ]
  },
  {
   "cell_type": "code",
   "execution_count": 2,
   "id": "4bfc7562-a73a-46a5-9e76-db53c0cdb9fd",
   "metadata": {},
   "outputs": [],
   "source": [
    "GRAPH_INPUT_DIR = 'data/protego'\n",
    "GRAPH_SIMILARITY_DIR = '/home/pieter/OpenKE/benchmarks/DASHB'\n",
    "\n",
    "graph = Graph()\n",
    "graph.parse(os.path.join(GRAPH_INPUT_DIR, 'protego_zplus.ttl'))\n",
    "graph.parse(os.path.join(GRAPH_INPUT_DIR, 'graph.ttl'))\n",
    "items = graph.subjects(RDF.type, SOSA.ObservableProperty)"
   ]
  },
  {
   "cell_type": "markdown",
   "id": "dc361e9b-7d6d-40c1-91b9-74180afdeebb",
   "metadata": {},
   "source": [
    "### Patients (Context)"
   ]
  },
  {
   "cell_type": "code",
   "execution_count": 3,
   "id": "42d15c49-83b9-43ea-9081-c335c10056c6",
   "metadata": {},
   "outputs": [],
   "source": [
    "cc_similarities = {}\n",
    "with open(os.path.join(GRAPH_SIMILARITY_DIR, 'results', 'RDF2VecUU.json')) as input_f:\n",
    "    cc_similarities = json.load(input_f)"
   ]
  },
  {
   "cell_type": "markdown",
   "id": "43d65576-3332-44fd-951c-fcf6fcbead92",
   "metadata": {},
   "source": [
    "### ObservableProperties (Item)"
   ]
  },
  {
   "cell_type": "code",
   "execution_count": 4,
   "id": "ea46b3ec-5d02-4431-b1d8-f47b5547d447",
   "metadata": {},
   "outputs": [],
   "source": [
    "qry = '''\n",
    "    PREFIX dashb: <http://dynamicdashboard.ilabt.imec.be/broker/ontologies/dashboard#>\n",
    "    PREFIX sosa: <http://www.w3.org/ns/sosa/>\n",
    "    \n",
    "    SELECT ?property ?metric WHERE {\n",
    "        ?property a sosa:ObservableProperty ;\n",
    "            dashb:produces ?metric .\n",
    "    }\n",
    "'''\n",
    "properties = {property_: metric for property_, metric in graph.query(qry)}\n",
    "\n",
    "ii_similarities = {}\n",
    "# with open(os.path.join(GRAPH_SIMILARITY_DIR, 'results', 'RDF2VecII.json')) as input_f:\n",
    "#     ii_similarities = json.load(input_f)"
   ]
  },
  {
   "cell_type": "markdown",
   "id": "c7aad775-7bc4-49b0-92ab-bf4502a38a69",
   "metadata": {},
   "source": [
    "### Dashboard Users (User)"
   ]
  },
  {
   "cell_type": "code",
   "execution_count": 5,
   "id": "22db593f-6c1a-40b6-bdd3-2a4c8b333480",
   "metadata": {},
   "outputs": [
    {
     "name": "stdout",
     "output_type": "stream",
     "text": [
      "(rdflib.term.URIRef('https://dynamicdashboard.ilabt.imec.be/users/10'), rdflib.term.Literal('zplus_operator3'), rdflib.term.URIRef('https://dynamicdashboard.ilabt.imec.be/groups/operator'))\n"
     ]
    }
   ],
   "source": [
    "qry = '''\n",
    "    PREFIX dashb: <https://docs.dynamicdashboard.ilabt.imec.be/ontologies/dashboard#>\n",
    "    \n",
    "    SELECT ?user ?label ?role WHERE {\n",
    "        ?user a dashb:User ;\n",
    "            rdfs:label ?label ;\n",
    "            dashb:memberOf ?role .\n",
    "    }\n",
    "'''\n",
    "users = list(graph.query(qry))\n",
    "\n",
    "uu_similarities = {}\n",
    "for user, label, role in users:\n",
    "    uu_similarities[user] = {}\n",
    "    \n",
    "    for user_, label_, role_ in users:\n",
    "        if role == role_:\n",
    "            uu_similarities[user][user_] = 1\n",
    "        else:\n",
    "            uu_similarities[user][user_] = 0"
   ]
  },
  {
   "cell_type": "code",
   "execution_count": 6,
   "id": "a5e791e4-9749-4f17-8d19-2663fa882d38",
   "metadata": {},
   "outputs": [],
   "source": [
    "def kneighbours_cc(uid, k=10):\n",
    "    cc_similarities_ = cc_similarities.copy()\n",
    "    cc_similarities_[uid].pop(uid)\n",
    "    return sorted(cc_similarities_[uid].items(), key=lambda x: x[1])[:k]\n",
    "\n",
    "def kneighbours_ii(iid, k=10):\n",
    "    ii_similarities_ = ii_similarities.copy()\n",
    "    ii_similarities_[iid].pop(uid)\n",
    "    return sorted(ii_similarities_[iid].items(), key=lambda x: x[1])[:k]\n",
    "\n",
    "def kneighbours_uu(uid, k=10):\n",
    "    uu_similarities_ = uu_similarities.copy()\n",
    "    uu_similarities_[uid].pop(uid)\n",
    "    return sorted(uu_similarities_[uid].items(), key=lambda x: x[1])[:k]"
   ]
  },
  {
   "cell_type": "code",
   "execution_count": 9,
   "id": "9f447527-d18d-4cff-9d90-aa7d0db2e3eb",
   "metadata": {},
   "outputs": [],
   "source": [
    "def predict_uucf(uid, cid, iid):\n",
    "    neighbours = kneighbours_uu(uid)\n",
    "    \n",
    "    for n, w in neighbours:\n",
    "        print(n, iid)\n",
    "        qry = f'''\n",
    "            PREFIX dashb: <https://docs.dynamicdashboard.ilabt.imec.be/ontologies/dashboard#>\n",
    "    \n",
    "            SELECT * WHERE {{\n",
    "                ?widget a dashb:Widget ;\n",
    "                    dashb:createdBy <{n}> ;\n",
    "                    dashb:hasProperty <{iid}> .\n",
    "            }}\n",
    "        '''\n",
    "        print(list(graph.query(qry)))"
   ]
  },
  {
   "cell_type": "code",
   "execution_count": 11,
   "id": "9a813fd1-3ece-44d6-add5-3e2e461e927f",
   "metadata": {},
   "outputs": [
    {
     "ename": "KeyError",
     "evalue": "'https://dynamicdashboard.ilabt.imec.be/users/10'",
     "output_type": "error",
     "traceback": [
      "\u001b[0;31m---------------------------------------------------------------------------\u001b[0m",
      "\u001b[0;31mKeyError\u001b[0m                                  Traceback (most recent call last)",
      "Input \u001b[0;32mIn [11]\u001b[0m, in \u001b[0;36m<cell line: 1>\u001b[0;34m()\u001b[0m\n\u001b[0;32m----> 1\u001b[0m \u001b[43mpredict_uucf\u001b[49m\u001b[43m(\u001b[49m\u001b[38;5;124;43m'\u001b[39;49m\u001b[38;5;124;43mhttps://dynamicdashboard.ilabt.imec.be/users/10\u001b[39;49m\u001b[38;5;124;43m'\u001b[39;49m\u001b[43m,\u001b[49m\u001b[43m \u001b[49m\u001b[38;5;124;43m'\u001b[39;49m\u001b[38;5;124;43mhttp://example.com/tx/patients/zplus_6\u001b[39;49m\u001b[38;5;124;43m'\u001b[39;49m\u001b[43m,\u001b[49m\u001b[43m \u001b[49m\u001b[38;5;28;43mlist\u001b[39;49m\u001b[43m(\u001b[49m\u001b[43mproperties\u001b[49m\u001b[38;5;241;43m.\u001b[39;49m\u001b[43mitems\u001b[49m\u001b[43m(\u001b[49m\u001b[43m)\u001b[49m\u001b[43m)\u001b[49m\u001b[43m[\u001b[49m\u001b[38;5;241;43m0\u001b[39;49m\u001b[43m]\u001b[49m\u001b[43m[\u001b[49m\u001b[38;5;241;43m0\u001b[39;49m\u001b[43m]\u001b[49m\u001b[43m)\u001b[49m\n",
      "Input \u001b[0;32mIn [9]\u001b[0m, in \u001b[0;36mpredict_uucf\u001b[0;34m(uid, cid, iid)\u001b[0m\n\u001b[1;32m      1\u001b[0m \u001b[38;5;28;01mdef\u001b[39;00m \u001b[38;5;21mpredict_uucf\u001b[39m(uid, cid, iid):\n\u001b[0;32m----> 2\u001b[0m     neighbours \u001b[38;5;241m=\u001b[39m \u001b[43mkneighbours_uu\u001b[49m\u001b[43m(\u001b[49m\u001b[43muid\u001b[49m\u001b[43m)\u001b[49m\n\u001b[1;32m      4\u001b[0m     \u001b[38;5;28;01mfor\u001b[39;00m n, w \u001b[38;5;129;01min\u001b[39;00m neighbours:\n\u001b[1;32m      5\u001b[0m         \u001b[38;5;28mprint\u001b[39m(n, iid)\n",
      "Input \u001b[0;32mIn [6]\u001b[0m, in \u001b[0;36mkneighbours_uu\u001b[0;34m(uid, k)\u001b[0m\n\u001b[1;32m     11\u001b[0m \u001b[38;5;28;01mdef\u001b[39;00m \u001b[38;5;21mkneighbours_uu\u001b[39m(uid, k\u001b[38;5;241m=\u001b[39m\u001b[38;5;241m10\u001b[39m):\n\u001b[1;32m     12\u001b[0m     uu_similarities_ \u001b[38;5;241m=\u001b[39m uu_similarities\u001b[38;5;241m.\u001b[39mcopy()\n\u001b[0;32m---> 13\u001b[0m     \u001b[43muu_similarities_\u001b[49m\u001b[43m[\u001b[49m\u001b[43muid\u001b[49m\u001b[43m]\u001b[49m\u001b[38;5;241m.\u001b[39mpop(uid)\n\u001b[1;32m     14\u001b[0m     \u001b[38;5;28;01mreturn\u001b[39;00m \u001b[38;5;28msorted\u001b[39m(uu_similarities_[uid]\u001b[38;5;241m.\u001b[39mitems(), key\u001b[38;5;241m=\u001b[39m\u001b[38;5;28;01mlambda\u001b[39;00m x: x[\u001b[38;5;241m1\u001b[39m])[:k]\n",
      "\u001b[0;31mKeyError\u001b[0m: 'https://dynamicdashboard.ilabt.imec.be/users/10'"
     ]
    }
   ],
   "source": [
    "predict_uucf('https://dynamicdashboard.ilabt.imec.be/users/10', 'http://example.com/tx/patients/zplus_6', list(properties.items())[0][0])"
   ]
  },
  {
   "cell_type": "code",
   "execution_count": null,
   "id": "ca2e3eb3-9fdf-42f3-a5d5-6667475f9c00",
   "metadata": {},
   "outputs": [],
   "source": []
  }
 ],
 "metadata": {
  "kernelspec": {
   "display_name": "Python 3 (ipykernel)",
   "language": "python",
   "name": "python3"
  },
  "language_info": {
   "codemirror_mode": {
    "name": "ipython",
    "version": 3
   },
   "file_extension": ".py",
   "mimetype": "text/x-python",
   "name": "python",
   "nbconvert_exporter": "python",
   "pygments_lexer": "ipython3",
   "version": "3.9.12"
  }
 },
 "nbformat": 4,
 "nbformat_minor": 5
}
