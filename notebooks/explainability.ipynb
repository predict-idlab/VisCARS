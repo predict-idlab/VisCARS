{
 "cells": [
  {
   "cell_type": "code",
   "execution_count": 1,
   "metadata": {},
   "outputs": [],
   "source": [
    "import pandas as pd\n",
    "from rdflib import Graph, URIRef\n",
    "\n",
    "from viscars.data import DataLoader\n",
    "from viscars.evaluation.evaluators.kfoldcv import KFoldCrossValidation\n",
    "from viscars.evaluation.evaluators.loocv import LeaveOneOutCrossValidation\n",
    "from viscars.evaluation.metrics import MetricType\n",
    "from viscars.evaluation.metrics.factory import MetricFactory\n",
    "from viscars.namespace import DASHB\n",
    "from viscars.recommenders.factory import RecommenderFactory, RecommenderType\n",
    "from viscars.utils import visualize_graph"
   ]
  },
  {
   "cell_type": "code",
   "execution_count": 5,
   "metadata": {
    "collapsed": false,
    "jupyter": {
     "outputs_hidden": false
    },
    "pycharm": {
     "name": "#%%\n"
    }
   },
   "outputs": [],
   "source": [
    "project = 'proeftuin'\n",
    "\n",
    "graph = Graph()\n",
    "graph.parse(f'./data/{project}/graph.ttl', format='n3')\n",
    "d_loader = DataLoader(graph, project='proeftuin')\n",
    "\n",
    "metric_factory = MetricFactory()\n",
    "recommender_factory = RecommenderFactory()\n",
    "\n",
    "metrics = ['f1@1', 'ndcg@1', 'ndcg@3']\n",
    "parsed_metrics = []\n",
    "for metric in metrics:\n",
    "    m_split = metric.split('@')\n",
    "    m_type = m_split[0]\n",
    "    n = int(m_split[1]) if len(m_split) >= 2 else None\n",
    "\n",
    "    metric_ = metric_factory.get(MetricType.reverse_lookup(m_type), n)\n",
    "    parsed_metrics.append(metric_)"
   ]
  },
  {
   "cell_type": "code",
   "execution_count": 6,
   "metadata": {
    "pycharm": {
     "name": "#%%\n"
    }
   },
   "outputs": [
    {
     "name": "stdout",
     "output_type": "stream",
     "text": [
      "                                                id  type\n",
      "0   https://dynamicdashboard.ilabt.imec.be/users/7  None\n",
      "1   https://dynamicdashboard.ilabt.imec.be/users/8  None\n",
      "2   https://dynamicdashboard.ilabt.imec.be/users/9  None\n",
      "3   https://dynamicdashboard.ilabt.imec.be/users/6  None\n",
      "4  https://dynamicdashboard.ilabt.imec.be/users/12  None\n",
      "5  https://dynamicdashboard.ilabt.imec.be/users/10  None\n",
      "6  https://dynamicdashboard.ilabt.imec.be/users/11  None\n",
      "Empty DataFrame\n",
      "Columns: [id]\n",
      "Index: []\n"
     ]
    }
   ],
   "source": [
    "recommender = recommender_factory.get(RecommenderType.PPR)(graph, alpha=0.3)\n",
    "recommender.set_personalization(0.7, 0.3)\n",
    "\n",
    "print(d_loader.user_metadata)\n",
    "print(d_loader.item_metadata)"
   ]
  },
  {
   "cell_type": "code",
   "execution_count": 7,
   "metadata": {},
   "outputs": [
    {
     "data": {
      "text/plain": [
       "[]"
      ]
     },
     "execution_count": 7,
     "metadata": {},
     "output_type": "execute_result"
    }
   ],
   "source": [
    "uid = ['https://dynamicdashboard.ilabt.imec.be/users/11']\n",
    "cid = ['https://webthing.proeftuin.dynamicdashboard.ilabt.imec.be/things/BBB4/properties/rpm::number']\n",
    "\n",
    "recommender.predict(uid, cid)"
   ]
  },
  {
   "cell_type": "code",
   "execution_count": null,
   "metadata": {},
   "outputs": [],
   "source": []
  }
 ],
 "metadata": {
  "kernelspec": {
   "display_name": "Python 3 (ipykernel)",
   "language": "python",
   "name": "python3"
  },
  "language_info": {
   "codemirror_mode": {
    "name": "ipython",
    "version": 3
   },
   "file_extension": ".py",
   "mimetype": "text/x-python",
   "name": "python",
   "nbconvert_exporter": "python",
   "pygments_lexer": "ipython3",
   "version": "3.9.7"
  }
 },
 "nbformat": 4,
 "nbformat_minor": 4
}
