{
 "cells": [
  {
   "cell_type": "code",
   "execution_count": 1,
   "id": "5be4becd",
   "metadata": {},
   "outputs": [],
   "source": [
    "import copy\n",
    "from funk_svd.dataset import fetch_ml_ratings\n",
    "from funk_svd import SVD\n",
    "import grakel\n",
    "from grakel.kernels import WeisfeilerLehman, VertexHistogram, ShortestPath, SubgraphMatching\n",
    "import networkx as nx\n",
    "import numpy as np\n",
    "import pandas as pd\n",
    "import random\n",
    "from rdflib import Graph, URIRef\n",
    "from rdflib.extras.external_graph_libs import rdflib_to_networkx_digraph, rdflib_to_networkx_multidigraph\n",
    "from rdflib.namespace import DefinedNamespace, Namespace, RDF, RDFS, SOSA\n",
    "from rdflib.term import Literal, URIRef\n",
    "from sklearn.model_selection import KFold\n",
    "from tqdm import tqdm\n",
    "\n",
    "from viscars.data import DataLoader\n",
    "from viscars.evaluation.evaluators import Evaluator\n",
    "from viscars.evaluation.metrics import MetricType\n",
    "from viscars.evaluation.metrics.factory import MetricFactory\n",
    "from viscars.recommenders import Recommender\n",
    "from viscars.recommenders.factory import RecommenderFactory, RecommenderType\n",
    "from viscars.utils import visualize_graph"
   ]
  },
  {
   "cell_type": "code",
   "execution_count": 2,
   "id": "4a356134",
   "metadata": {},
   "outputs": [],
   "source": [
    "class DASHB(DefinedNamespace):\n",
    "    \"\"\"\n",
    "    The Dynamic Dashboard Ontology\n",
    "    \"\"\"\n",
    "\n",
    "    _fail = True\n",
    "\n",
    "    # Classes\n",
    "    User: URIRef\n",
    "    UserGroup: URIRef\n",
    "    Dashboard: URIRef\n",
    "    Tab: URIRef\n",
    "    Widget: URIRef\n",
    "    Property: URIRef\n",
    "    Metric: URIRef\n",
    "    Visualization: URIRef\n",
    "    ObservationBoundary: URIRef\n",
    "\n",
    "    # User\n",
    "    memberOf: URIRef\n",
    "\n",
    "    # Dashboard\n",
    "    hasTab: URIRef\n",
    "\n",
    "    # Tab\n",
    "    hasWidget: URIRef\n",
    "\n",
    "    # Widget\n",
    "    createdBy: URIRef\n",
    "    hasProperty: URIRef\n",
    "    visualizedBy: URIRef\n",
    "    hasObservationBoundary: URIRef\n",
    "\n",
    "    # Property\n",
    "    produces: URIRef\n",
    "\n",
    "    # ObservationBoundary\n",
    "    hasMinBoundary: Literal\n",
    "    hasMaxBoundary: Literal\n",
    "    hasBoundaryLabel: Literal\n",
    "\n",
    "    _NS = Namespace('http://dynamicdashboard.ilabt.imec.be/broker/ontologies/dashboard#')"
   ]
  },
  {
   "cell_type": "code",
   "execution_count": 3,
   "id": "546252e9",
   "metadata": {},
   "outputs": [
    {
     "data": {
      "text/plain": [
       "<Graph identifier=N4fe1ee6bcd664e70aedc64ab0f0b15af (<class 'rdflib.graph.Graph'>)>"
      ]
     },
     "execution_count": 3,
     "metadata": {},
     "output_type": "execute_result"
    }
   ],
   "source": [
    "graph = Graph()\n",
    "graph.parse(f'./data/protego/graph.ttl', format='n3')\n",
    "graph.parse(f'./data/protego/protego_zplus.ttl', format='n3')"
   ]
  },
  {
   "cell_type": "markdown",
   "id": "19076062",
   "metadata": {},
   "source": [
    "## Generate (sub)graphs"
   ]
  },
  {
   "cell_type": "code",
   "execution_count": 4,
   "id": "623db7d8",
   "metadata": {},
   "outputs": [],
   "source": [
    "def generate_subgraph(graph: Graph, uid: URIRef) -> Graph:\n",
    "    sub_graph = Graph()\n",
    "    sub_graph += graph.triples((uid, None, None))\n",
    "\n",
    "    for widget in graph.subjects(DASHB.createdBy, uid):       \n",
    "        sub_graph += graph.triples((widget, None, None))\n",
    "        \n",
    "        for property_ in graph.objects(widget, DASHB.hasProperty):\n",
    "            sub_graph += graph.triples((property_, None, None))\n",
    "            \n",
    "        for visualization in graph.objects(widget, DASHB.visualizedBy):\n",
    "            sub_graph += graph.triples((visualization, None, None))\n",
    "            \n",
    "        for observation_boundary in graph.objects(widget, DASHB.hasObservationBoundary):\n",
    "            sub_graph += graph.triples((observation_boundary, None, None))\n",
    "            \n",
    "    return sub_graph     "
   ]
  },
  {
   "cell_type": "code",
   "execution_count": 5,
   "id": "84a09dea",
   "metadata": {},
   "outputs": [],
   "source": [
    "users = [str(user) for user in graph.subjects(RDF.type, DASHB.User)]\n",
    "\n",
    "sub_graphs = {uid: generate_subgraph(graph, URIRef(uid)) for uid in users}"
   ]
  },
  {
   "cell_type": "markdown",
   "id": "c49cf85d",
   "metadata": {},
   "source": [
    "## Graph comparison"
   ]
  },
  {
   "cell_type": "code",
   "execution_count": 6,
   "id": "5b2aa5e4",
   "metadata": {},
   "outputs": [],
   "source": [
    "G_nx = []\n",
    "for uid_, graph_ in sub_graphs.items():\n",
    "    networkx_graph = rdflib_to_networkx_digraph(graph_, edge_attrs=lambda s, p, o: {'label': p})    \n",
    "    # Add node labels\n",
    "    for id_, data in networkx_graph.nodes(data=True):\n",
    "        data['label'] = str(id_)\n",
    "    \n",
    "    G_nx.append(networkx_graph)\n",
    "\n",
    "graphs = list(grakel.utils.graph_from_networkx(G_nx, node_labels_tag='label', edge_labels_tag='label', edge_weight_tag='weight'))"
   ]
  },
  {
   "cell_type": "code",
   "execution_count": 7,
   "id": "69fb86c5",
   "metadata": {},
   "outputs": [
    {
     "name": "stderr",
     "output_type": "stream",
     "text": [
      "100%|████████████████████████████████████████████| 4/4 [00:00<00:00, 163.19it/s]\n"
     ]
    }
   ],
   "source": [
    "uu_similarities = {}\n",
    "for idx, uid in enumerate(tqdm(users)):\n",
    "    gk = WeisfeilerLehman(n_iter=2, normalize=True, base_graph_kernel=VertexHistogram)\n",
    "    check = gk.fit_transform([graphs[idx]])[0]\n",
    "    \n",
    "    assert (check == 1)\n",
    "    \n",
    "    uu_similarities[uid] = {}\n",
    "    for idx_, uid_ in enumerate(users):\n",
    "        if uid == uid_:\n",
    "            uu_similarities[uid][uid_] = float(check)\n",
    "        if uid_ in uu_similarities.keys():\n",
    "            uu_similarities[uid][uid_] = uu_similarities[uid_][uid]\n",
    "        else:\n",
    "            uu_similarities[uid][uid_] = float(gk.transform([graphs[idx_]])[0])"
   ]
  },
  {
   "cell_type": "code",
   "execution_count": 8,
   "id": "ee5e9a72",
   "metadata": {},
   "outputs": [
    {
     "name": "stdout",
     "output_type": "stream",
     "text": [
      "{'https://dynamicdashboard.ilabt.imec.be/users/10': {'https://dynamicdashboard.ilabt.imec.be/users/10': 1.0, 'https://dynamicdashboard.ilabt.imec.be/users/8': 0.37080992435478316, 'https://dynamicdashboard.ilabt.imec.be/users/9': 0.36255427673212065, 'https://dynamicdashboard.ilabt.imec.be/users/7': 0.3780443724864984}, 'https://dynamicdashboard.ilabt.imec.be/users/8': {'https://dynamicdashboard.ilabt.imec.be/users/10': 0.37080992435478316, 'https://dynamicdashboard.ilabt.imec.be/users/8': 1.0, 'https://dynamicdashboard.ilabt.imec.be/users/9': 0.3360968098238519, 'https://dynamicdashboard.ilabt.imec.be/users/7': 0.35045651291117486}, 'https://dynamicdashboard.ilabt.imec.be/users/9': {'https://dynamicdashboard.ilabt.imec.be/users/10': 0.36255427673212065, 'https://dynamicdashboard.ilabt.imec.be/users/8': 0.3360968098238519, 'https://dynamicdashboard.ilabt.imec.be/users/9': 1.0, 'https://dynamicdashboard.ilabt.imec.be/users/7': 0.3313577240515163}, 'https://dynamicdashboard.ilabt.imec.be/users/7': {'https://dynamicdashboard.ilabt.imec.be/users/10': 0.3780443724864984, 'https://dynamicdashboard.ilabt.imec.be/users/8': 0.35045651291117486, 'https://dynamicdashboard.ilabt.imec.be/users/9': 0.3313577240515163, 'https://dynamicdashboard.ilabt.imec.be/users/7': 1.0}}\n"
     ]
    }
   ],
   "source": [
    "print(uu_similarities)"
   ]
  },
  {
   "cell_type": "code",
   "execution_count": 9,
   "id": "7c6bd9ed",
   "metadata": {},
   "outputs": [],
   "source": [
    "def kneighbours_cc(uid, cid, iid, k=20, strict=True):\n",
    "    cc_similarities_ = copy.deepcopy(cc_similarities)\n",
    "    \n",
    "    if strict:\n",
    "        for c, w in cc_similarities[cid].items():\n",
    "            qry = f'''\n",
    "                PREFIX dashb: <http://dynamicdashboard.ilabt.imec.be/broker/ontologies/dashboard#>\n",
    "                PREFIX sosa: <http://www.w3.org/ns/sosa/>\n",
    "                PREFIX ssn-ext: <http://dynamicdashboard.ilabt.imec.be/broker/ontologies/ssn-extension/>\n",
    "\n",
    "                SELECT * WHERE {{\n",
    "                    ?widget a dashb:Widget ;\n",
    "                        dashb:createdBy <{uid}> ;\n",
    "                        dashb:hasProperty ?property .\n",
    "                        \n",
    "                    ?sensor ssn-ext:subSystemOf <{c}> ;\n",
    "                        sosa:observes ?property .\n",
    "                }}\n",
    "            '''\n",
    "            if len(list(graph.query(qry))) == 0:\n",
    "                cc_similarities_[cid].pop(c)\n",
    "    \n",
    "    if cid in cc_similarities_[cid].keys():\n",
    "        cc_similarities_[cid].pop(cid)\n",
    "    \n",
    "    return sorted(cc_similarities_[cid].items(), key=lambda x: x[1])[:k]\n",
    "\n",
    "def kneighbours_ii(iid, k=20):\n",
    "    ii_similarities_ = copy.deepcopy(ii_similarities)\n",
    "    ii_similarities_[iid].pop(uid)\n",
    "    return sorted(ii_similarities_[iid].items(), key=lambda x: x[1])[:k]\n",
    "\n",
    "def kneighbours_uu(uid, cid, iid, k=20):\n",
    "    uu_similarities_ = copy.deepcopy(uu_similarities)\n",
    "                \n",
    "    if uid in uu_similarities_[uid].keys():\n",
    "        uu_similarities_[uid].pop(uid)\n",
    "                \n",
    "    return sorted(uu_similarities_[uid].items(), key=lambda x: x[1])[:k]"
   ]
  },
  {
   "cell_type": "code",
   "execution_count": 10,
   "id": "c1ff5e2e",
   "metadata": {},
   "outputs": [],
   "source": [
    "def predict_uucf(uid, cid, iid):\n",
    "    # Calculate K-nearest neighbours of the user\n",
    "    neighbours = kneighbours_uu(uid, cid, iid)\n",
    "    \n",
    "    total_rw = 0\n",
    "    total_w = 0\n",
    "    for n, w in neighbours:\n",
    "        # Get ratings from user n for item i\n",
    "        qry = f'''\n",
    "            PREFIX dashb:<http://dynamicdashboard.ilabt.imec.be/broker/ontologies/dashboard#>\n",
    "    \n",
    "            SELECT * WHERE {{\n",
    "                ?widget a dashb:Widget ;\n",
    "                    dashb:createdBy <{n}> ;\n",
    "                    dashb:hasProperty ?property ;\n",
    "                    dashb:visualizedBy <{iid}> .\n",
    "                \n",
    "                <{cid}> dashb:produces ?metric .\n",
    "                ?property dashb:produces ?metric .\n",
    "            }}\n",
    "        '''\n",
    "        r_aui = 1 if len(list(graph.query(qry))) > 0 else 0\n",
    "        w_au = w  # Similarity score of user u and user n\n",
    "        total_rw += r_aui * w_au\n",
    "        total_w += w\n",
    "    return total_rw / total_w if total_w > 0 else 0"
   ]
  },
  {
   "cell_type": "code",
   "execution_count": 11,
   "id": "b763a258",
   "metadata": {},
   "outputs": [
    {
     "name": "stdout",
     "output_type": "stream",
     "text": [
      "[1.0] http://localhost/web-thing-gateway/things/visualizations/enriched-call\n",
      "[0.0] http://localhost/web-thing-gateway/things/visualizations/time-series-line-chart-with-time-range-selector\n",
      "[0.0] http://localhost/web-thing-gateway/things/visualizations/colored-measurement\n"
     ]
    }
   ],
   "source": [
    "uid = 'https://dynamicdashboard.ilabt.imec.be/users/10'\n",
    "uid = 'https://dynamicdashboard.ilabt.imec.be/users/7'\n",
    "\n",
    "# cid = 'https://webthing.protego.dynamicdashboard.ilabt.imec.be/things/zplus_6.lifestyle/properties/enriched-call'\n",
    "cid = 'https://webthing.protego.dynamicdashboard.ilabt.imec.be/things/zplus_6.60%253A77%253A71%253A7D%253A93%253AD7%252Fservice0009/properties/org.dyamand.types.health.GlucoseLevel'\n",
    "cid = 'https://webthing.protego.dynamicdashboard.ilabt.imec.be/things/zplus_146.lifestyle/properties/enriched-call'\n",
    "\n",
    "items = set(graph.objects(None, DASHB.visualizedBy))\n",
    "for iid in items:\n",
    "    p = predict_uucf(uid, cid, iid)\n",
    "    print(f'[{p}] {iid}')"
   ]
  },
  {
   "cell_type": "code",
   "execution_count": 12,
   "id": "37f763c6",
   "metadata": {},
   "outputs": [],
   "source": [
    "# def predict_cccf(uid, cid, iid):\n",
    "#     # Calculate K-nearest neighbours of the patient\n",
    "#     neighbours = kneighbours_cc(uid, cid, iid)\n",
    "    \n",
    "#     total_rw = 0\n",
    "#     total_w = 0\n",
    "#     for n, w in neighbours:\n",
    "#         # Get ratings from user i for similar items (metric-based) of patient n\n",
    "#         qry = f'''\n",
    "#             PREFIX dashb: <http://dynamicdashboard.ilabt.imec.be/broker/ontologies/dashboard#>\n",
    "#             PREFIX sosa: <http://www.w3.org/ns/sosa/>\n",
    "#             PREFIX ssn-ext: <http://dynamicdashboard.ilabt.imec.be/broker/ontologies/ssn-extension/>\n",
    "    \n",
    "#             SELECT * WHERE {{\n",
    "#                 <{iid}> dashb:produces ?metric .\n",
    "                \n",
    "#                 ?sensor ssn-ext:subSystemOf <{n}> ;\n",
    "#                     sosa:observes ?property .\n",
    "#                 ?property dashb:produces ?metric .\n",
    "                \n",
    "#                 ?widget a dashb:Widget ;\n",
    "#                     dashb:createdBy <{uid}> ;\n",
    "#                     dashb:hasProperty ?property .\n",
    "#             }}\n",
    "#         '''\n",
    "#         r_aui = 1 if len(list(graph.query(qry))) > 0 else 0\n",
    "#         w_au = w  # Similarity score of patient cid and patient n\n",
    "#         total_rw += r_aui * w_au\n",
    "#         total_w += w\n",
    "#     return total_rw / total_w if total_w > 0 else 0"
   ]
  },
  {
   "cell_type": "code",
   "execution_count": 13,
   "id": "85a94739",
   "metadata": {},
   "outputs": [],
   "source": [
    "# for iid in items:\n",
    "#     p = predict_cccf(uid, cid, iid)\n",
    "#     print(f'[{p}] {iid}')"
   ]
  },
  {
   "cell_type": "code",
   "execution_count": 14,
   "id": "d5e185ac",
   "metadata": {},
   "outputs": [],
   "source": [
    "def predict(uid, cid):\n",
    "    items = set(graph.objects(None, DASHB.visualizedBy))\n",
    "    \n",
    "    scores = {}\n",
    "    for iid in items:\n",
    "        scores[iid] = predict_uucf(uid, cid, iid)\n",
    "        \n",
    "    recommendations = [{'contextId': cid, 'itemId': item, 'score': score} for item, score in scores.items()]\n",
    "    return sorted(recommendations, key=lambda n: n['score'], reverse=True)"
   ]
  },
  {
   "cell_type": "code",
   "execution_count": 15,
   "id": "475acde2",
   "metadata": {},
   "outputs": [
    {
     "data": {
      "text/plain": [
       "[{'contextId': 'https://webthing.protego.dynamicdashboard.ilabt.imec.be/things/zplus_146.lifestyle/properties/enriched-call',\n",
       "  'itemId': rdflib.term.URIRef('http://localhost/web-thing-gateway/things/visualizations/enriched-call'),\n",
       "  'score': 1.0},\n",
       " {'contextId': 'https://webthing.protego.dynamicdashboard.ilabt.imec.be/things/zplus_146.lifestyle/properties/enriched-call',\n",
       "  'itemId': rdflib.term.URIRef('http://localhost/web-thing-gateway/things/visualizations/time-series-line-chart-with-time-range-selector'),\n",
       "  'score': 0.0},\n",
       " {'contextId': 'https://webthing.protego.dynamicdashboard.ilabt.imec.be/things/zplus_146.lifestyle/properties/enriched-call',\n",
       "  'itemId': rdflib.term.URIRef('http://localhost/web-thing-gateway/things/visualizations/colored-measurement'),\n",
       "  'score': 0.0}]"
      ]
     },
     "execution_count": 15,
     "metadata": {},
     "output_type": "execute_result"
    }
   ],
   "source": [
    "predict(uid, cid)"
   ]
  },
  {
   "cell_type": "markdown",
   "id": "314d89a1",
   "metadata": {},
   "source": [
    "# Evaluation"
   ]
  },
  {
   "cell_type": "code",
   "execution_count": 16,
   "id": "d54a8e2d",
   "metadata": {},
   "outputs": [],
   "source": [
    "qry = '''\n",
    "    PREFIX dashb: <http://dynamicdashboard.ilabt.imec.be/broker/ontologies/dashboard#>\n",
    "    PREFIX sosa: <http://www.w3.org/ns/sosa/>\n",
    "    PREFIX ssn-ext: <http://dynamicdashboard.ilabt.imec.be/broker/ontologies/ssn-extension/>\n",
    "\n",
    "    SELECT ?user ?context ?item WHERE {          \n",
    "        ?widget dashb:hasProperty ?context ;\n",
    "                dashb:visualizedBy ?item ;\n",
    "                dashb:createdBy ?user .                \n",
    "    }\n",
    "'''\n",
    "\n",
    "ratings = {'user': [], 'item': [], 'rating': [], 'context': []}\n",
    "for row in graph.query(qry):\n",
    "    user_ = row[0]\n",
    "    context_ = row[1]\n",
    "    item_ = row[2]\n",
    "    \n",
    "    ratings.get('user').append(user_)\n",
    "    ratings.get('item').append(item_)\n",
    "    ratings.get('rating').append(1)\n",
    "    ratings.get('context').append(context_)\n",
    "ratings_df = pd.DataFrame.from_dict(ratings)"
   ]
  },
  {
   "cell_type": "code",
   "execution_count": 17,
   "id": "97bf6e2c",
   "metadata": {},
   "outputs": [
    {
     "data": {
      "text/html": [
       "<div>\n",
       "<style scoped>\n",
       "    .dataframe tbody tr th:only-of-type {\n",
       "        vertical-align: middle;\n",
       "    }\n",
       "\n",
       "    .dataframe tbody tr th {\n",
       "        vertical-align: top;\n",
       "    }\n",
       "\n",
       "    .dataframe thead th {\n",
       "        text-align: right;\n",
       "    }\n",
       "</style>\n",
       "<table border=\"1\" class=\"dataframe\">\n",
       "  <thead>\n",
       "    <tr style=\"text-align: right;\">\n",
       "      <th></th>\n",
       "      <th>user</th>\n",
       "      <th>item</th>\n",
       "      <th>rating</th>\n",
       "      <th>context</th>\n",
       "    </tr>\n",
       "  </thead>\n",
       "  <tbody>\n",
       "    <tr>\n",
       "      <th>0</th>\n",
       "      <td>https://dynamicdashboard.ilabt.imec.be/users/7</td>\n",
       "      <td>http://localhost/web-thing-gateway/things/visu...</td>\n",
       "      <td>1</td>\n",
       "      <td>https://webthing.protego.dynamicdashboard.ilab...</td>\n",
       "    </tr>\n",
       "    <tr>\n",
       "      <th>1</th>\n",
       "      <td>https://dynamicdashboard.ilabt.imec.be/users/7</td>\n",
       "      <td>http://localhost/web-thing-gateway/things/visu...</td>\n",
       "      <td>1</td>\n",
       "      <td>https://webthing.protego.dynamicdashboard.ilab...</td>\n",
       "    </tr>\n",
       "    <tr>\n",
       "      <th>2</th>\n",
       "      <td>https://dynamicdashboard.ilabt.imec.be/users/7</td>\n",
       "      <td>http://localhost/web-thing-gateway/things/visu...</td>\n",
       "      <td>1</td>\n",
       "      <td>https://webthing.protego.dynamicdashboard.ilab...</td>\n",
       "    </tr>\n",
       "    <tr>\n",
       "      <th>3</th>\n",
       "      <td>https://dynamicdashboard.ilabt.imec.be/users/7</td>\n",
       "      <td>http://localhost/web-thing-gateway/things/visu...</td>\n",
       "      <td>1</td>\n",
       "      <td>https://webthing.protego.dynamicdashboard.ilab...</td>\n",
       "    </tr>\n",
       "    <tr>\n",
       "      <th>4</th>\n",
       "      <td>https://dynamicdashboard.ilabt.imec.be/users/7</td>\n",
       "      <td>http://localhost/web-thing-gateway/things/visu...</td>\n",
       "      <td>1</td>\n",
       "      <td>https://webthing.protego.dynamicdashboard.ilab...</td>\n",
       "    </tr>\n",
       "  </tbody>\n",
       "</table>\n",
       "</div>"
      ],
      "text/plain": [
       "                                             user  \\\n",
       "0  https://dynamicdashboard.ilabt.imec.be/users/7   \n",
       "1  https://dynamicdashboard.ilabt.imec.be/users/7   \n",
       "2  https://dynamicdashboard.ilabt.imec.be/users/7   \n",
       "3  https://dynamicdashboard.ilabt.imec.be/users/7   \n",
       "4  https://dynamicdashboard.ilabt.imec.be/users/7   \n",
       "\n",
       "                                                item  rating  \\\n",
       "0  http://localhost/web-thing-gateway/things/visu...       1   \n",
       "1  http://localhost/web-thing-gateway/things/visu...       1   \n",
       "2  http://localhost/web-thing-gateway/things/visu...       1   \n",
       "3  http://localhost/web-thing-gateway/things/visu...       1   \n",
       "4  http://localhost/web-thing-gateway/things/visu...       1   \n",
       "\n",
       "                                             context  \n",
       "0  https://webthing.protego.dynamicdashboard.ilab...  \n",
       "1  https://webthing.protego.dynamicdashboard.ilab...  \n",
       "2  https://webthing.protego.dynamicdashboard.ilab...  \n",
       "3  https://webthing.protego.dynamicdashboard.ilab...  \n",
       "4  https://webthing.protego.dynamicdashboard.ilab...  "
      ]
     },
     "execution_count": 17,
     "metadata": {},
     "output_type": "execute_result"
    }
   ],
   "source": [
    "ratings_df.head()"
   ]
  },
  {
   "cell_type": "code",
   "execution_count": 18,
   "id": "4d9055d7",
   "metadata": {},
   "outputs": [],
   "source": [
    "# Context metadata\n",
    "qry = '''\n",
    "    PREFIX dashb: <http://dynamicdashboard.ilabt.imec.be/broker/ontologies/dashboard#>\n",
    "    PREFIX sosa: <http://www.w3.org/ns/sosa/>\n",
    "\n",
    "    SELECT ?context WHERE {\n",
    "        ?widget dashb:hasProperty ?context .\n",
    "    }\n",
    "'''\n",
    "context_metadata = {'id': []}\n",
    "\n",
    "result = graph.query(qry)\n",
    "for row in result:\n",
    "    context_metadata.get('id').append(row[0])\n",
    "context_metadata_df = pd.DataFrame.from_dict(context_metadata)\n",
    "\n",
    "# User metadata\n",
    "qry = '''\n",
    "    PREFIX dashb: <http://dynamicdashboard.ilabt.imec.be/broker/ontologies/dashboard#>\n",
    "\n",
    "    SELECT ?user ?role WHERE {\n",
    "        ?user dashb:memberOf ?role .\n",
    "    }\n",
    "'''\n",
    "user_metadata = {'id': [], 'type': []}\n",
    "\n",
    "result = graph.query(qry)\n",
    "for row in result:\n",
    "    user_metadata.get('id').append(row[0])\n",
    "    user_metadata.get('type').append(row[1])\n",
    "user_metadata_df = pd.DataFrame.from_dict(user_metadata)\n",
    "\n",
    "# Item metadata\n",
    "qry = '''\n",
    "    PREFIX dashb: <http://dynamicdashboard.ilabt.imec.be/broker/ontologies/dashboard#>\n",
    "\n",
    "    SELECT ?item WHERE {\n",
    "        ?widget dashb:visualizedBy ?item .\n",
    "    }\n",
    "'''\n",
    "item_metadata = {'id': []}\n",
    "\n",
    "result = graph.query(qry)\n",
    "for row in result:\n",
    "    item_metadata.get('id').append(row[0])\n",
    "item_metadata_df = pd.DataFrame.from_dict(item_metadata)\n",
    "\n",
    "\n",
    "def build_subgraph_from_ratings(ratings: pd.DataFrame) -> Graph:\n",
    "    sub_graph = Graph()\n",
    "\n",
    "    for idx, row in context_metadata_df.iterrows():\n",
    "        cid = row['id']\n",
    "        sub_graph += graph.triples((cid, None, None))\n",
    "\n",
    "    for idx, row in user_metadata_df.iterrows():\n",
    "        uid = row['id']\n",
    "        sub_graph += graph.triples((uid, None, None))\n",
    "\n",
    "    for idx, row in item_metadata_df.iterrows():\n",
    "        iid = row['id']\n",
    "        sub_graph += graph.triples((iid, None, None))\n",
    "\n",
    "    for idx, row in ratings.iterrows():\n",
    "        uid = row['user']\n",
    "        iid = row['item']\n",
    "        cid = row['context']\n",
    "\n",
    "        sub_graph += graph.triples((uid, None, None))\n",
    "        sub_graph += graph.triples((None, None, uid))\n",
    "        sub_graph += graph.triples((iid, None, None))\n",
    "        sub_graph += graph.triples((None, None, iid))\n",
    "\n",
    "        sub_graph += graph.triples((cid, None, None))\n",
    "        sub_graph += graph.triples((None, None, cid))\n",
    "\n",
    "    return sub_graph"
   ]
  },
  {
   "cell_type": "code",
   "execution_count": 19,
   "id": "feeff177",
   "metadata": {},
   "outputs": [],
   "source": [
    "class CF(Recommender):\n",
    "    def __init__(self, graph: Graph, verbose=False):\n",
    "        super().__init__(graph, verbose)\n",
    "\n",
    "    def _build_model(self):\n",
    "        pass\n",
    "    \n",
    "    def kneighbours_uu(self, uid, cid, iid, k=20):\n",
    "        uu_similarities_ = copy.deepcopy(uu_similarities)\n",
    "\n",
    "        if uid in uu_similarities_[uid].keys():\n",
    "            uu_similarities_[uid].pop(uid)\n",
    "\n",
    "        return sorted(uu_similarities_[uid].items(), key=lambda x: x[1])[:k]\n",
    "    \n",
    "    def predict_uucf(self, uid, cid, iid):\n",
    "        # Calculate K-nearest neighbours of the user\n",
    "        neighbours = kneighbours_uu(uid, cid, iid)\n",
    "\n",
    "        total_rw = 0\n",
    "        total_w = 0\n",
    "        for n, w in neighbours:\n",
    "            # Get ratings from user n for item i\n",
    "            qry = f'''\n",
    "                PREFIX dashb:<http://dynamicdashboard.ilabt.imec.be/broker/ontologies/dashboard#>\n",
    "\n",
    "                SELECT * WHERE {{\n",
    "                    ?widget\n",
    "                        dashb:createdBy <{n}> ;\n",
    "                        dashb:hasProperty ?property ;\n",
    "                        dashb:visualizedBy <{iid}> .\n",
    "\n",
    "                    <{cid}> dashb:produces ?metric .\n",
    "                    ?property dashb:produces ?metric .\n",
    "                }}\n",
    "            '''\n",
    "            r_aui = 1 if len(list(self.graph.query(qry))) > 0 else 0\n",
    "            w_au = w  # Similarity score of user u and user n\n",
    "            total_rw += r_aui * w_au\n",
    "            total_w += w\n",
    "        return total_rw / total_w if total_w > 0 else 0\n",
    "\n",
    "    def predict(self, uid, cid, *kwargs):\n",
    "        items = set(graph.objects(None, DASHB.visualizedBy))\n",
    "\n",
    "        scores = {}\n",
    "        for iid in items:\n",
    "            scores[iid] = self.predict_uucf(uid, cid, iid)\n",
    "\n",
    "        recommendations = [{'contextId': cid, 'itemId': item, 'score': score} for item, score in scores.items()]\n",
    "        return sorted(recommendations, key=lambda n: n['score'], reverse=True)\n",
    "\n",
    "    def top_n(self, uid: [], cid: [], n: int, **kwargs):\n",
    "        pass"
   ]
  },
  {
   "cell_type": "code",
   "execution_count": 20,
   "id": "6a141119-7d16-4b55-bbc9-cca2dcadad6b",
   "metadata": {},
   "outputs": [],
   "source": [
    "class KFoldCrossValidation():\n",
    "\n",
    "    def __init__(self, recommender: Recommender, metrics: [], k=5):\n",
    "        \"\"\"\n",
    "        :param project_id: ID of the project (to load the correct data).\n",
    "        :param recommender: Recommender\n",
    "        :param metrics: List of Metrics\n",
    "        :param k: Number of folds\n",
    "        \"\"\"\n",
    "        self.recommender = recommender\n",
    "        self.metrics = metrics\n",
    "        self.k = k\n",
    "\n",
    "    def evaluate(self, ratings, **kwargs):\n",
    "        kf = KFold(n_splits=self.k, shuffle=True)\n",
    "\n",
    "        n_fold = 0\n",
    "\n",
    "        result = {'folds': [], 'result': {}}\n",
    "        for train_idx, test_idx in kf.split(ratings):\n",
    "            train = ratings.iloc[train_idx]\n",
    "            test = ratings.iloc[test_idx]\n",
    "\n",
    "            graph = build_subgraph_from_ratings(train)\n",
    "            self.recommender.set_graph(graph)\n",
    "\n",
    "            fold_scores = {}\n",
    "\n",
    "            for uid in tqdm(test['user'].unique()):\n",
    "                df_user = test.loc[test['user'] == uid]\n",
    "\n",
    "                for cid in df_user['context']:\n",
    "                    predictions = self.recommender.predict(str(uid), str(cid), **kwargs)\n",
    "                    recommendations = [r['itemId'] for r in predictions]\n",
    "\n",
    "                    truth = []\n",
    "                    t_user = test.loc[test['user'] == uid]\n",
    "                    for idx, row in t_user.iterrows():\n",
    "                        if row['context'] == cid:\n",
    "                            truth.append(row['item'])\n",
    "                    # truth = list(test.loc[test['user'] == uid].loc[test['context'] == cid]['item'])\n",
    "                    \n",
    "                    print(recommendations)\n",
    "                    print(truth)\n",
    "\n",
    "                    for metric in self.metrics:\n",
    "                        if str(metric) not in fold_scores.keys():\n",
    "                            fold_scores[str(metric)] = []\n",
    "                        score = metric.calculate(recommendations, truth)\n",
    "                        fold_scores[str(metric)].append(score)\n",
    "\n",
    "            result_for_fold = {}\n",
    "            for metric, scores in fold_scores.items():\n",
    "                avg = sum(scores) / len(scores)\n",
    "                result_for_fold[metric] = avg\n",
    "\n",
    "                if metric not in result['result'].keys():\n",
    "                    result['result'][metric] = []\n",
    "                result['result'][metric].append(avg)\n",
    "            result['folds'].append(result_for_fold)\n",
    "\n",
    "            n_fold += 1\n",
    "\n",
    "        final_results = {}\n",
    "        for metric_type, score in result['result'].items():\n",
    "            final_results[metric_type] = sum(score) / len(score)\n",
    "\n",
    "        result['result'] = final_results\n",
    "        return result"
   ]
  },
  {
   "cell_type": "code",
   "execution_count": 21,
   "id": "14fe4dc4",
   "metadata": {},
   "outputs": [],
   "source": [
    "metric_factory = MetricFactory()\n",
    "\n",
    "metrics = ['f1@1', 'ndcg@1', 'ndcg@3']\n",
    "parsed_metrics = []\n",
    "for metric in metrics:\n",
    "    m_split = metric.split('@')\n",
    "    m_type = m_split[0]\n",
    "    n = int(m_split[1]) if len(m_split) >= 2 else None\n",
    "\n",
    "    metric_ = metric_factory.get(MetricType.reverse_lookup(m_type), n)\n",
    "    parsed_metrics.append(metric_)"
   ]
  },
  {
   "cell_type": "code",
   "execution_count": 22,
   "id": "437a7011",
   "metadata": {},
   "outputs": [
    {
     "name": "stderr",
     "output_type": "stream",
     "text": [
      "  0%|                                                     | 0/4 [00:00<?, ?it/s]"
     ]
    },
    {
     "name": "stdout",
     "output_type": "stream",
     "text": [
      "[rdflib.term.URIRef('http://localhost/web-thing-gateway/things/visualizations/colored-measurement'), rdflib.term.URIRef('http://localhost/web-thing-gateway/things/visualizations/enriched-call'), rdflib.term.URIRef('http://localhost/web-thing-gateway/things/visualizations/time-series-line-chart-with-time-range-selector')]\n",
      "[rdflib.term.URIRef('http://localhost/web-thing-gateway/things/visualizations/colored-measurement')]\n",
      "[rdflib.term.URIRef('http://localhost/web-thing-gateway/things/visualizations/enriched-call'), rdflib.term.URIRef('http://localhost/web-thing-gateway/things/visualizations/time-series-line-chart-with-time-range-selector'), rdflib.term.URIRef('http://localhost/web-thing-gateway/things/visualizations/colored-measurement')]\n",
      "[rdflib.term.URIRef('http://localhost/web-thing-gateway/things/visualizations/enriched-call')]\n",
      "[rdflib.term.URIRef('http://localhost/web-thing-gateway/things/visualizations/colored-measurement'), rdflib.term.URIRef('http://localhost/web-thing-gateway/things/visualizations/time-series-line-chart-with-time-range-selector'), rdflib.term.URIRef('http://localhost/web-thing-gateway/things/visualizations/enriched-call')]\n",
      "[rdflib.term.URIRef('http://localhost/web-thing-gateway/things/visualizations/colored-measurement')]\n"
     ]
    },
    {
     "name": "stderr",
     "output_type": "stream",
     "text": [
      " 25%|███████████▎                                 | 1/4 [00:00<00:01,  1.98it/s]"
     ]
    }
   ],
   "source": [
    "recommender = CF(graph)\n",
    "\n",
    "evaluator = KFoldCrossValidation(recommender, metrics=parsed_metrics, k=5)\n",
    "result = evaluator.evaluate(ratings_df)\n",
    "\n",
    "for fold in result['folds']:\n",
    "    print(fold)\n",
    "print(result['result'])"
   ]
  },
  {
   "cell_type": "code",
   "execution_count": 23,
   "id": "1ea2db41",
   "metadata": {},
   "outputs": [],
   "source": [
    "class NetworkXPersonalizedPageRank(Recommender):\n",
    "\n",
    "    def __init__(self, graph: Graph, verbose=False, alpha=0.8, tol=10e-6):\n",
    "        super().__init__(graph, verbose)\n",
    "\n",
    "        self.alpha = alpha\n",
    "        self.tolerance = tol\n",
    "        self.personalization = None\n",
    "\n",
    "    def _build_model(self):\n",
    "        graph_ = Graph()\n",
    "        graph_ += self.graph.triples((None, None, None))\n",
    "\n",
    "        self.items = items = set(graph.objects(None, DASHB.visualizedBy))\n",
    "        self.model = rdflib_to_networkx_multidigraph(graph_).to_undirected()\n",
    "\n",
    "    def set_personalization(self, weight_uid=0, weight_cid=0):\n",
    "        weight_others = 1 - weight_uid - weight_cid\n",
    "\n",
    "        if weight_uid == 0:\n",
    "            weight_uid = weight_others\n",
    "        if weight_cid == 0:\n",
    "            weight_cid = weight_others\n",
    "\n",
    "        self.personalization = (weight_uid, weight_cid, weight_others)\n",
    "\n",
    "    def _personalization(self, uid, cid):\n",
    "        personalization = {}\n",
    "\n",
    "        for node in self.model.nodes:\n",
    "            uri = str(node)\n",
    "            if uri in uid:\n",
    "                personalization[node] = self.personalization[0]\n",
    "            elif uri in cid:\n",
    "                personalization[node] = self.personalization[1]\n",
    "            else:\n",
    "                personalization[node] = self.personalization[2]\n",
    "\n",
    "        return personalization\n",
    "\n",
    "    def run(self, uid: [] = None, cid: [] = None):\n",
    "        if uid is not None and cid is not None:  # TODO: Check if UID and CID exist in graph -> ZeroDivisionError\n",
    "            weights = self._personalization(uid, cid)\n",
    "            return nx.pagerank(self.model, alpha=self.alpha, personalization=weights,\n",
    "                               tol=self.tolerance)\n",
    "\n",
    "        return nx.pagerank(self.model, alpha=self.alpha, tol=self.tolerance)\n",
    "\n",
    "    def predict(self, uid: [] = None, cid: [] = None, **kwargs):\n",
    "        pr = self.run(uid, cid)\n",
    "\n",
    "        recommendations = \\\n",
    "            [{'contextId': cid, 'itemId': item, 'score': p} for item, p in pr.items()\n",
    "             if item in self.items]\n",
    "        return sorted(recommendations, key=lambda n: n['score'], reverse=True)\n",
    "\n",
    "    def top_n(self, uid: [], cid: [], n: int, **kwargs):\n",
    "        pass\n"
   ]
  },
  {
   "cell_type": "code",
   "execution_count": 26,
   "id": "93fb6f22",
   "metadata": {},
   "outputs": [
    {
     "name": "stderr",
     "output_type": "stream",
     "text": [
      "100%|█████████████████████████████████████████████| 4/4 [00:00<00:00,  4.43it/s]\n"
     ]
    },
    {
     "name": "stdout",
     "output_type": "stream",
     "text": [
      "[rdflib.term.URIRef('http://localhost/web-thing-gateway/things/visualizations/enriched-call'), rdflib.term.URIRef('http://localhost/web-thing-gateway/things/visualizations/time-series-line-chart-with-time-range-selector'), rdflib.term.URIRef('http://localhost/web-thing-gateway/things/visualizations/colored-measurement')]\n",
      "[rdflib.term.URIRef('http://localhost/web-thing-gateway/things/visualizations/enriched-call')]\n",
      "[rdflib.term.URIRef('http://localhost/web-thing-gateway/things/visualizations/colored-measurement'), rdflib.term.URIRef('http://localhost/web-thing-gateway/things/visualizations/enriched-call'), rdflib.term.URIRef('http://localhost/web-thing-gateway/things/visualizations/time-series-line-chart-with-time-range-selector')]\n",
      "[rdflib.term.URIRef('http://localhost/web-thing-gateway/things/visualizations/time-series-line-chart-with-time-range-selector')]\n",
      "[rdflib.term.URIRef('http://localhost/web-thing-gateway/things/visualizations/enriched-call'), rdflib.term.URIRef('http://localhost/web-thing-gateway/things/visualizations/time-series-line-chart-with-time-range-selector'), rdflib.term.URIRef('http://localhost/web-thing-gateway/things/visualizations/colored-measurement')]\n",
      "[rdflib.term.URIRef('http://localhost/web-thing-gateway/things/visualizations/enriched-call')]\n",
      "[rdflib.term.URIRef('http://localhost/web-thing-gateway/things/visualizations/colored-measurement'), rdflib.term.URIRef('http://localhost/web-thing-gateway/things/visualizations/time-series-line-chart-with-time-range-selector'), rdflib.term.URIRef('http://localhost/web-thing-gateway/things/visualizations/enriched-call')]\n",
      "[rdflib.term.URIRef('http://localhost/web-thing-gateway/things/visualizations/colored-measurement')]\n"
     ]
    },
    {
     "name": "stderr",
     "output_type": "stream",
     "text": [
      " 25%|███████████▎                                 | 1/4 [00:00<00:00,  6.55it/s]"
     ]
    },
    {
     "name": "stdout",
     "output_type": "stream",
     "text": [
      "[rdflib.term.URIRef('http://localhost/web-thing-gateway/things/visualizations/enriched-call'), rdflib.term.URIRef('http://localhost/web-thing-gateway/things/visualizations/time-series-line-chart-with-time-range-selector'), rdflib.term.URIRef('http://localhost/web-thing-gateway/things/visualizations/colored-measurement')]\n",
      "[rdflib.term.URIRef('http://localhost/web-thing-gateway/things/visualizations/enriched-call')]\n",
      "[rdflib.term.URIRef('http://localhost/web-thing-gateway/things/visualizations/colored-measurement'), rdflib.term.URIRef('http://localhost/web-thing-gateway/things/visualizations/time-series-line-chart-with-time-range-selector'), rdflib.term.URIRef('http://localhost/web-thing-gateway/things/visualizations/enriched-call')]\n",
      "[rdflib.term.URIRef('http://localhost/web-thing-gateway/things/visualizations/colored-measurement')]\n",
      "[rdflib.term.URIRef('http://localhost/web-thing-gateway/things/visualizations/colored-measurement'), rdflib.term.URIRef('http://localhost/web-thing-gateway/things/visualizations/time-series-line-chart-with-time-range-selector'), rdflib.term.URIRef('http://localhost/web-thing-gateway/things/visualizations/enriched-call')]\n",
      "[rdflib.term.URIRef('http://localhost/web-thing-gateway/things/visualizations/colored-measurement')]\n",
      "[rdflib.term.URIRef('http://localhost/web-thing-gateway/things/visualizations/colored-measurement'), rdflib.term.URIRef('http://localhost/web-thing-gateway/things/visualizations/enriched-call'), rdflib.term.URIRef('http://localhost/web-thing-gateway/things/visualizations/time-series-line-chart-with-time-range-selector')]\n",
      "[rdflib.term.URIRef('http://localhost/web-thing-gateway/things/visualizations/colored-measurement')]\n"
     ]
    },
    {
     "name": "stderr",
     "output_type": "stream",
     "text": [
      " 75%|█████████████████████████████████▊           | 3/4 [00:00<00:00,  6.20it/s]"
     ]
    },
    {
     "name": "stdout",
     "output_type": "stream",
     "text": [
      "[rdflib.term.URIRef('http://localhost/web-thing-gateway/things/visualizations/colored-measurement'), rdflib.term.URIRef('http://localhost/web-thing-gateway/things/visualizations/enriched-call'), rdflib.term.URIRef('http://localhost/web-thing-gateway/things/visualizations/time-series-line-chart-with-time-range-selector')]\n",
      "[rdflib.term.URIRef('http://localhost/web-thing-gateway/things/visualizations/colored-measurement')]\n",
      "[rdflib.term.URIRef('http://localhost/web-thing-gateway/things/visualizations/colored-measurement'), rdflib.term.URIRef('http://localhost/web-thing-gateway/things/visualizations/enriched-call'), rdflib.term.URIRef('http://localhost/web-thing-gateway/things/visualizations/time-series-line-chart-with-time-range-selector')]\n",
      "[rdflib.term.URIRef('http://localhost/web-thing-gateway/things/visualizations/time-series-line-chart-with-time-range-selector')]\n",
      "[rdflib.term.URIRef('http://localhost/web-thing-gateway/things/visualizations/colored-measurement'), rdflib.term.URIRef('http://localhost/web-thing-gateway/things/visualizations/enriched-call'), rdflib.term.URIRef('http://localhost/web-thing-gateway/things/visualizations/time-series-line-chart-with-time-range-selector')]\n",
      "[rdflib.term.URIRef('http://localhost/web-thing-gateway/things/visualizations/time-series-line-chart-with-time-range-selector')]\n"
     ]
    },
    {
     "name": "stderr",
     "output_type": "stream",
     "text": [
      "100%|█████████████████████████████████████████████| 4/4 [00:00<00:00,  5.59it/s]\n"
     ]
    },
    {
     "name": "stdout",
     "output_type": "stream",
     "text": [
      "[rdflib.term.URIRef('http://localhost/web-thing-gateway/things/visualizations/enriched-call'), rdflib.term.URIRef('http://localhost/web-thing-gateway/things/visualizations/time-series-line-chart-with-time-range-selector'), rdflib.term.URIRef('http://localhost/web-thing-gateway/things/visualizations/colored-measurement')]\n",
      "[rdflib.term.URIRef('http://localhost/web-thing-gateway/things/visualizations/enriched-call')]\n",
      "[rdflib.term.URIRef('http://localhost/web-thing-gateway/things/visualizations/colored-measurement'), rdflib.term.URIRef('http://localhost/web-thing-gateway/things/visualizations/time-series-line-chart-with-time-range-selector'), rdflib.term.URIRef('http://localhost/web-thing-gateway/things/visualizations/enriched-call')]\n",
      "[rdflib.term.URIRef('http://localhost/web-thing-gateway/things/visualizations/colored-measurement')]\n",
      "[rdflib.term.URIRef('http://localhost/web-thing-gateway/things/visualizations/colored-measurement'), rdflib.term.URIRef('http://localhost/web-thing-gateway/things/visualizations/enriched-call'), rdflib.term.URIRef('http://localhost/web-thing-gateway/things/visualizations/time-series-line-chart-with-time-range-selector')]\n",
      "[rdflib.term.URIRef('http://localhost/web-thing-gateway/things/visualizations/colored-measurement')]\n"
     ]
    },
    {
     "name": "stderr",
     "output_type": "stream",
     "text": [
      "  0%|                                                     | 0/4 [00:00<?, ?it/s]"
     ]
    },
    {
     "name": "stdout",
     "output_type": "stream",
     "text": [
      "[rdflib.term.URIRef('http://localhost/web-thing-gateway/things/visualizations/colored-measurement'), rdflib.term.URIRef('http://localhost/web-thing-gateway/things/visualizations/enriched-call'), rdflib.term.URIRef('http://localhost/web-thing-gateway/things/visualizations/time-series-line-chart-with-time-range-selector')]\n",
      "[rdflib.term.URIRef('http://localhost/web-thing-gateway/things/visualizations/colored-measurement')]\n",
      "[rdflib.term.URIRef('http://localhost/web-thing-gateway/things/visualizations/colored-measurement'), rdflib.term.URIRef('http://localhost/web-thing-gateway/things/visualizations/time-series-line-chart-with-time-range-selector'), rdflib.term.URIRef('http://localhost/web-thing-gateway/things/visualizations/enriched-call')]\n",
      "[rdflib.term.URIRef('http://localhost/web-thing-gateway/things/visualizations/colored-measurement')]\n",
      "[rdflib.term.URIRef('http://localhost/web-thing-gateway/things/visualizations/colored-measurement'), rdflib.term.URIRef('http://localhost/web-thing-gateway/things/visualizations/time-series-line-chart-with-time-range-selector'), rdflib.term.URIRef('http://localhost/web-thing-gateway/things/visualizations/enriched-call')]\n",
      "[rdflib.term.URIRef('http://localhost/web-thing-gateway/things/visualizations/colored-measurement')]\n",
      "[rdflib.term.URIRef('http://localhost/web-thing-gateway/things/visualizations/enriched-call'), rdflib.term.URIRef('http://localhost/web-thing-gateway/things/visualizations/time-series-line-chart-with-time-range-selector'), rdflib.term.URIRef('http://localhost/web-thing-gateway/things/visualizations/colored-measurement')]\n",
      "[rdflib.term.URIRef('http://localhost/web-thing-gateway/things/visualizations/enriched-call')]\n"
     ]
    },
    {
     "name": "stderr",
     "output_type": "stream",
     "text": [
      " 25%|███████████▎                                 | 1/4 [00:00<00:01,  1.52it/s]"
     ]
    },
    {
     "name": "stdout",
     "output_type": "stream",
     "text": [
      "[rdflib.term.URIRef('http://localhost/web-thing-gateway/things/visualizations/colored-measurement'), rdflib.term.URIRef('http://localhost/web-thing-gateway/things/visualizations/time-series-line-chart-with-time-range-selector'), rdflib.term.URIRef('http://localhost/web-thing-gateway/things/visualizations/enriched-call')]\n",
      "[rdflib.term.URIRef('http://localhost/web-thing-gateway/things/visualizations/colored-measurement')]\n",
      "[rdflib.term.URIRef('http://localhost/web-thing-gateway/things/visualizations/colored-measurement'), rdflib.term.URIRef('http://localhost/web-thing-gateway/things/visualizations/time-series-line-chart-with-time-range-selector'), rdflib.term.URIRef('http://localhost/web-thing-gateway/things/visualizations/enriched-call')]\n",
      "[rdflib.term.URIRef('http://localhost/web-thing-gateway/things/visualizations/colored-measurement')]\n",
      "[rdflib.term.URIRef('http://localhost/web-thing-gateway/things/visualizations/colored-measurement'), rdflib.term.URIRef('http://localhost/web-thing-gateway/things/visualizations/time-series-line-chart-with-time-range-selector'), rdflib.term.URIRef('http://localhost/web-thing-gateway/things/visualizations/enriched-call')]\n",
      "[rdflib.term.URIRef('http://localhost/web-thing-gateway/things/visualizations/colored-measurement')]\n",
      "[rdflib.term.URIRef('http://localhost/web-thing-gateway/things/visualizations/colored-measurement'), rdflib.term.URIRef('http://localhost/web-thing-gateway/things/visualizations/enriched-call'), rdflib.term.URIRef('http://localhost/web-thing-gateway/things/visualizations/time-series-line-chart-with-time-range-selector')]\n",
      "[rdflib.term.URIRef('http://localhost/web-thing-gateway/things/visualizations/colored-measurement')]\n"
     ]
    },
    {
     "name": "stderr",
     "output_type": "stream",
     "text": [
      "100%|█████████████████████████████████████████████| 4/4 [00:00<00:00,  4.03it/s]\n"
     ]
    },
    {
     "name": "stdout",
     "output_type": "stream",
     "text": [
      "[rdflib.term.URIRef('http://localhost/web-thing-gateway/things/visualizations/colored-measurement'), rdflib.term.URIRef('http://localhost/web-thing-gateway/things/visualizations/enriched-call'), rdflib.term.URIRef('http://localhost/web-thing-gateway/things/visualizations/time-series-line-chart-with-time-range-selector')]\n",
      "[rdflib.term.URIRef('http://localhost/web-thing-gateway/things/visualizations/time-series-line-chart-with-time-range-selector')]\n",
      "[rdflib.term.URIRef('http://localhost/web-thing-gateway/things/visualizations/enriched-call'), rdflib.term.URIRef('http://localhost/web-thing-gateway/things/visualizations/time-series-line-chart-with-time-range-selector'), rdflib.term.URIRef('http://localhost/web-thing-gateway/things/visualizations/colored-measurement')]\n",
      "[rdflib.term.URIRef('http://localhost/web-thing-gateway/things/visualizations/enriched-call')]\n"
     ]
    },
    {
     "name": "stderr",
     "output_type": "stream",
     "text": [
      " 25%|███████████▎                                 | 1/4 [00:00<00:00,  5.67it/s]"
     ]
    },
    {
     "name": "stdout",
     "output_type": "stream",
     "text": [
      "[rdflib.term.URIRef('http://localhost/web-thing-gateway/things/visualizations/colored-measurement'), rdflib.term.URIRef('http://localhost/web-thing-gateway/things/visualizations/enriched-call'), rdflib.term.URIRef('http://localhost/web-thing-gateway/things/visualizations/time-series-line-chart-with-time-range-selector')]\n",
      "[rdflib.term.URIRef('http://localhost/web-thing-gateway/things/visualizations/colored-measurement')]\n",
      "[rdflib.term.URIRef('http://localhost/web-thing-gateway/things/visualizations/enriched-call'), rdflib.term.URIRef('http://localhost/web-thing-gateway/things/visualizations/time-series-line-chart-with-time-range-selector'), rdflib.term.URIRef('http://localhost/web-thing-gateway/things/visualizations/colored-measurement')]\n",
      "[rdflib.term.URIRef('http://localhost/web-thing-gateway/things/visualizations/enriched-call')]\n",
      "[rdflib.term.URIRef('http://localhost/web-thing-gateway/things/visualizations/colored-measurement'), rdflib.term.URIRef('http://localhost/web-thing-gateway/things/visualizations/time-series-line-chart-with-time-range-selector'), rdflib.term.URIRef('http://localhost/web-thing-gateway/things/visualizations/enriched-call')]\n",
      "[rdflib.term.URIRef('http://localhost/web-thing-gateway/things/visualizations/colored-measurement')]\n"
     ]
    },
    {
     "name": "stderr",
     "output_type": "stream",
     "text": [
      " 50%|██████████████████████▌                      | 2/4 [00:00<00:00,  4.15it/s]"
     ]
    },
    {
     "name": "stdout",
     "output_type": "stream",
     "text": [
      "[rdflib.term.URIRef('http://localhost/web-thing-gateway/things/visualizations/enriched-call'), rdflib.term.URIRef('http://localhost/web-thing-gateway/things/visualizations/time-series-line-chart-with-time-range-selector'), rdflib.term.URIRef('http://localhost/web-thing-gateway/things/visualizations/colored-measurement')]\n",
      "[rdflib.term.URIRef('http://localhost/web-thing-gateway/things/visualizations/enriched-call')]\n",
      "[rdflib.term.URIRef('http://localhost/web-thing-gateway/things/visualizations/colored-measurement'), rdflib.term.URIRef('http://localhost/web-thing-gateway/things/visualizations/time-series-line-chart-with-time-range-selector'), rdflib.term.URIRef('http://localhost/web-thing-gateway/things/visualizations/enriched-call')]\n",
      "[rdflib.term.URIRef('http://localhost/web-thing-gateway/things/visualizations/colored-measurement')]\n",
      "[rdflib.term.URIRef('http://localhost/web-thing-gateway/things/visualizations/enriched-call'), rdflib.term.URIRef('http://localhost/web-thing-gateway/things/visualizations/time-series-line-chart-with-time-range-selector'), rdflib.term.URIRef('http://localhost/web-thing-gateway/things/visualizations/colored-measurement')]\n",
      "[rdflib.term.URIRef('http://localhost/web-thing-gateway/things/visualizations/enriched-call')]\n",
      "[rdflib.term.URIRef('http://localhost/web-thing-gateway/things/visualizations/enriched-call'), rdflib.term.URIRef('http://localhost/web-thing-gateway/things/visualizations/time-series-line-chart-with-time-range-selector'), rdflib.term.URIRef('http://localhost/web-thing-gateway/things/visualizations/colored-measurement')]\n",
      "[rdflib.term.URIRef('http://localhost/web-thing-gateway/things/visualizations/enriched-call')]\n"
     ]
    },
    {
     "name": "stderr",
     "output_type": "stream",
     "text": [
      "100%|█████████████████████████████████████████████| 4/4 [00:00<00:00,  5.35it/s]\n"
     ]
    },
    {
     "name": "stdout",
     "output_type": "stream",
     "text": [
      "[rdflib.term.URIRef('http://localhost/web-thing-gateway/things/visualizations/enriched-call'), rdflib.term.URIRef('http://localhost/web-thing-gateway/things/visualizations/time-series-line-chart-with-time-range-selector'), rdflib.term.URIRef('http://localhost/web-thing-gateway/things/visualizations/colored-measurement')]\n",
      "[rdflib.term.URIRef('http://localhost/web-thing-gateway/things/visualizations/enriched-call')]\n",
      "[rdflib.term.URIRef('http://localhost/web-thing-gateway/things/visualizations/colored-measurement'), rdflib.term.URIRef('http://localhost/web-thing-gateway/things/visualizations/time-series-line-chart-with-time-range-selector'), rdflib.term.URIRef('http://localhost/web-thing-gateway/things/visualizations/enriched-call')]\n",
      "[rdflib.term.URIRef('http://localhost/web-thing-gateway/things/visualizations/colored-measurement')]\n",
      "[rdflib.term.URIRef('http://localhost/web-thing-gateway/things/visualizations/enriched-call'), rdflib.term.URIRef('http://localhost/web-thing-gateway/things/visualizations/time-series-line-chart-with-time-range-selector'), rdflib.term.URIRef('http://localhost/web-thing-gateway/things/visualizations/colored-measurement')]\n",
      "[rdflib.term.URIRef('http://localhost/web-thing-gateway/things/visualizations/enriched-call')]\n"
     ]
    },
    {
     "name": "stderr",
     "output_type": "stream",
     "text": [
      "  0%|                                                     | 0/4 [00:00<?, ?it/s]"
     ]
    },
    {
     "name": "stdout",
     "output_type": "stream",
     "text": [
      "[rdflib.term.URIRef('http://localhost/web-thing-gateway/things/visualizations/enriched-call'), rdflib.term.URIRef('http://localhost/web-thing-gateway/things/visualizations/time-series-line-chart-with-time-range-selector'), rdflib.term.URIRef('http://localhost/web-thing-gateway/things/visualizations/colored-measurement')]\n",
      "[rdflib.term.URIRef('http://localhost/web-thing-gateway/things/visualizations/enriched-call')]\n",
      "[rdflib.term.URIRef('http://localhost/web-thing-gateway/things/visualizations/enriched-call'), rdflib.term.URIRef('http://localhost/web-thing-gateway/things/visualizations/time-series-line-chart-with-time-range-selector'), rdflib.term.URIRef('http://localhost/web-thing-gateway/things/visualizations/colored-measurement')]\n",
      "[rdflib.term.URIRef('http://localhost/web-thing-gateway/things/visualizations/enriched-call')]\n",
      "[rdflib.term.URIRef('http://localhost/web-thing-gateway/things/visualizations/enriched-call'), rdflib.term.URIRef('http://localhost/web-thing-gateway/things/visualizations/time-series-line-chart-with-time-range-selector'), rdflib.term.URIRef('http://localhost/web-thing-gateway/things/visualizations/colored-measurement')]\n",
      "[rdflib.term.URIRef('http://localhost/web-thing-gateway/things/visualizations/enriched-call')]\n"
     ]
    },
    {
     "name": "stderr",
     "output_type": "stream",
     "text": [
      " 50%|██████████████████████▌                      | 2/4 [00:00<00:00,  4.30it/s]"
     ]
    },
    {
     "name": "stdout",
     "output_type": "stream",
     "text": [
      "[rdflib.term.URIRef('http://localhost/web-thing-gateway/things/visualizations/enriched-call'), rdflib.term.URIRef('http://localhost/web-thing-gateway/things/visualizations/time-series-line-chart-with-time-range-selector'), rdflib.term.URIRef('http://localhost/web-thing-gateway/things/visualizations/colored-measurement')]\n",
      "[rdflib.term.URIRef('http://localhost/web-thing-gateway/things/visualizations/enriched-call')]\n",
      "[rdflib.term.URIRef('http://localhost/web-thing-gateway/things/visualizations/enriched-call'), rdflib.term.URIRef('http://localhost/web-thing-gateway/things/visualizations/time-series-line-chart-with-time-range-selector'), rdflib.term.URIRef('http://localhost/web-thing-gateway/things/visualizations/colored-measurement')]\n",
      "[rdflib.term.URIRef('http://localhost/web-thing-gateway/things/visualizations/enriched-call')]\n",
      "[rdflib.term.URIRef('http://localhost/web-thing-gateway/things/visualizations/enriched-call'), rdflib.term.URIRef('http://localhost/web-thing-gateway/things/visualizations/time-series-line-chart-with-time-range-selector'), rdflib.term.URIRef('http://localhost/web-thing-gateway/things/visualizations/colored-measurement')]\n",
      "[rdflib.term.URIRef('http://localhost/web-thing-gateway/things/visualizations/enriched-call')]\n"
     ]
    },
    {
     "name": "stderr",
     "output_type": "stream",
     "text": [
      "100%|█████████████████████████████████████████████| 4/4 [00:00<00:00,  4.90it/s]"
     ]
    },
    {
     "name": "stdout",
     "output_type": "stream",
     "text": [
      "[rdflib.term.URIRef('http://localhost/web-thing-gateway/things/visualizations/colored-measurement'), rdflib.term.URIRef('http://localhost/web-thing-gateway/things/visualizations/enriched-call'), rdflib.term.URIRef('http://localhost/web-thing-gateway/things/visualizations/time-series-line-chart-with-time-range-selector')]\n",
      "[rdflib.term.URIRef('http://localhost/web-thing-gateway/things/visualizations/time-series-line-chart-with-time-range-selector')]\n",
      "[rdflib.term.URIRef('http://localhost/web-thing-gateway/things/visualizations/colored-measurement'), rdflib.term.URIRef('http://localhost/web-thing-gateway/things/visualizations/enriched-call'), rdflib.term.URIRef('http://localhost/web-thing-gateway/things/visualizations/time-series-line-chart-with-time-range-selector')]\n",
      "[rdflib.term.URIRef('http://localhost/web-thing-gateway/things/visualizations/time-series-line-chart-with-time-range-selector')]\n",
      "[rdflib.term.URIRef('http://localhost/web-thing-gateway/things/visualizations/colored-measurement'), rdflib.term.URIRef('http://localhost/web-thing-gateway/things/visualizations/time-series-line-chart-with-time-range-selector'), rdflib.term.URIRef('http://localhost/web-thing-gateway/things/visualizations/enriched-call')]\n",
      "[rdflib.term.URIRef('http://localhost/web-thing-gateway/things/visualizations/colored-measurement')]\n",
      "{'f1@1': 0.8, 'ndcg@1': 0.8, 'ndcg@3': 0.9}\n",
      "{'f1@1': 0.8, 'ndcg@1': 0.8, 'ndcg@3': 0.9}\n",
      "{'f1@1': 0.9, 'ndcg@1': 0.9, 'ndcg@3': 0.95}\n",
      "{'f1@1': 1.0, 'ndcg@1': 1.0, 'ndcg@3': 1.0}\n",
      "{'f1@1': 0.7777777777777778, 'ndcg@1': 0.7777777777777778, 'ndcg@3': 0.8888888888888888}\n",
      "{'f1@1': 0.8555555555555555, 'ndcg@1': 0.8555555555555555, 'ndcg@3': 0.9277777777777778}\n"
     ]
    },
    {
     "name": "stderr",
     "output_type": "stream",
     "text": [
      "\n"
     ]
    }
   ],
   "source": [
    "recommender = CF(graph)\n",
    "\n",
    "evaluator = KFoldCrossValidation(recommender, metrics=parsed_metrics, k=5)\n",
    "result = evaluator.evaluate(ratings_df)\n",
    "\n",
    "for fold in result['folds']:\n",
    "    print(fold)\n",
    "print(result['result'])"
   ]
  },
  {
   "cell_type": "code",
   "execution_count": 23,
   "id": "1791fde9-f422-445f-9b15-c0970bc24888",
   "metadata": {},
   "outputs": [],
   "source": [
    "class NetworkXPersonalizedPageRank(Recommender):\n",
    "\n",
    "    def __init__(self, graph: Graph, verbose=False, alpha=0.8, tol=10e-6):\n",
    "        super().__init__(graph, verbose)\n",
    "\n",
    "        self.alpha = alpha\n",
    "        self.tolerance = tol\n",
    "        self.personalization = None\n",
    "\n",
    "    def _build_model(self):\n",
    "        graph_ = Graph()\n",
    "        graph_ += self.graph.triples((None, None, None))\n",
    "\n",
    "        self.items = items = set(graph.objects(None, DASHB.visualizedBy))\n",
    "        self.model = rdflib_to_networkx_multidigraph(graph_).to_undirected()\n",
    "\n",
    "    def set_personalization(self, weight_uid=0, weight_cid=0):\n",
    "        weight_others = 1 - weight_uid - weight_cid\n",
    "\n",
    "        if weight_uid == 0:\n",
    "            weight_uid = weight_others\n",
    "        if weight_cid == 0:\n",
    "            weight_cid = weight_others\n",
    "\n",
    "        self.personalization = (weight_uid, weight_cid, weight_others)\n",
    "\n",
    "    def _personalization(self, uid, cid):\n",
    "        personalization = {}\n",
    "\n",
    "        for node in self.model.nodes:\n",
    "            uri = str(node)\n",
    "            if uri in uid:\n",
    "                personalization[node] = self.personalization[0]\n",
    "            elif uri in cid:\n",
    "                personalization[node] = self.personalization[1]\n",
    "            else:\n",
    "                personalization[node] = self.personalization[2]\n",
    "\n",
    "        return personalization\n",
    "\n",
    "    def run(self, uid: [] = None, cid: [] = None):\n",
    "        if uid is not None and cid is not None:  # TODO: Check if UID and CID exist in graph -> ZeroDivisionError\n",
    "            weights = self._personalization(uid, cid)\n",
    "            return nx.pagerank(self.model, alpha=self.alpha, personalization=weights,\n",
    "                               tol=self.tolerance)\n",
    "\n",
    "        return nx.pagerank(self.model, alpha=self.alpha, tol=self.tolerance)\n",
    "\n",
    "    def predict(self, uid: [] = None, cid: [] = None, **kwargs):\n",
    "        pr = self.run(uid, cid)\n",
    "\n",
    "        recommendations = \\\n",
    "            [{'contextId': cid, 'itemId': item, 'score': p} for item, p in pr.items()\n",
    "             if item in self.items]\n",
    "        return sorted(recommendations, key=lambda n: n['score'], reverse=True)\n",
    "\n",
    "    def top_n(self, uid: [], cid: [], n: int, **kwargs):\n",
    "        pass\n"
   ]
  },
  {
   "cell_type": "code",
   "execution_count": 24,
   "id": "80192e47-688c-47ec-9d9a-755093e2962b",
   "metadata": {},
   "outputs": [
    {
     "name": "stderr",
     "output_type": "stream",
     "text": [
      "100%|█████████████████████████████████████████████| 4/4 [00:00<00:00, 95.45it/s]\n"
     ]
    },
    {
     "name": "stdout",
     "output_type": "stream",
     "text": [
      "[rdflib.term.URIRef('http://localhost/web-thing-gateway/things/visualizations/colored-measurement'), rdflib.term.URIRef('http://localhost/web-thing-gateway/things/visualizations/enriched-call'), rdflib.term.URIRef('http://localhost/web-thing-gateway/things/visualizations/time-series-line-chart-with-time-range-selector')]\n",
      "[rdflib.term.URIRef('http://localhost/web-thing-gateway/things/visualizations/colored-measurement')]\n",
      "[rdflib.term.URIRef('http://localhost/web-thing-gateway/things/visualizations/colored-measurement'), rdflib.term.URIRef('http://localhost/web-thing-gateway/things/visualizations/enriched-call'), rdflib.term.URIRef('http://localhost/web-thing-gateway/things/visualizations/time-series-line-chart-with-time-range-selector')]\n",
      "[rdflib.term.URIRef('http://localhost/web-thing-gateway/things/visualizations/enriched-call')]\n",
      "[rdflib.term.URIRef('http://localhost/web-thing-gateway/things/visualizations/colored-measurement'), rdflib.term.URIRef('http://localhost/web-thing-gateway/things/visualizations/enriched-call'), rdflib.term.URIRef('http://localhost/web-thing-gateway/things/visualizations/time-series-line-chart-with-time-range-selector')]\n",
      "[rdflib.term.URIRef('http://localhost/web-thing-gateway/things/visualizations/colored-measurement')]\n",
      "[rdflib.term.URIRef('http://localhost/web-thing-gateway/things/visualizations/time-series-line-chart-with-time-range-selector'), rdflib.term.URIRef('http://localhost/web-thing-gateway/things/visualizations/enriched-call'), rdflib.term.URIRef('http://localhost/web-thing-gateway/things/visualizations/colored-measurement')]\n",
      "[rdflib.term.URIRef('http://localhost/web-thing-gateway/things/visualizations/time-series-line-chart-with-time-range-selector')]\n",
      "[rdflib.term.URIRef('http://localhost/web-thing-gateway/things/visualizations/time-series-line-chart-with-time-range-selector'), rdflib.term.URIRef('http://localhost/web-thing-gateway/things/visualizations/enriched-call'), rdflib.term.URIRef('http://localhost/web-thing-gateway/things/visualizations/colored-measurement')]\n",
      "[rdflib.term.URIRef('http://localhost/web-thing-gateway/things/visualizations/enriched-call')]\n",
      "[rdflib.term.URIRef('http://localhost/web-thing-gateway/things/visualizations/time-series-line-chart-with-time-range-selector'), rdflib.term.URIRef('http://localhost/web-thing-gateway/things/visualizations/enriched-call'), rdflib.term.URIRef('http://localhost/web-thing-gateway/things/visualizations/colored-measurement')]\n",
      "[rdflib.term.URIRef('http://localhost/web-thing-gateway/things/visualizations/colored-measurement')]\n",
      "[rdflib.term.URIRef('http://localhost/web-thing-gateway/things/visualizations/time-series-line-chart-with-time-range-selector'), rdflib.term.URIRef('http://localhost/web-thing-gateway/things/visualizations/enriched-call'), rdflib.term.URIRef('http://localhost/web-thing-gateway/things/visualizations/colored-measurement')]\n",
      "[rdflib.term.URIRef('http://localhost/web-thing-gateway/things/visualizations/time-series-line-chart-with-time-range-selector')]\n",
      "[rdflib.term.URIRef('http://localhost/web-thing-gateway/things/visualizations/colored-measurement'), rdflib.term.URIRef('http://localhost/web-thing-gateway/things/visualizations/enriched-call'), rdflib.term.URIRef('http://localhost/web-thing-gateway/things/visualizations/time-series-line-chart-with-time-range-selector')]\n",
      "[rdflib.term.URIRef('http://localhost/web-thing-gateway/things/visualizations/enriched-call')]\n",
      "[rdflib.term.URIRef('http://localhost/web-thing-gateway/things/visualizations/colored-measurement'), rdflib.term.URIRef('http://localhost/web-thing-gateway/things/visualizations/enriched-call'), rdflib.term.URIRef('http://localhost/web-thing-gateway/things/visualizations/time-series-line-chart-with-time-range-selector')]\n",
      "[rdflib.term.URIRef('http://localhost/web-thing-gateway/things/visualizations/colored-measurement')]\n",
      "[rdflib.term.URIRef('http://localhost/web-thing-gateway/things/visualizations/colored-measurement'), rdflib.term.URIRef('http://localhost/web-thing-gateway/things/visualizations/enriched-call'), rdflib.term.URIRef('http://localhost/web-thing-gateway/things/visualizations/time-series-line-chart-with-time-range-selector')]\n",
      "[rdflib.term.URIRef('http://localhost/web-thing-gateway/things/visualizations/enriched-call')]\n"
     ]
    },
    {
     "name": "stderr",
     "output_type": "stream",
     "text": [
      "100%|█████████████████████████████████████████████| 4/4 [00:00<00:00, 99.54it/s]\n"
     ]
    },
    {
     "name": "stdout",
     "output_type": "stream",
     "text": [
      "[rdflib.term.URIRef('http://localhost/web-thing-gateway/things/visualizations/colored-measurement'), rdflib.term.URIRef('http://localhost/web-thing-gateway/things/visualizations/enriched-call'), rdflib.term.URIRef('http://localhost/web-thing-gateway/things/visualizations/time-series-line-chart-with-time-range-selector')]\n",
      "[rdflib.term.URIRef('http://localhost/web-thing-gateway/things/visualizations/colored-measurement')]\n",
      "[rdflib.term.URIRef('http://localhost/web-thing-gateway/things/visualizations/colored-measurement'), rdflib.term.URIRef('http://localhost/web-thing-gateway/things/visualizations/enriched-call'), rdflib.term.URIRef('http://localhost/web-thing-gateway/things/visualizations/time-series-line-chart-with-time-range-selector')]\n",
      "[rdflib.term.URIRef('http://localhost/web-thing-gateway/things/visualizations/colored-measurement')]\n",
      "[rdflib.term.URIRef('http://localhost/web-thing-gateway/things/visualizations/colored-measurement'), rdflib.term.URIRef('http://localhost/web-thing-gateway/things/visualizations/enriched-call'), rdflib.term.URIRef('http://localhost/web-thing-gateway/things/visualizations/time-series-line-chart-with-time-range-selector')]\n",
      "[rdflib.term.URIRef('http://localhost/web-thing-gateway/things/visualizations/enriched-call')]\n",
      "[rdflib.term.URIRef('http://localhost/web-thing-gateway/things/visualizations/colored-measurement'), rdflib.term.URIRef('http://localhost/web-thing-gateway/things/visualizations/enriched-call'), rdflib.term.URIRef('http://localhost/web-thing-gateway/things/visualizations/time-series-line-chart-with-time-range-selector')]\n",
      "[rdflib.term.URIRef('http://localhost/web-thing-gateway/things/visualizations/colored-measurement')]\n",
      "[rdflib.term.URIRef('http://localhost/web-thing-gateway/things/visualizations/colored-measurement'), rdflib.term.URIRef('http://localhost/web-thing-gateway/things/visualizations/enriched-call'), rdflib.term.URIRef('http://localhost/web-thing-gateway/things/visualizations/time-series-line-chart-with-time-range-selector')]\n",
      "[rdflib.term.URIRef('http://localhost/web-thing-gateway/things/visualizations/colored-measurement')]\n",
      "[rdflib.term.URIRef('http://localhost/web-thing-gateway/things/visualizations/colored-measurement'), rdflib.term.URIRef('http://localhost/web-thing-gateway/things/visualizations/enriched-call'), rdflib.term.URIRef('http://localhost/web-thing-gateway/things/visualizations/time-series-line-chart-with-time-range-selector')]\n",
      "[rdflib.term.URIRef('http://localhost/web-thing-gateway/things/visualizations/enriched-call')]\n",
      "[rdflib.term.URIRef('http://localhost/web-thing-gateway/things/visualizations/colored-measurement'), rdflib.term.URIRef('http://localhost/web-thing-gateway/things/visualizations/enriched-call'), rdflib.term.URIRef('http://localhost/web-thing-gateway/things/visualizations/time-series-line-chart-with-time-range-selector')]\n",
      "[rdflib.term.URIRef('http://localhost/web-thing-gateway/things/visualizations/enriched-call')]\n",
      "[rdflib.term.URIRef('http://localhost/web-thing-gateway/things/visualizations/colored-measurement'), rdflib.term.URIRef('http://localhost/web-thing-gateway/things/visualizations/enriched-call'), rdflib.term.URIRef('http://localhost/web-thing-gateway/things/visualizations/time-series-line-chart-with-time-range-selector')]\n",
      "[rdflib.term.URIRef('http://localhost/web-thing-gateway/things/visualizations/colored-measurement')]\n",
      "[rdflib.term.URIRef('http://localhost/web-thing-gateway/things/visualizations/time-series-line-chart-with-time-range-selector'), rdflib.term.URIRef('http://localhost/web-thing-gateway/things/visualizations/enriched-call'), rdflib.term.URIRef('http://localhost/web-thing-gateway/things/visualizations/colored-measurement')]\n",
      "[rdflib.term.URIRef('http://localhost/web-thing-gateway/things/visualizations/enriched-call')]\n",
      "[rdflib.term.URIRef('http://localhost/web-thing-gateway/things/visualizations/colored-measurement'), rdflib.term.URIRef('http://localhost/web-thing-gateway/things/visualizations/enriched-call'), rdflib.term.URIRef('http://localhost/web-thing-gateway/things/visualizations/time-series-line-chart-with-time-range-selector')]\n",
      "[rdflib.term.URIRef('http://localhost/web-thing-gateway/things/visualizations/colored-measurement')]\n"
     ]
    },
    {
     "name": "stderr",
     "output_type": "stream",
     "text": [
      "  0%|                                                     | 0/4 [00:00<?, ?it/s]"
     ]
    },
    {
     "name": "stdout",
     "output_type": "stream",
     "text": [
      "[rdflib.term.URIRef('http://localhost/web-thing-gateway/things/visualizations/colored-measurement'), rdflib.term.URIRef('http://localhost/web-thing-gateway/things/visualizations/enriched-call'), rdflib.term.URIRef('http://localhost/web-thing-gateway/things/visualizations/time-series-line-chart-with-time-range-selector')]\n",
      "[rdflib.term.URIRef('http://localhost/web-thing-gateway/things/visualizations/colored-measurement')]\n",
      "[rdflib.term.URIRef('http://localhost/web-thing-gateway/things/visualizations/colored-measurement'), rdflib.term.URIRef('http://localhost/web-thing-gateway/things/visualizations/enriched-call'), rdflib.term.URIRef('http://localhost/web-thing-gateway/things/visualizations/time-series-line-chart-with-time-range-selector')]\n",
      "[rdflib.term.URIRef('http://localhost/web-thing-gateway/things/visualizations/colored-measurement')]\n",
      "[rdflib.term.URIRef('http://localhost/web-thing-gateway/things/visualizations/colored-measurement'), rdflib.term.URIRef('http://localhost/web-thing-gateway/things/visualizations/enriched-call'), rdflib.term.URIRef('http://localhost/web-thing-gateway/things/visualizations/time-series-line-chart-with-time-range-selector')]\n",
      "[rdflib.term.URIRef('http://localhost/web-thing-gateway/things/visualizations/colored-measurement')]\n",
      "[rdflib.term.URIRef('http://localhost/web-thing-gateway/things/visualizations/colored-measurement'), rdflib.term.URIRef('http://localhost/web-thing-gateway/things/visualizations/enriched-call'), rdflib.term.URIRef('http://localhost/web-thing-gateway/things/visualizations/time-series-line-chart-with-time-range-selector')]\n",
      "[rdflib.term.URIRef('http://localhost/web-thing-gateway/things/visualizations/enriched-call')]\n",
      "[rdflib.term.URIRef('http://localhost/web-thing-gateway/things/visualizations/colored-measurement'), rdflib.term.URIRef('http://localhost/web-thing-gateway/things/visualizations/enriched-call'), rdflib.term.URIRef('http://localhost/web-thing-gateway/things/visualizations/time-series-line-chart-with-time-range-selector')]\n",
      "[rdflib.term.URIRef('http://localhost/web-thing-gateway/things/visualizations/enriched-call')]\n",
      "[rdflib.term.URIRef('http://localhost/web-thing-gateway/things/visualizations/colored-measurement'), rdflib.term.URIRef('http://localhost/web-thing-gateway/things/visualizations/enriched-call'), rdflib.term.URIRef('http://localhost/web-thing-gateway/things/visualizations/time-series-line-chart-with-time-range-selector')]\n",
      "[rdflib.term.URIRef('http://localhost/web-thing-gateway/things/visualizations/colored-measurement')]\n",
      "[rdflib.term.URIRef('http://localhost/web-thing-gateway/things/visualizations/colored-measurement'), rdflib.term.URIRef('http://localhost/web-thing-gateway/things/visualizations/enriched-call'), rdflib.term.URIRef('http://localhost/web-thing-gateway/things/visualizations/time-series-line-chart-with-time-range-selector')]\n",
      "[rdflib.term.URIRef('http://localhost/web-thing-gateway/things/visualizations/colored-measurement')]\n",
      "[rdflib.term.URIRef('http://localhost/web-thing-gateway/things/visualizations/enriched-call'), rdflib.term.URIRef('http://localhost/web-thing-gateway/things/visualizations/time-series-line-chart-with-time-range-selector'), rdflib.term.URIRef('http://localhost/web-thing-gateway/things/visualizations/colored-measurement')]\n",
      "[rdflib.term.URIRef('http://localhost/web-thing-gateway/things/visualizations/enriched-call')]\n",
      "[rdflib.term.URIRef('http://localhost/web-thing-gateway/things/visualizations/enriched-call'), rdflib.term.URIRef('http://localhost/web-thing-gateway/things/visualizations/time-series-line-chart-with-time-range-selector'), rdflib.term.URIRef('http://localhost/web-thing-gateway/things/visualizations/colored-measurement')]\n",
      "[rdflib.term.URIRef('http://localhost/web-thing-gateway/things/visualizations/enriched-call')]\n",
      "[rdflib.term.URIRef('http://localhost/web-thing-gateway/things/visualizations/colored-measurement'), rdflib.term.URIRef('http://localhost/web-thing-gateway/things/visualizations/enriched-call'), rdflib.term.URIRef('http://localhost/web-thing-gateway/things/visualizations/time-series-line-chart-with-time-range-selector')]\n",
      "[rdflib.term.URIRef('http://localhost/web-thing-gateway/things/visualizations/colored-measurement')]\n"
     ]
    },
    {
     "name": "stderr",
     "output_type": "stream",
     "text": [
      "100%|████████████████████████████████████████████| 4/4 [00:00<00:00, 100.70it/s]\n",
      "100%|█████████████████████████████████████████████| 4/4 [00:00<00:00, 81.69it/s]\n"
     ]
    },
    {
     "name": "stdout",
     "output_type": "stream",
     "text": [
      "[rdflib.term.URIRef('http://localhost/web-thing-gateway/things/visualizations/colored-measurement'), rdflib.term.URIRef('http://localhost/web-thing-gateway/things/visualizations/enriched-call'), rdflib.term.URIRef('http://localhost/web-thing-gateway/things/visualizations/time-series-line-chart-with-time-range-selector')]\n",
      "[rdflib.term.URIRef('http://localhost/web-thing-gateway/things/visualizations/enriched-call')]\n",
      "[rdflib.term.URIRef('http://localhost/web-thing-gateway/things/visualizations/colored-measurement'), rdflib.term.URIRef('http://localhost/web-thing-gateway/things/visualizations/enriched-call'), rdflib.term.URIRef('http://localhost/web-thing-gateway/things/visualizations/time-series-line-chart-with-time-range-selector')]\n",
      "[rdflib.term.URIRef('http://localhost/web-thing-gateway/things/visualizations/colored-measurement')]\n",
      "[rdflib.term.URIRef('http://localhost/web-thing-gateway/things/visualizations/colored-measurement'), rdflib.term.URIRef('http://localhost/web-thing-gateway/things/visualizations/enriched-call'), rdflib.term.URIRef('http://localhost/web-thing-gateway/things/visualizations/time-series-line-chart-with-time-range-selector')]\n",
      "[rdflib.term.URIRef('http://localhost/web-thing-gateway/things/visualizations/enriched-call')]\n",
      "[rdflib.term.URIRef('http://localhost/web-thing-gateway/things/visualizations/colored-measurement'), rdflib.term.URIRef('http://localhost/web-thing-gateway/things/visualizations/enriched-call'), rdflib.term.URIRef('http://localhost/web-thing-gateway/things/visualizations/time-series-line-chart-with-time-range-selector')]\n",
      "[rdflib.term.URIRef('http://localhost/web-thing-gateway/things/visualizations/colored-measurement')]\n",
      "[rdflib.term.URIRef('http://localhost/web-thing-gateway/things/visualizations/colored-measurement'), rdflib.term.URIRef('http://localhost/web-thing-gateway/things/visualizations/enriched-call'), rdflib.term.URIRef('http://localhost/web-thing-gateway/things/visualizations/time-series-line-chart-with-time-range-selector')]\n",
      "[rdflib.term.URIRef('http://localhost/web-thing-gateway/things/visualizations/colored-measurement')]\n",
      "[rdflib.term.URIRef('http://localhost/web-thing-gateway/things/visualizations/colored-measurement'), rdflib.term.URIRef('http://localhost/web-thing-gateway/things/visualizations/enriched-call'), rdflib.term.URIRef('http://localhost/web-thing-gateway/things/visualizations/time-series-line-chart-with-time-range-selector')]\n",
      "[rdflib.term.URIRef('http://localhost/web-thing-gateway/things/visualizations/enriched-call')]\n",
      "[rdflib.term.URIRef('http://localhost/web-thing-gateway/things/visualizations/time-series-line-chart-with-time-range-selector'), rdflib.term.URIRef('http://localhost/web-thing-gateway/things/visualizations/enriched-call'), rdflib.term.URIRef('http://localhost/web-thing-gateway/things/visualizations/colored-measurement')]\n",
      "[rdflib.term.URIRef('http://localhost/web-thing-gateway/things/visualizations/enriched-call')]\n",
      "[rdflib.term.URIRef('http://localhost/web-thing-gateway/things/visualizations/time-series-line-chart-with-time-range-selector'), rdflib.term.URIRef('http://localhost/web-thing-gateway/things/visualizations/enriched-call'), rdflib.term.URIRef('http://localhost/web-thing-gateway/things/visualizations/colored-measurement')]\n",
      "[rdflib.term.URIRef('http://localhost/web-thing-gateway/things/visualizations/time-series-line-chart-with-time-range-selector')]\n",
      "[rdflib.term.URIRef('http://localhost/web-thing-gateway/things/visualizations/time-series-line-chart-with-time-range-selector'), rdflib.term.URIRef('http://localhost/web-thing-gateway/things/visualizations/enriched-call'), rdflib.term.URIRef('http://localhost/web-thing-gateway/things/visualizations/colored-measurement')]\n",
      "[rdflib.term.URIRef('http://localhost/web-thing-gateway/things/visualizations/time-series-line-chart-with-time-range-selector')]\n",
      "[rdflib.term.URIRef('http://localhost/web-thing-gateway/things/visualizations/colored-measurement'), rdflib.term.URIRef('http://localhost/web-thing-gateway/things/visualizations/enriched-call'), rdflib.term.URIRef('http://localhost/web-thing-gateway/things/visualizations/time-series-line-chart-with-time-range-selector')]\n",
      "[rdflib.term.URIRef('http://localhost/web-thing-gateway/things/visualizations/colored-measurement')]\n"
     ]
    },
    {
     "name": "stderr",
     "output_type": "stream",
     "text": [
      "100%|█████████████████████████████████████████████| 3/3 [00:00<00:00, 80.27it/s]"
     ]
    },
    {
     "name": "stdout",
     "output_type": "stream",
     "text": [
      "[rdflib.term.URIRef('http://localhost/web-thing-gateway/things/visualizations/colored-measurement'), rdflib.term.URIRef('http://localhost/web-thing-gateway/things/visualizations/enriched-call'), rdflib.term.URIRef('http://localhost/web-thing-gateway/things/visualizations/time-series-line-chart-with-time-range-selector')]\n",
      "[rdflib.term.URIRef('http://localhost/web-thing-gateway/things/visualizations/colored-measurement')]\n",
      "[rdflib.term.URIRef('http://localhost/web-thing-gateway/things/visualizations/colored-measurement'), rdflib.term.URIRef('http://localhost/web-thing-gateway/things/visualizations/enriched-call'), rdflib.term.URIRef('http://localhost/web-thing-gateway/things/visualizations/time-series-line-chart-with-time-range-selector')]\n",
      "[rdflib.term.URIRef('http://localhost/web-thing-gateway/things/visualizations/colored-measurement')]\n",
      "[rdflib.term.URIRef('http://localhost/web-thing-gateway/things/visualizations/colored-measurement'), rdflib.term.URIRef('http://localhost/web-thing-gateway/things/visualizations/enriched-call'), rdflib.term.URIRef('http://localhost/web-thing-gateway/things/visualizations/time-series-line-chart-with-time-range-selector')]\n",
      "[rdflib.term.URIRef('http://localhost/web-thing-gateway/things/visualizations/enriched-call')]\n",
      "[rdflib.term.URIRef('http://localhost/web-thing-gateway/things/visualizations/colored-measurement'), rdflib.term.URIRef('http://localhost/web-thing-gateway/things/visualizations/enriched-call'), rdflib.term.URIRef('http://localhost/web-thing-gateway/things/visualizations/time-series-line-chart-with-time-range-selector')]\n",
      "[rdflib.term.URIRef('http://localhost/web-thing-gateway/things/visualizations/colored-measurement')]\n",
      "[rdflib.term.URIRef('http://localhost/web-thing-gateway/things/visualizations/time-series-line-chart-with-time-range-selector'), rdflib.term.URIRef('http://localhost/web-thing-gateway/things/visualizations/enriched-call'), rdflib.term.URIRef('http://localhost/web-thing-gateway/things/visualizations/colored-measurement')]\n",
      "[rdflib.term.URIRef('http://localhost/web-thing-gateway/things/visualizations/time-series-line-chart-with-time-range-selector')]\n",
      "[rdflib.term.URIRef('http://localhost/web-thing-gateway/things/visualizations/time-series-line-chart-with-time-range-selector'), rdflib.term.URIRef('http://localhost/web-thing-gateway/things/visualizations/enriched-call'), rdflib.term.URIRef('http://localhost/web-thing-gateway/things/visualizations/colored-measurement')]\n",
      "[rdflib.term.URIRef('http://localhost/web-thing-gateway/things/visualizations/time-series-line-chart-with-time-range-selector')]\n",
      "[rdflib.term.URIRef('http://localhost/web-thing-gateway/things/visualizations/colored-measurement'), rdflib.term.URIRef('http://localhost/web-thing-gateway/things/visualizations/enriched-call'), rdflib.term.URIRef('http://localhost/web-thing-gateway/things/visualizations/time-series-line-chart-with-time-range-selector')]\n",
      "[rdflib.term.URIRef('http://localhost/web-thing-gateway/things/visualizations/enriched-call')]\n",
      "[rdflib.term.URIRef('http://localhost/web-thing-gateway/things/visualizations/colored-measurement'), rdflib.term.URIRef('http://localhost/web-thing-gateway/things/visualizations/enriched-call'), rdflib.term.URIRef('http://localhost/web-thing-gateway/things/visualizations/time-series-line-chart-with-time-range-selector')]\n",
      "[rdflib.term.URIRef('http://localhost/web-thing-gateway/things/visualizations/enriched-call')]\n",
      "[rdflib.term.URIRef('http://localhost/web-thing-gateway/things/visualizations/colored-measurement'), rdflib.term.URIRef('http://localhost/web-thing-gateway/things/visualizations/enriched-call'), rdflib.term.URIRef('http://localhost/web-thing-gateway/things/visualizations/time-series-line-chart-with-time-range-selector')]\n",
      "[rdflib.term.URIRef('http://localhost/web-thing-gateway/things/visualizations/colored-measurement')]\n",
      "{'f1@1': 0.5, 'ndcg@1': 0.5, 'ndcg@3': 0.8023719014285831}\n",
      "{'f1@1': 0.6, 'ndcg@1': 0.6, 'ndcg@3': 0.8523719014285831}\n",
      "{'f1@1': 0.8, 'ndcg@1': 0.8, 'ndcg@3': 0.9261859507142916}\n",
      "{'f1@1': 0.6, 'ndcg@1': 0.6, 'ndcg@3': 0.8523719014285831}\n",
      "{'f1@1': 0.6666666666666666, 'ndcg@1': 0.6666666666666666, 'ndcg@3': 0.8769765845238192}\n",
      "{'f1@1': 0.6333333333333333, 'ndcg@1': 0.6333333333333333, 'ndcg@3': 0.8620556479047721}\n"
     ]
    },
    {
     "name": "stderr",
     "output_type": "stream",
     "text": [
      "\n"
     ]
    }
   ],
   "source": [
    "recommender = NetworkXPersonalizedPageRank(graph, alpha=0.3)\n",
    "recommender.set_personalization(0.7, 0.3)\n",
    "\n",
    "evaluator = KFoldCrossValidation(recommender, metrics=parsed_metrics, k=5)\n",
    "result = evaluator.evaluate(ratings_df)\n",
    "\n",
    "for fold in result['folds']:\n",
    "    print(fold)\n",
    "print(result['result'])"
   ]
  },
  {
   "cell_type": "code",
   "execution_count": 58,
   "id": "adf16c29-f983-426d-b979-f5e0ecebbb22",
   "metadata": {},
   "outputs": [],
   "source": [
    "class KFoldCrossValidationMF():\n",
    "\n",
    "    def __init__(self, recommender: Recommender, metrics: [], k=5):\n",
    "        \"\"\"\n",
    "        :param project_id: ID of the project (to load the correct data).\n",
    "        :param recommender: Recommender\n",
    "        :param metrics: List of Metrics\n",
    "        :param k: Number of folds\n",
    "        \"\"\"\n",
    "        self.recommender = recommender\n",
    "        self.metrics = metrics\n",
    "        self.k = k\n",
    "\n",
    "    def evaluate(self, ratings, **kwargs):\n",
    "        kf = KFold(n_splits=self.k, shuffle=True)\n",
    "\n",
    "        n_fold = 0\n",
    "\n",
    "        result = {'folds': [], 'result': {}}\n",
    "        for train_idx, test_idx in kf.split(ratings):\n",
    "            train = ratings.iloc[train_idx]\n",
    "            test = ratings.iloc[test_idx]\n",
    "\n",
    "            self.recommender.fit(train)\n",
    "\n",
    "            fold_scores = {}\n",
    "\n",
    "            for uid in tqdm(test['user'].unique()):\n",
    "                df_user = test.loc[test['user'] == uid]\n",
    "\n",
    "                for cid in df_user['context']:\n",
    "                    predictions = self.recommender.predict(str(uid), str(cid), **kwargs)\n",
    "                    recommendations = [r['itemId'] for r in predictions]\n",
    "\n",
    "                    truth = []\n",
    "                    t_user = test.loc[test['user'] == uid]\n",
    "                    for idx, row in t_user.iterrows():\n",
    "                        if row['context'] == cid:\n",
    "                            truth.append(row['item'])\n",
    "                    # truth = list(test.loc[test['user'] == uid].loc[test['context'] == cid]['item'])\n",
    "                    \n",
    "                    print(recommendations)\n",
    "                    print(truth)\n",
    "\n",
    "                    for metric in self.metrics:\n",
    "                        if str(metric) not in fold_scores.keys():\n",
    "                            fold_scores[str(metric)] = []\n",
    "                        score = metric.calculate(recommendations, truth)\n",
    "                        fold_scores[str(metric)].append(score)\n",
    "\n",
    "            result_for_fold = {}\n",
    "            for metric, scores in fold_scores.items():\n",
    "                avg = sum(scores) / len(scores)\n",
    "                result_for_fold[metric] = avg\n",
    "\n",
    "                if metric not in result['result'].keys():\n",
    "                    result['result'][metric] = []\n",
    "                result['result'][metric].append(avg)\n",
    "            result['folds'].append(result_for_fold)\n",
    "\n",
    "            n_fold += 1\n",
    "\n",
    "        final_results = {}\n",
    "        for metric_type, score in result['result'].items():\n",
    "            final_results[metric_type] = sum(score) / len(score)\n",
    "\n",
    "        result['result'] = final_results\n",
    "        return result"
   ]
  },
  {
   "cell_type": "code",
   "execution_count": 81,
   "id": "5cdc8c56-2dcd-41b8-9384-a7949f43ddd9",
   "metadata": {},
   "outputs": [],
   "source": [
    "class MatrixFactorization(Recommender):\n",
    "    def __init__(self, graph: Graph, verbose=False):\n",
    "        super().__init__(graph, verbose)\n",
    "\n",
    "    def _build_model(self):       \n",
    "        model = SVD(lr=0.001, reg=0.005, n_epochs=100, n_factors=15, \n",
    "                    early_stopping=True, shuffle=False, min_rating=0, max_rating=1)\n",
    "        self.model = model\n",
    "        \n",
    "    def fit(self, ratings: pd.DataFrame):\n",
    "        self.users = [str(uid) for uid in ratings['user'].unique()]\n",
    "        self.items = [str(iid) for iid in ratings['item'].unique()]\n",
    "        self.contexts = [str(cid) for cid in ratings['context'].unique()]\n",
    "    \n",
    "        self.ratings = pd.DataFrame({\n",
    "            'u_id': [self.users.index(str(row['user'])) for idx, row in ratings.iterrows()],\n",
    "            'i_id': [self.items.index(str(row['item'])) for idx, row in ratings.iterrows()],\n",
    "            'rating': [row['rating'] for idx, row in ratings.iterrows()],\n",
    "            'c_id': [self.contexts.index(str(row['context'])) for idx, row in ratings.iterrows()]\n",
    "        })\n",
    "        \n",
    "        train = self.ratings.sample(frac=0.8, random_state=7)\n",
    "        val = self.ratings.drop(train.index.tolist())\n",
    "        \n",
    "        self.model.fit(X=train, X_val=val)\n",
    "\n",
    "    def predict(self, uid, cid, *kwargs):           \n",
    "        scores = {}\n",
    "        for iid in self.items:\n",
    "            u_id = self.users.index(uid)\n",
    "            i_id = self.items.index(iid)\n",
    "            \n",
    "            df_ = pd.DataFrame({'u_id': [u_id], 'i_id': [i_id]})\n",
    "            scores[iid] = self.model.predict(df_)[0]\n",
    "\n",
    "        recommendations = [{'contextId': cid, 'itemId': URIRef(item), 'score': score} for item, score in scores.items()]\n",
    "        return sorted(recommendations, key=lambda n: n['score'], reverse=True)\n",
    "\n",
    "    def top_n(self, uid: [], cid: [], n: int, **kwargs):\n",
    "        pass"
   ]
  },
  {
   "cell_type": "code",
   "execution_count": 82,
   "id": "5b23476f-ab53-46e6-bd74-b1ea9f4ba187",
   "metadata": {},
   "outputs": [
    {
     "name": "stdout",
     "output_type": "stream",
     "text": [
      "Preprocessing data...\n",
      "\n",
      "Preprocessing data...\n",
      "\n",
      "Epoch 1/100  | val_loss: 0.00 - val_rmse: 0.04 - val_mae: 0.03 - took 0.0 sec\n",
      "Epoch 2/100  | val_loss: 0.00 - val_rmse: 0.04 - val_mae: 0.03 - took 0.0 sec\n",
      "\n",
      "Training took 0 sec\n"
     ]
    },
    {
     "name": "stderr",
     "output_type": "stream",
     "text": [
      "100%|████████████████████████████████████████████| 4/4 [00:00<00:00, 165.56it/s]\n"
     ]
    },
    {
     "name": "stdout",
     "output_type": "stream",
     "text": [
      "[rdflib.term.URIRef('http://localhost/web-thing-gateway/things/visualizations/colored-measurement'), rdflib.term.URIRef('http://localhost/web-thing-gateway/things/visualizations/enriched-call'), rdflib.term.URIRef('http://localhost/web-thing-gateway/things/visualizations/time-series-line-chart-with-time-range-selector')]\n",
      "[rdflib.term.URIRef('http://localhost/web-thing-gateway/things/visualizations/enriched-call')]\n",
      "[rdflib.term.URIRef('http://localhost/web-thing-gateway/things/visualizations/colored-measurement'), rdflib.term.URIRef('http://localhost/web-thing-gateway/things/visualizations/enriched-call'), rdflib.term.URIRef('http://localhost/web-thing-gateway/things/visualizations/time-series-line-chart-with-time-range-selector')]\n",
      "[rdflib.term.URIRef('http://localhost/web-thing-gateway/things/visualizations/enriched-call')]\n",
      "[rdflib.term.URIRef('http://localhost/web-thing-gateway/things/visualizations/colored-measurement'), rdflib.term.URIRef('http://localhost/web-thing-gateway/things/visualizations/enriched-call'), rdflib.term.URIRef('http://localhost/web-thing-gateway/things/visualizations/time-series-line-chart-with-time-range-selector')]\n",
      "[rdflib.term.URIRef('http://localhost/web-thing-gateway/things/visualizations/colored-measurement')]\n",
      "[rdflib.term.URIRef('http://localhost/web-thing-gateway/things/visualizations/colored-measurement'), rdflib.term.URIRef('http://localhost/web-thing-gateway/things/visualizations/enriched-call'), rdflib.term.URIRef('http://localhost/web-thing-gateway/things/visualizations/time-series-line-chart-with-time-range-selector')]\n",
      "[rdflib.term.URIRef('http://localhost/web-thing-gateway/things/visualizations/enriched-call')]\n",
      "[rdflib.term.URIRef('http://localhost/web-thing-gateway/things/visualizations/colored-measurement'), rdflib.term.URIRef('http://localhost/web-thing-gateway/things/visualizations/enriched-call'), rdflib.term.URIRef('http://localhost/web-thing-gateway/things/visualizations/time-series-line-chart-with-time-range-selector')]\n",
      "[rdflib.term.URIRef('http://localhost/web-thing-gateway/things/visualizations/enriched-call')]\n",
      "[rdflib.term.URIRef('http://localhost/web-thing-gateway/things/visualizations/colored-measurement'), rdflib.term.URIRef('http://localhost/web-thing-gateway/things/visualizations/enriched-call'), rdflib.term.URIRef('http://localhost/web-thing-gateway/things/visualizations/time-series-line-chart-with-time-range-selector')]\n",
      "[rdflib.term.URIRef('http://localhost/web-thing-gateway/things/visualizations/colored-measurement')]\n",
      "[rdflib.term.URIRef('http://localhost/web-thing-gateway/things/visualizations/enriched-call'), rdflib.term.URIRef('http://localhost/web-thing-gateway/things/visualizations/time-series-line-chart-with-time-range-selector'), rdflib.term.URIRef('http://localhost/web-thing-gateway/things/visualizations/colored-measurement')]\n",
      "[rdflib.term.URIRef('http://localhost/web-thing-gateway/things/visualizations/enriched-call')]\n",
      "[rdflib.term.URIRef('http://localhost/web-thing-gateway/things/visualizations/enriched-call'), rdflib.term.URIRef('http://localhost/web-thing-gateway/things/visualizations/time-series-line-chart-with-time-range-selector'), rdflib.term.URIRef('http://localhost/web-thing-gateway/things/visualizations/colored-measurement')]\n",
      "[rdflib.term.URIRef('http://localhost/web-thing-gateway/things/visualizations/time-series-line-chart-with-time-range-selector')]\n",
      "[rdflib.term.URIRef('http://localhost/web-thing-gateway/things/visualizations/enriched-call'), rdflib.term.URIRef('http://localhost/web-thing-gateway/things/visualizations/time-series-line-chart-with-time-range-selector'), rdflib.term.URIRef('http://localhost/web-thing-gateway/things/visualizations/colored-measurement')]\n",
      "[rdflib.term.URIRef('http://localhost/web-thing-gateway/things/visualizations/time-series-line-chart-with-time-range-selector')]\n",
      "[rdflib.term.URIRef('http://localhost/web-thing-gateway/things/visualizations/colored-measurement'), rdflib.term.URIRef('http://localhost/web-thing-gateway/things/visualizations/time-series-line-chart-with-time-range-selector'), rdflib.term.URIRef('http://localhost/web-thing-gateway/things/visualizations/enriched-call')]\n",
      "[rdflib.term.URIRef('http://localhost/web-thing-gateway/things/visualizations/enriched-call')]\n",
      "Preprocessing data...\n",
      "\n",
      "Preprocessing data...\n",
      "\n",
      "Epoch 1/100  | val_loss: 0.00 - val_rmse: 0.03 - val_mae: 0.03 - took 0.0 sec\n",
      "Epoch 2/100  | val_loss: 0.00 - val_rmse: 0.03 - val_mae: 0.03 - took 0.0 sec\n",
      "\n",
      "Training took 0 sec\n"
     ]
    },
    {
     "name": "stderr",
     "output_type": "stream",
     "text": [
      "100%|████████████████████████████████████████████| 4/4 [00:00<00:00, 180.50it/s]\n"
     ]
    },
    {
     "name": "stdout",
     "output_type": "stream",
     "text": [
      "[rdflib.term.URIRef('http://localhost/web-thing-gateway/things/visualizations/time-series-line-chart-with-time-range-selector'), rdflib.term.URIRef('http://localhost/web-thing-gateway/things/visualizations/enriched-call'), rdflib.term.URIRef('http://localhost/web-thing-gateway/things/visualizations/colored-measurement')]\n",
      "[rdflib.term.URIRef('http://localhost/web-thing-gateway/things/visualizations/colored-measurement')]\n",
      "[rdflib.term.URIRef('http://localhost/web-thing-gateway/things/visualizations/time-series-line-chart-with-time-range-selector'), rdflib.term.URIRef('http://localhost/web-thing-gateway/things/visualizations/enriched-call'), rdflib.term.URIRef('http://localhost/web-thing-gateway/things/visualizations/colored-measurement')]\n",
      "[rdflib.term.URIRef('http://localhost/web-thing-gateway/things/visualizations/colored-measurement')]\n",
      "[rdflib.term.URIRef('http://localhost/web-thing-gateway/things/visualizations/enriched-call'), rdflib.term.URIRef('http://localhost/web-thing-gateway/things/visualizations/time-series-line-chart-with-time-range-selector'), rdflib.term.URIRef('http://localhost/web-thing-gateway/things/visualizations/colored-measurement')]\n",
      "[rdflib.term.URIRef('http://localhost/web-thing-gateway/things/visualizations/colored-measurement')]\n",
      "[rdflib.term.URIRef('http://localhost/web-thing-gateway/things/visualizations/enriched-call'), rdflib.term.URIRef('http://localhost/web-thing-gateway/things/visualizations/time-series-line-chart-with-time-range-selector'), rdflib.term.URIRef('http://localhost/web-thing-gateway/things/visualizations/colored-measurement')]\n",
      "[rdflib.term.URIRef('http://localhost/web-thing-gateway/things/visualizations/enriched-call')]\n",
      "[rdflib.term.URIRef('http://localhost/web-thing-gateway/things/visualizations/time-series-line-chart-with-time-range-selector'), rdflib.term.URIRef('http://localhost/web-thing-gateway/things/visualizations/enriched-call'), rdflib.term.URIRef('http://localhost/web-thing-gateway/things/visualizations/colored-measurement')]\n",
      "[rdflib.term.URIRef('http://localhost/web-thing-gateway/things/visualizations/enriched-call')]\n",
      "[rdflib.term.URIRef('http://localhost/web-thing-gateway/things/visualizations/time-series-line-chart-with-time-range-selector'), rdflib.term.URIRef('http://localhost/web-thing-gateway/things/visualizations/enriched-call'), rdflib.term.URIRef('http://localhost/web-thing-gateway/things/visualizations/colored-measurement')]\n",
      "[rdflib.term.URIRef('http://localhost/web-thing-gateway/things/visualizations/time-series-line-chart-with-time-range-selector')]\n",
      "[rdflib.term.URIRef('http://localhost/web-thing-gateway/things/visualizations/time-series-line-chart-with-time-range-selector'), rdflib.term.URIRef('http://localhost/web-thing-gateway/things/visualizations/enriched-call'), rdflib.term.URIRef('http://localhost/web-thing-gateway/things/visualizations/colored-measurement')]\n",
      "[rdflib.term.URIRef('http://localhost/web-thing-gateway/things/visualizations/enriched-call')]\n",
      "[rdflib.term.URIRef('http://localhost/web-thing-gateway/things/visualizations/time-series-line-chart-with-time-range-selector'), rdflib.term.URIRef('http://localhost/web-thing-gateway/things/visualizations/enriched-call'), rdflib.term.URIRef('http://localhost/web-thing-gateway/things/visualizations/colored-measurement')]\n",
      "[rdflib.term.URIRef('http://localhost/web-thing-gateway/things/visualizations/time-series-line-chart-with-time-range-selector')]\n",
      "[rdflib.term.URIRef('http://localhost/web-thing-gateway/things/visualizations/colored-measurement'), rdflib.term.URIRef('http://localhost/web-thing-gateway/things/visualizations/time-series-line-chart-with-time-range-selector'), rdflib.term.URIRef('http://localhost/web-thing-gateway/things/visualizations/enriched-call')]\n",
      "[rdflib.term.URIRef('http://localhost/web-thing-gateway/things/visualizations/colored-measurement')]\n",
      "[rdflib.term.URIRef('http://localhost/web-thing-gateway/things/visualizations/colored-measurement'), rdflib.term.URIRef('http://localhost/web-thing-gateway/things/visualizations/time-series-line-chart-with-time-range-selector'), rdflib.term.URIRef('http://localhost/web-thing-gateway/things/visualizations/enriched-call')]\n",
      "[rdflib.term.URIRef('http://localhost/web-thing-gateway/things/visualizations/colored-measurement')]\n",
      "Preprocessing data...\n",
      "\n",
      "Preprocessing data...\n",
      "\n",
      "Epoch 1/100  | val_loss: 0.00 - val_rmse: 0.03 - val_mae: 0.02 - took 0.0 sec\n",
      "Epoch 2/100  | val_loss: 0.00 - val_rmse: 0.03 - val_mae: 0.02 - took 0.0 sec\n",
      "\n",
      "Training took 0 sec\n"
     ]
    },
    {
     "name": "stderr",
     "output_type": "stream",
     "text": [
      "100%|████████████████████████████████████████████| 4/4 [00:00<00:00, 177.18it/s]\n"
     ]
    },
    {
     "name": "stdout",
     "output_type": "stream",
     "text": [
      "[rdflib.term.URIRef('http://localhost/web-thing-gateway/things/visualizations/enriched-call'), rdflib.term.URIRef('http://localhost/web-thing-gateway/things/visualizations/time-series-line-chart-with-time-range-selector'), rdflib.term.URIRef('http://localhost/web-thing-gateway/things/visualizations/colored-measurement')]\n",
      "[rdflib.term.URIRef('http://localhost/web-thing-gateway/things/visualizations/colored-measurement')]\n",
      "[rdflib.term.URIRef('http://localhost/web-thing-gateway/things/visualizations/enriched-call'), rdflib.term.URIRef('http://localhost/web-thing-gateway/things/visualizations/time-series-line-chart-with-time-range-selector'), rdflib.term.URIRef('http://localhost/web-thing-gateway/things/visualizations/colored-measurement')]\n",
      "[rdflib.term.URIRef('http://localhost/web-thing-gateway/things/visualizations/colored-measurement')]\n",
      "[rdflib.term.URIRef('http://localhost/web-thing-gateway/things/visualizations/enriched-call'), rdflib.term.URIRef('http://localhost/web-thing-gateway/things/visualizations/time-series-line-chart-with-time-range-selector'), rdflib.term.URIRef('http://localhost/web-thing-gateway/things/visualizations/colored-measurement')]\n",
      "[rdflib.term.URIRef('http://localhost/web-thing-gateway/things/visualizations/colored-measurement')]\n",
      "[rdflib.term.URIRef('http://localhost/web-thing-gateway/things/visualizations/colored-measurement'), rdflib.term.URIRef('http://localhost/web-thing-gateway/things/visualizations/time-series-line-chart-with-time-range-selector'), rdflib.term.URIRef('http://localhost/web-thing-gateway/things/visualizations/enriched-call')]\n",
      "[rdflib.term.URIRef('http://localhost/web-thing-gateway/things/visualizations/enriched-call')]\n",
      "[rdflib.term.URIRef('http://localhost/web-thing-gateway/things/visualizations/colored-measurement'), rdflib.term.URIRef('http://localhost/web-thing-gateway/things/visualizations/time-series-line-chart-with-time-range-selector'), rdflib.term.URIRef('http://localhost/web-thing-gateway/things/visualizations/enriched-call')]\n",
      "[rdflib.term.URIRef('http://localhost/web-thing-gateway/things/visualizations/colored-measurement')]\n",
      "[rdflib.term.URIRef('http://localhost/web-thing-gateway/things/visualizations/colored-measurement'), rdflib.term.URIRef('http://localhost/web-thing-gateway/things/visualizations/time-series-line-chart-with-time-range-selector'), rdflib.term.URIRef('http://localhost/web-thing-gateway/things/visualizations/enriched-call')]\n",
      "[rdflib.term.URIRef('http://localhost/web-thing-gateway/things/visualizations/enriched-call')]\n",
      "[rdflib.term.URIRef('http://localhost/web-thing-gateway/things/visualizations/colored-measurement'), rdflib.term.URIRef('http://localhost/web-thing-gateway/things/visualizations/time-series-line-chart-with-time-range-selector'), rdflib.term.URIRef('http://localhost/web-thing-gateway/things/visualizations/enriched-call')]\n",
      "[rdflib.term.URIRef('http://localhost/web-thing-gateway/things/visualizations/time-series-line-chart-with-time-range-selector')]\n",
      "[rdflib.term.URIRef('http://localhost/web-thing-gateway/things/visualizations/colored-measurement'), rdflib.term.URIRef('http://localhost/web-thing-gateway/things/visualizations/enriched-call'), rdflib.term.URIRef('http://localhost/web-thing-gateway/things/visualizations/time-series-line-chart-with-time-range-selector')]\n",
      "[rdflib.term.URIRef('http://localhost/web-thing-gateway/things/visualizations/enriched-call')]\n",
      "[rdflib.term.URIRef('http://localhost/web-thing-gateway/things/visualizations/colored-measurement'), rdflib.term.URIRef('http://localhost/web-thing-gateway/things/visualizations/enriched-call'), rdflib.term.URIRef('http://localhost/web-thing-gateway/things/visualizations/time-series-line-chart-with-time-range-selector')]\n",
      "[rdflib.term.URIRef('http://localhost/web-thing-gateway/things/visualizations/colored-measurement')]\n",
      "[rdflib.term.URIRef('http://localhost/web-thing-gateway/things/visualizations/colored-measurement'), rdflib.term.URIRef('http://localhost/web-thing-gateway/things/visualizations/enriched-call'), rdflib.term.URIRef('http://localhost/web-thing-gateway/things/visualizations/time-series-line-chart-with-time-range-selector')]\n",
      "[rdflib.term.URIRef('http://localhost/web-thing-gateway/things/visualizations/colored-measurement')]\n",
      "Preprocessing data...\n",
      "\n",
      "Preprocessing data...\n",
      "\n",
      "Epoch 1/100  | val_loss: 0.00 - val_rmse: 0.02 - val_mae: 0.02 - took 0.0 sec\n",
      "Epoch 2/100  | val_loss: 0.00 - val_rmse: 0.02 - val_mae: 0.02 - took 0.0 sec\n",
      "\n",
      "Training took 0 sec\n"
     ]
    },
    {
     "name": "stderr",
     "output_type": "stream",
     "text": [
      "100%|████████████████████████████████████████████| 4/4 [00:00<00:00, 146.63it/s]\n"
     ]
    },
    {
     "name": "stdout",
     "output_type": "stream",
     "text": [
      "[rdflib.term.URIRef('http://localhost/web-thing-gateway/things/visualizations/time-series-line-chart-with-time-range-selector'), rdflib.term.URIRef('http://localhost/web-thing-gateway/things/visualizations/colored-measurement'), rdflib.term.URIRef('http://localhost/web-thing-gateway/things/visualizations/enriched-call')]\n",
      "[rdflib.term.URIRef('http://localhost/web-thing-gateway/things/visualizations/enriched-call')]\n",
      "[rdflib.term.URIRef('http://localhost/web-thing-gateway/things/visualizations/time-series-line-chart-with-time-range-selector'), rdflib.term.URIRef('http://localhost/web-thing-gateway/things/visualizations/colored-measurement'), rdflib.term.URIRef('http://localhost/web-thing-gateway/things/visualizations/enriched-call')]\n",
      "[rdflib.term.URIRef('http://localhost/web-thing-gateway/things/visualizations/colored-measurement')]\n",
      "[rdflib.term.URIRef('http://localhost/web-thing-gateway/things/visualizations/time-series-line-chart-with-time-range-selector'), rdflib.term.URIRef('http://localhost/web-thing-gateway/things/visualizations/colored-measurement'), rdflib.term.URIRef('http://localhost/web-thing-gateway/things/visualizations/enriched-call')]\n",
      "[rdflib.term.URIRef('http://localhost/web-thing-gateway/things/visualizations/enriched-call')]\n",
      "[rdflib.term.URIRef('http://localhost/web-thing-gateway/things/visualizations/time-series-line-chart-with-time-range-selector'), rdflib.term.URIRef('http://localhost/web-thing-gateway/things/visualizations/colored-measurement'), rdflib.term.URIRef('http://localhost/web-thing-gateway/things/visualizations/enriched-call')]\n",
      "[rdflib.term.URIRef('http://localhost/web-thing-gateway/things/visualizations/colored-measurement')]\n",
      "[rdflib.term.URIRef('http://localhost/web-thing-gateway/things/visualizations/time-series-line-chart-with-time-range-selector'), rdflib.term.URIRef('http://localhost/web-thing-gateway/things/visualizations/enriched-call'), rdflib.term.URIRef('http://localhost/web-thing-gateway/things/visualizations/colored-measurement')]\n",
      "[rdflib.term.URIRef('http://localhost/web-thing-gateway/things/visualizations/colored-measurement')]\n",
      "[rdflib.term.URIRef('http://localhost/web-thing-gateway/things/visualizations/time-series-line-chart-with-time-range-selector'), rdflib.term.URIRef('http://localhost/web-thing-gateway/things/visualizations/enriched-call'), rdflib.term.URIRef('http://localhost/web-thing-gateway/things/visualizations/colored-measurement')]\n",
      "[rdflib.term.URIRef('http://localhost/web-thing-gateway/things/visualizations/enriched-call')]\n",
      "[rdflib.term.URIRef('http://localhost/web-thing-gateway/things/visualizations/time-series-line-chart-with-time-range-selector'), rdflib.term.URIRef('http://localhost/web-thing-gateway/things/visualizations/enriched-call'), rdflib.term.URIRef('http://localhost/web-thing-gateway/things/visualizations/colored-measurement')]\n",
      "[rdflib.term.URIRef('http://localhost/web-thing-gateway/things/visualizations/colored-measurement')]\n",
      "[rdflib.term.URIRef('http://localhost/web-thing-gateway/things/visualizations/colored-measurement'), rdflib.term.URIRef('http://localhost/web-thing-gateway/things/visualizations/enriched-call'), rdflib.term.URIRef('http://localhost/web-thing-gateway/things/visualizations/time-series-line-chart-with-time-range-selector')]\n",
      "[rdflib.term.URIRef('http://localhost/web-thing-gateway/things/visualizations/enriched-call')]\n",
      "[rdflib.term.URIRef('http://localhost/web-thing-gateway/things/visualizations/enriched-call'), rdflib.term.URIRef('http://localhost/web-thing-gateway/things/visualizations/colored-measurement'), rdflib.term.URIRef('http://localhost/web-thing-gateway/things/visualizations/time-series-line-chart-with-time-range-selector')]\n",
      "[rdflib.term.URIRef('http://localhost/web-thing-gateway/things/visualizations/colored-measurement')]\n",
      "[rdflib.term.URIRef('http://localhost/web-thing-gateway/things/visualizations/enriched-call'), rdflib.term.URIRef('http://localhost/web-thing-gateway/things/visualizations/colored-measurement'), rdflib.term.URIRef('http://localhost/web-thing-gateway/things/visualizations/time-series-line-chart-with-time-range-selector')]\n",
      "[rdflib.term.URIRef('http://localhost/web-thing-gateway/things/visualizations/enriched-call')]\n",
      "Preprocessing data...\n",
      "\n",
      "Preprocessing data...\n",
      "\n",
      "Epoch 1/100  | val_loss: 0.00 - val_rmse: 0.03 - val_mae: 0.02 - took 0.0 sec\n",
      "Epoch 2/100  | val_loss: 0.00 - val_rmse: 0.03 - val_mae: 0.02 - took 0.0 sec\n",
      "\n",
      "Training took 0 sec\n"
     ]
    },
    {
     "name": "stderr",
     "output_type": "stream",
     "text": [
      "  0%|                                                     | 0/4 [00:00<?, ?it/s]"
     ]
    },
    {
     "name": "stdout",
     "output_type": "stream",
     "text": [
      "[rdflib.term.URIRef('http://localhost/web-thing-gateway/things/visualizations/enriched-call'), rdflib.term.URIRef('http://localhost/web-thing-gateway/things/visualizations/time-series-line-chart-with-time-range-selector'), rdflib.term.URIRef('http://localhost/web-thing-gateway/things/visualizations/colored-measurement')]\n",
      "[rdflib.term.URIRef('http://localhost/web-thing-gateway/things/visualizations/colored-measurement')]\n",
      "[rdflib.term.URIRef('http://localhost/web-thing-gateway/things/visualizations/enriched-call'), rdflib.term.URIRef('http://localhost/web-thing-gateway/things/visualizations/time-series-line-chart-with-time-range-selector'), rdflib.term.URIRef('http://localhost/web-thing-gateway/things/visualizations/colored-measurement')]\n",
      "[rdflib.term.URIRef('http://localhost/web-thing-gateway/things/visualizations/colored-measurement')]\n",
      "[rdflib.term.URIRef('http://localhost/web-thing-gateway/things/visualizations/enriched-call'), rdflib.term.URIRef('http://localhost/web-thing-gateway/things/visualizations/time-series-line-chart-with-time-range-selector'), rdflib.term.URIRef('http://localhost/web-thing-gateway/things/visualizations/colored-measurement')]\n",
      "[rdflib.term.URIRef('http://localhost/web-thing-gateway/things/visualizations/enriched-call')]\n",
      "[rdflib.term.URIRef('http://localhost/web-thing-gateway/things/visualizations/enriched-call'), rdflib.term.URIRef('http://localhost/web-thing-gateway/things/visualizations/time-series-line-chart-with-time-range-selector'), rdflib.term.URIRef('http://localhost/web-thing-gateway/things/visualizations/colored-measurement')]\n",
      "[rdflib.term.URIRef('http://localhost/web-thing-gateway/things/visualizations/colored-measurement')]\n",
      "[rdflib.term.URIRef('http://localhost/web-thing-gateway/things/visualizations/enriched-call'), rdflib.term.URIRef('http://localhost/web-thing-gateway/things/visualizations/time-series-line-chart-with-time-range-selector'), rdflib.term.URIRef('http://localhost/web-thing-gateway/things/visualizations/colored-measurement')]\n",
      "[rdflib.term.URIRef('http://localhost/web-thing-gateway/things/visualizations/colored-measurement')]\n",
      "[rdflib.term.URIRef('http://localhost/web-thing-gateway/things/visualizations/colored-measurement'), rdflib.term.URIRef('http://localhost/web-thing-gateway/things/visualizations/enriched-call'), rdflib.term.URIRef('http://localhost/web-thing-gateway/things/visualizations/time-series-line-chart-with-time-range-selector')]\n",
      "[rdflib.term.URIRef('http://localhost/web-thing-gateway/things/visualizations/colored-measurement')]\n"
     ]
    },
    {
     "name": "stderr",
     "output_type": "stream",
     "text": [
      "100%|████████████████████████████████████████████| 4/4 [00:00<00:00, 200.57it/s]"
     ]
    },
    {
     "name": "stdout",
     "output_type": "stream",
     "text": [
      "[rdflib.term.URIRef('http://localhost/web-thing-gateway/things/visualizations/enriched-call'), rdflib.term.URIRef('http://localhost/web-thing-gateway/things/visualizations/time-series-line-chart-with-time-range-selector'), rdflib.term.URIRef('http://localhost/web-thing-gateway/things/visualizations/colored-measurement')]\n",
      "[rdflib.term.URIRef('http://localhost/web-thing-gateway/things/visualizations/colored-measurement')]\n",
      "[rdflib.term.URIRef('http://localhost/web-thing-gateway/things/visualizations/enriched-call'), rdflib.term.URIRef('http://localhost/web-thing-gateway/things/visualizations/time-series-line-chart-with-time-range-selector'), rdflib.term.URIRef('http://localhost/web-thing-gateway/things/visualizations/colored-measurement')]\n",
      "[rdflib.term.URIRef('http://localhost/web-thing-gateway/things/visualizations/time-series-line-chart-with-time-range-selector')]\n",
      "[rdflib.term.URIRef('http://localhost/web-thing-gateway/things/visualizations/enriched-call'), rdflib.term.URIRef('http://localhost/web-thing-gateway/things/visualizations/time-series-line-chart-with-time-range-selector'), rdflib.term.URIRef('http://localhost/web-thing-gateway/things/visualizations/colored-measurement')]\n",
      "[rdflib.term.URIRef('http://localhost/web-thing-gateway/things/visualizations/enriched-call')]\n",
      "{'f1@1': 0.3, 'ndcg@1': 0.3, 'ndcg@3': 0.7285578521428746}\n",
      "{'f1@1': 0.5, 'ndcg@1': 0.5, 'ndcg@3': 0.7761859507142915}\n",
      "{'f1@1': 0.3, 'ndcg@1': 0.3, 'ndcg@3': 0.6761859507142916}\n",
      "{'f1@1': 0.1, 'ndcg@1': 0.1, 'ndcg@3': 0.6154648767857288}\n",
      "{'f1@1': 0.3333333333333333, 'ndcg@1': 0.3333333333333333, 'ndcg@3': 0.6812144170634953}\n",
      "{'f1@1': 0.3066666666666667, 'ndcg@1': 0.3066666666666667, 'ndcg@3': 0.6955218094841363}\n"
     ]
    },
    {
     "name": "stderr",
     "output_type": "stream",
     "text": [
      "\n"
     ]
    }
   ],
   "source": [
    "recommender = MatrixFactorization(graph)\n",
    "\n",
    "evaluator = KFoldCrossValidationMF(recommender, metrics=parsed_metrics, k=5)\n",
    "result = evaluator.evaluate(ratings_df)\n",
    "\n",
    "for fold in result['folds']:\n",
    "    print(fold)\n",
    "print(result['result'])"
   ]
  },
  {
   "cell_type": "code",
   "execution_count": null,
   "id": "049d7724-2be1-443f-84d2-e6164bfe4995",
   "metadata": {},
   "outputs": [],
   "source": []
  },
  {
   "cell_type": "code",
   "execution_count": null,
   "id": "7a1055ad-2257-46f8-b11f-159a39cabc04",
   "metadata": {},
   "outputs": [],
   "source": []
  }
 ],
 "metadata": {
  "kernelspec": {
   "display_name": "Python 3 (ipykernel)",
   "language": "python",
   "name": "python3"
  },
  "language_info": {
   "codemirror_mode": {
    "name": "ipython",
    "version": 3
   },
   "file_extension": ".py",
   "mimetype": "text/x-python",
   "name": "python",
   "nbconvert_exporter": "python",
   "pygments_lexer": "ipython3",
   "version": "3.9.7"
  }
 },
 "nbformat": 4,
 "nbformat_minor": 5
}
