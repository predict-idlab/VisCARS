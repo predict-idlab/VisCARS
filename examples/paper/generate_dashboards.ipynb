{
 "cells": [
  {
   "cell_type": "code",
   "execution_count": 1,
   "metadata": {
    "collapsed": true
   },
   "outputs": [],
   "source": [
    "from rdflib import Graph\n",
    "\n",
    "from viscars.dao import ContentRecommenderDAO, VisualizationRecommenderDAO\n",
    "from viscars.recommenders.cacf import ContextAwareCollaborativeFiltering"
   ]
  },
  {
   "cell_type": "markdown",
   "source": [
    "## Load the data"
   ],
   "metadata": {
    "collapsed": false
   }
  },
  {
   "cell_type": "code",
   "execution_count": 2,
   "outputs": [
    {
     "data": {
      "text/plain": "<Graph identifier=N9cdf743b922d4e02a837ccd9ab4182c5 (<class 'rdflib.graph.Graph'>)>"
     },
     "execution_count": 2,
     "metadata": {},
     "output_type": "execute_result"
    }
   ],
   "source": [
    "graph_ = Graph()\n",
    "graph_.parse('../data/protego/protego_ddashboard.ttl')\n",
    "graph_.parse('../data/protego/protego_zplus.ttl')\n",
    "graph_.parse('../data/protego/visualizations.ttl')"
   ],
   "metadata": {
    "collapsed": false
   }
  },
  {
   "cell_type": "markdown",
   "source": [
    "## Build the two-stage recommender system"
   ],
   "metadata": {
    "collapsed": false
   }
  },
  {
   "cell_type": "code",
   "execution_count": 3,
   "outputs": [],
   "source": [
    "class RecommendationPipeline:\n",
    "\n",
    "    def __init__(self):\n",
    "        self.content_dao = ContentRecommenderDAO(graph_)\n",
    "        self.content_recommender = ContextAwareCollaborativeFiltering(self.content_dao, cbcf_w=0.5, ubcf_w=0.5, verbose=False)\n",
    "        self.vis_dao = VisualizationRecommenderDAO(graph_)\n",
    "        self.visualization_recommender = ContextAwareCollaborativeFiltering(self.vis_dao, ubcf_w=1, verbose=False)\n",
    "\n",
    "    def recommend_dashboard(self, u_id, c_id):\n",
    "        content_recommendations = self.content_recommender.predict(u_id, c_id, k=5)\n",
    "\n",
    "        # Find cutoff for Multiple-View recommendation\n",
    "        # We recommend the top x items, where x is the average number of items rated by users in the context\n",
    "        ratings = self.content_dao.ratings[(self.content_dao.ratings['c_id'] == c_id)]\n",
    "        c = int(ratings.value_counts('u_id').mean())\n",
    "\n",
    "        dashboard = []\n",
    "        for r in content_recommendations[:c]:\n",
    "            visualization_recommendations = self.visualization_recommender.predict(u_id, r['itemId'], k=5)\n",
    "            recommendation = visualization_recommendations[0]\n",
    "            dashboard.append({'propertyId': recommendation['contextId'], 'visualizationId': recommendation['itemId']})\n",
    "        return dashboard"
   ],
   "metadata": {
    "collapsed": false
   }
  },
  {
   "cell_type": "markdown",
   "source": [
    "## Generate dashboards examples"
   ],
   "metadata": {
    "collapsed": false
   }
  },
  {
   "cell_type": "code",
   "execution_count": 4,
   "outputs": [
    {
     "name": "stderr",
     "output_type": "stream",
     "text": [
      "[2024-02-12 16:59:37,209] - [viscars.recommenders.base] - [INFO] Building model...\n",
      "[2024-02-12 16:59:37,210] - [viscars.recommenders.base] - [INFO] Calculating CBCF similarities...\n",
      "[2024-02-12 17:00:19,695] - [viscars.recommenders.base] - [INFO] Calculating UBCF similarities...\n",
      "[2024-02-12 17:00:19,709] - [viscars.recommenders.base] - [INFO] Model built.\n",
      "[2024-02-12 17:00:21,062] - [viscars.recommenders.base] - [INFO] Building model...\n",
      "[2024-02-12 17:00:21,062] - [viscars.recommenders.base] - [INFO] Building model...\n",
      "[2024-02-12 17:00:21,063] - [viscars.recommenders.base] - [INFO] Calculating UBCF similarities...\n",
      "[2024-02-12 17:00:21,063] - [viscars.recommenders.base] - [INFO] Calculating UBCF similarities...\n",
      "[2024-02-12 17:00:21,072] - [viscars.recommenders.base] - [INFO] Model built.\n",
      "[2024-02-12 17:00:21,072] - [viscars.recommenders.base] - [INFO] Model built.\n"
     ]
    }
   ],
   "source": [
    "recommender = RecommendationPipeline()"
   ],
   "metadata": {
    "collapsed": false
   }
  },
  {
   "cell_type": "markdown",
   "source": [
    "### Patient (Diabetes) - Nurse"
   ],
   "metadata": {
    "collapsed": false
   }
  },
  {
   "cell_type": "code",
   "execution_count": 5,
   "outputs": [],
   "source": [
    "user = 'https://dynamicdashboard.ilabt.imec.be/users/5'  # Nurse\n",
    "context = 'http://example.com/tx/patients/zplus_6'  # Diabetes\n",
    "\n",
    "nurse_diabetes = recommender.recommend_dashboard(user, context)"
   ],
   "metadata": {
    "collapsed": false
   }
  },
  {
   "cell_type": "code",
   "execution_count": 6,
   "outputs": [
    {
     "name": "stdout",
     "output_type": "stream",
     "text": [
      "[{'propertyId': 'https://webthing.protego.dynamicdashboard.ilabt.imec.be/things/zplus_6.lifestyle/properties/enriched-call', 'visualizationId': 'http://localhost/web-thing-gateway/things/visualizations/enriched-call'}, {'propertyId': 'https://webthing.protego.dynamicdashboard.ilabt.imec.be/things/zplus_6.60%3A77%3A71%3A7D%3A93%3AD7%2Fservice0009/properties/org.dyamand.types.health.GlucoseLevel', 'visualizationId': 'http://localhost/web-thing-gateway/things/visualizations/time-series-line-chart-with-time-range-selector'}, {'propertyId': 'https://webthing.protego.dynamicdashboard.ilabt.imec.be/things/zplus_6.AQURA_10_10_145_9/properties/org.dyamand.aqura.AquraLocationState_Protego%20User', 'visualizationId': 'http://localhost/web-thing-gateway/things/visualizations/scrolling-table'}]\n"
     ]
    }
   ],
   "source": [
    "print(nurse_diabetes)"
   ],
   "metadata": {
    "collapsed": false
   }
  },
  {
   "cell_type": "markdown",
   "source": [
    "### Patient (HeartDisease) - Nurse"
   ],
   "metadata": {
    "collapsed": false
   }
  },
  {
   "cell_type": "code",
   "execution_count": 7,
   "outputs": [],
   "source": [
    "user = 'https://dynamicdashboard.ilabt.imec.be/users/5'  # Nurse\n",
    "context = 'http://example.com/tx/patients/zplus_235'  # HeartDisease\n",
    "\n",
    "nurse_heartdisease = recommender.recommend_dashboard(user, context)"
   ],
   "metadata": {
    "collapsed": false
   }
  },
  {
   "cell_type": "code",
   "execution_count": 8,
   "outputs": [
    {
     "name": "stdout",
     "output_type": "stream",
     "text": [
      "[{'propertyId': 'https://webthing.protego.dynamicdashboard.ilabt.imec.be/things/zplus_235.lifestyle/properties/enriched-call', 'visualizationId': 'http://localhost/web-thing-gateway/things/visualizations/enriched-call'}, {'propertyId': 'https://webthing.protego.dynamicdashboard.ilabt.imec.be/things/zplus_235.00%3A9D%3A6B%3A89%3A43%3ACD%2Fservice0025/properties/org.dyamand.types.health.DiastolicBloodPressure', 'visualizationId': 'http://localhost/web-thing-gateway/things/visualizations/time-series-line-chart-with-time-range-selector'}, {'propertyId': 'https://webthing.protego.dynamicdashboard.ilabt.imec.be/things/zplus_235.00%3A9D%3A6B%3A89%3A43%3ACD%2Fservice0025/properties/org.dyamand.types.health.SystolicBloodPressure', 'visualizationId': 'http://localhost/web-thing-gateway/things/visualizations/time-series-line-chart-with-time-range-selector'}, {'propertyId': 'https://webthing.protego.dynamicdashboard.ilabt.imec.be/things/zplus_235.00%3A1C%3A05%3AFF%3AA9%3A4E%2Fservice0029/properties/org.dyamand.types.health.SpO2', 'visualizationId': 'http://localhost/web-thing-gateway/things/visualizations/colored-measurement'}, {'propertyId': 'https://webthing.protego.dynamicdashboard.ilabt.imec.be/things/zplus_235.00%3A1C%3A05%3AFF%3AA9%3A4E%2Fservice0029/properties/org.dyamand.types.health.HeartRate', 'visualizationId': 'http://localhost/web-thing-gateway/things/visualizations/time-series-line-chart-with-time-range-selector'}, {'propertyId': 'https://webthing.protego.dynamicdashboard.ilabt.imec.be/things/zplus_235.AQURA_10_10_145_9/properties/org.dyamand.aqura.AquraLocationState_Protego%20User', 'visualizationId': 'http://localhost/web-thing-gateway/things/visualizations/scrolling-table'}]\n"
     ]
    }
   ],
   "source": [
    "print(nurse_heartdisease)"
   ],
   "metadata": {
    "collapsed": false
   }
  },
  {
   "cell_type": "markdown",
   "source": [
    "### Patient (HeartDisease) - Operator"
   ],
   "metadata": {
    "collapsed": false
   }
  },
  {
   "cell_type": "code",
   "execution_count": 9,
   "outputs": [],
   "source": [
    "user = 'https://dynamicdashboard.ilabt.imec.be/users/4'  # Operator\n",
    "context = 'http://example.com/tx/patients/zplus_235'  # HeartDisease\n",
    "\n",
    "operator_heartdisease = recommender.recommend_dashboard(user, context)"
   ],
   "metadata": {
    "collapsed": false
   }
  },
  {
   "cell_type": "code",
   "execution_count": 10,
   "outputs": [
    {
     "name": "stdout",
     "output_type": "stream",
     "text": [
      "[{'propertyId': 'https://webthing.protego.dynamicdashboard.ilabt.imec.be/things/zplus_235.lifestyle/properties/enriched-call', 'visualizationId': 'http://localhost/web-thing-gateway/things/visualizations/enriched-call'}, {'propertyId': 'https://webthing.protego.dynamicdashboard.ilabt.imec.be/things/zplus_235.00%3A9D%3A6B%3A89%3A43%3ACD%2Fservice0025/properties/org.dyamand.types.health.DiastolicBloodPressure', 'visualizationId': 'http://localhost/web-thing-gateway/things/visualizations/time-series-line-chart-with-time-range-selector'}, {'propertyId': 'https://webthing.protego.dynamicdashboard.ilabt.imec.be/things/zplus_235.00%3A9D%3A6B%3A89%3A43%3ACD%2Fservice0025/properties/org.dyamand.types.health.SystolicBloodPressure', 'visualizationId': 'http://localhost/web-thing-gateway/things/visualizations/time-series-line-chart-with-time-range-selector'}, {'propertyId': 'https://webthing.protego.dynamicdashboard.ilabt.imec.be/things/zplus_235.00%3A1C%3A05%3AFF%3AA9%3A4E%2Fservice0029/properties/org.dyamand.types.health.SpO2', 'visualizationId': 'http://localhost/web-thing-gateway/things/visualizations/colored-measurement'}, {'propertyId': 'https://webthing.protego.dynamicdashboard.ilabt.imec.be/things/zplus_235.00%3A1C%3A05%3AFF%3AA9%3A4E%2Fservice0029/properties/org.dyamand.types.health.HeartRate', 'visualizationId': 'http://localhost/web-thing-gateway/things/visualizations/time-series-line-chart-with-time-range-selector'}, {'propertyId': 'https://webthing.protego.dynamicdashboard.ilabt.imec.be/things/zplus_235.AQURA_10_10_145_9/properties/org.dyamand.aqura.AquraLocationState_Protego%20User', 'visualizationId': 'http://localhost/web-thing-gateway/things/visualizations/scrolling-table'}]\n"
     ]
    }
   ],
   "source": [
    "print(operator_heartdisease)"
   ],
   "metadata": {
    "collapsed": false
   }
  }
 ],
 "metadata": {
  "kernelspec": {
   "display_name": "Python 3",
   "language": "python",
   "name": "python3"
  },
  "language_info": {
   "codemirror_mode": {
    "name": "ipython",
    "version": 2
   },
   "file_extension": ".py",
   "mimetype": "text/x-python",
   "name": "python",
   "nbconvert_exporter": "python",
   "pygments_lexer": "ipython2",
   "version": "2.7.6"
  }
 },
 "nbformat": 4,
 "nbformat_minor": 0
}
